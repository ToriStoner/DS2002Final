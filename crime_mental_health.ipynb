{
 "cells": [
  {
   "cell_type": "code",
   "execution_count": 28,
   "metadata": {},
   "outputs": [],
   "source": [
    "import pandas as pd\n",
    "from ETLPipeline.extract.get_data_from_kaggle import download_crime_dataset, download_mental_health_dataset\n",
    "from ETLPipeline.transform.transform_functions import transform_country_names\n",
    "from ETLPipeline.load.mysql import create_database, create_connection"
   ]
  },
  {
   "cell_type": "markdown",
   "metadata": {},
   "source": [
    "### Extract data from source (Kaggle)"
   ]
  },
  {
   "cell_type": "code",
   "execution_count": 29,
   "metadata": {},
   "outputs": [],
   "source": [
    "crime_dataset_path = download_crime_dataset() + \"/crime-trends-and-operations-of-criminal-justice-systems-un-cts-csv-1.csv\"\n",
    "mental_health_dataset_path = download_mental_health_dataset() + \"/Mental health Depression disorder Data.csv\""
   ]
  },
  {
   "cell_type": "code",
   "execution_count": 30,
   "metadata": {},
   "outputs": [],
   "source": [
    "# Load csv files into pandas dataframes\n",
    "crime_df = pd.read_csv(crime_dataset_path)\n",
    "mental_health_df = pd.read_csv(mental_health_dataset_path, index_col=0, low_memory=False)"
   ]
  },
  {
   "cell_type": "markdown",
   "metadata": {},
   "source": [
    "### Transform"
   ]
  },
  {
   "cell_type": "markdown",
   "metadata": {},
   "source": [
    "Remove second dataset that is a part of the mental health disorders one\n"
   ]
  },
  {
   "cell_type": "code",
   "execution_count": 31,
   "metadata": {},
   "outputs": [],
   "source": [
    "new_dataset_index = mental_health_df[mental_health_df['Entity'] == 'Entity'].index[0]\n",
    "mental_health_df = mental_health_df.loc[:new_dataset_index - 1]"
   ]
  },
  {
   "cell_type": "markdown",
   "metadata": {},
   "source": [
    "Remove unneeded columns, and coerce other columns to ensure numeric"
   ]
  },
  {
   "cell_type": "code",
   "execution_count": 32,
   "metadata": {},
   "outputs": [],
   "source": [
    "mhd_columns_to_remove = [\"Code\", \"Bipolar disorder (%)\", \"Eating disorders (%)\"]\n",
    "mental_health_df = mental_health_df.drop(columns=mhd_columns_to_remove)\n",
    "\n",
    "crime_df = crime_df.drop(columns=[\"sexual violence\"])\n",
    "\n",
    "mhd_numeric_columns = [\"Year\", \"Schizophrenia (%)\", \"Anxiety disorders (%)\", \"Drug use disorders (%)\", \"Depression (%)\", \"Alcohol use disorders (%)\"]\n",
    "crime_numeric_columns = [\"date\", \"rate\"]\n",
    "\n",
    "# Convert mental health columns to numeric\n",
    "for col in mhd_numeric_columns:\n",
    "    mental_health_df[col] = pd.to_numeric(mental_health_df[col], errors=\"coerce\")\n",
    "\n",
    "\n",
    "# Convert crime to numeric\n",
    "for col in crime_numeric_columns:\n",
    "    crime_df[col] = pd.to_numeric(crime_df[col], errors=\"coerce\")"
   ]
  },
  {
   "cell_type": "markdown",
   "metadata": {},
   "source": [
    "Rename crime's columns to ensure they match mental health dataset"
   ]
  },
  {
   "cell_type": "code",
   "execution_count": 33,
   "metadata": {},
   "outputs": [],
   "source": [
    "crime_df.rename(columns={\"country/territory\": \"Entity\", \"date\":\"Year\", \"rate\": \"Sexual Violence Rate\"}, inplace=True)"
   ]
  },
  {
   "cell_type": "markdown",
   "metadata": {},
   "source": [
    "Update the names of the territories to ensure both datasets share the same country names\n"
   ]
  },
  {
   "cell_type": "code",
   "execution_count": 34,
   "metadata": {},
   "outputs": [],
   "source": [
    "crime_df = crime_df.apply(transform_country_names, axis=1)"
   ]
  },
  {
   "cell_type": "markdown",
   "metadata": {},
   "source": [
    "Concatenate the 'England' and 'Wales' rows into a new one"
   ]
  },
  {
   "cell_type": "code",
   "execution_count": 35,
   "metadata": {},
   "outputs": [],
   "source": [
    "# Get averaged values for each year\n",
    "filtered = mental_health_df[mental_health_df['Entity'].isin(['England', 'Wales'])]\n",
    "filtered = filtered.groupby('Year').mean(numeric_only=True).reset_index()\n",
    "# Drop original England and Wales rows\n",
    "mental_health_df = mental_health_df[~mental_health_df['Entity'].isin(['England', 'Wales'])]"
   ]
  },
  {
   "cell_type": "code",
   "execution_count": 36,
   "metadata": {},
   "outputs": [],
   "source": [
    "# Append the filtered DF to the mental health one \n",
    "filtered[\"Entity\"] = \"United Kingdom (England and Wales)\"\n",
    "mental_health_df = pd.concat([mental_health_df, filtered]).reset_index(drop=True)"
   ]
  },
  {
   "cell_type": "markdown",
   "metadata": {},
   "source": [
    "Combine our crime and mental health datasets on Entity and year to exclude all the data not present in both"
   ]
  },
  {
   "cell_type": "code",
   "execution_count": 37,
   "metadata": {},
   "outputs": [],
   "source": [
    "crime_df = crime_df.dropna()\n",
    "res = pd.merge(mental_health_df, crime_df, on=[\"Entity\", \"Year\"])"
   ]
  },
  {
   "cell_type": "code",
   "execution_count": null,
   "metadata": {},
   "outputs": [
    {
     "data": {
      "text/plain": [
       "defaultdict(set,\n",
       "            {'Albania': {2005, 2006, 2007, 2008, 2009, 2010, 2011},\n",
       "             'Algeria': {2006, 2007, 2008, 2009, 2010, 2011},\n",
       "             'Argentina': {2007, 2008},\n",
       "             'Armenia': {2004, 2005, 2006, 2007, 2008, 2009, 2010, 2011},\n",
       "             'Australia': {2008, 2009, 2010, 2011},\n",
       "             'Austria': {2004, 2005, 2006, 2007, 2008, 2009, 2010, 2011},\n",
       "             'Azerbaijan': {2007, 2008, 2009, 2010},\n",
       "             'Bahamas': {2005, 2006, 2007, 2008, 2009, 2010, 2011},\n",
       "             'Bahrain': {2007, 2008},\n",
       "             'Barbados': {2009},\n",
       "             'Belarus': {2004, 2005, 2006, 2007, 2008, 2009},\n",
       "             'Belgium': {2003, 2005, 2006, 2007, 2008, 2009, 2010, 2011},\n",
       "             'Belize': {2009, 2010, 2011},\n",
       "             'Bolivia': {2005, 2006, 2007, 2008, 2009, 2010, 2011},\n",
       "             'Bosnia and Herzegovina': {2007, 2008, 2009, 2010, 2011},\n",
       "             'Brazil': {2006, 2007, 2008, 2009, 2010, 2011},\n",
       "             'Bulgaria': {2003,\n",
       "              2004,\n",
       "              2005,\n",
       "              2006,\n",
       "              2007,\n",
       "              2008,\n",
       "              2009,\n",
       "              2010,\n",
       "              2011},\n",
       "             'Burundi': {2008, 2009, 2010, 2011},\n",
       "             'Canada': {2003, 2004, 2005, 2006, 2007, 2008, 2009, 2010, 2011},\n",
       "             'Chile': {2006, 2007, 2008, 2009, 2010, 2011},\n",
       "             'Colombia': {2004, 2005, 2006, 2007, 2008, 2009, 2010, 2011},\n",
       "             'Costa Rica': {2006, 2007, 2008, 2009, 2010, 2011},\n",
       "             \"Cote d'Ivoire\": {2007, 2008},\n",
       "             'Croatia': {2003, 2004, 2005, 2006, 2007, 2008, 2009, 2010, 2011},\n",
       "             'Cyprus': {2004, 2005, 2006, 2007, 2008, 2009, 2010, 2011},\n",
       "             'Czech Republic': {2003,\n",
       "              2004,\n",
       "              2005,\n",
       "              2006,\n",
       "              2007,\n",
       "              2008,\n",
       "              2009,\n",
       "              2010,\n",
       "              2011},\n",
       "             'Egypt': {2006, 2007, 2008, 2009, 2010, 2011},\n",
       "             'El Salvador': {2007, 2008, 2009, 2010, 2011},\n",
       "             'Estonia': {2003, 2004, 2005, 2006, 2007, 2008, 2009},\n",
       "             'Finland': {2003, 2004, 2005, 2006, 2007, 2008, 2009, 2010, 2011},\n",
       "             'France': {2003, 2004, 2005, 2006, 2007, 2008, 2009, 2010, 2011},\n",
       "             'Georgia': {2004, 2005, 2006, 2007, 2008, 2009, 2010},\n",
       "             'Germany': {2003, 2004, 2005, 2006, 2007, 2008, 2009, 2010, 2011},\n",
       "             'Greece': {2003, 2004, 2005, 2006, 2007, 2008, 2009, 2010, 2011},\n",
       "             'Grenada': {2005, 2006, 2007, 2008, 2009, 2010},\n",
       "             'Guatemala': {2004, 2005, 2006, 2007, 2008, 2009},\n",
       "             'Guinea': {2007},\n",
       "             'Guyana': {2005, 2006, 2007, 2008, 2009, 2010, 2011},\n",
       "             'Honduras': {2011},\n",
       "             'Hungary': {2003, 2004, 2005, 2006, 2007, 2008, 2009, 2010, 2011},\n",
       "             'Iceland': {2005, 2006, 2007, 2008},\n",
       "             'India': {2004, 2005, 2006, 2007, 2008, 2009, 2010},\n",
       "             'Ireland': {2004, 2005, 2006, 2007, 2008, 2009, 2010, 2011},\n",
       "             'Israel': {2004, 2005, 2006, 2007, 2008, 2010, 2011},\n",
       "             'Italy': {2003, 2004, 2005, 2006, 2007, 2008, 2009, 2010, 2011},\n",
       "             'Jamaica': {2005, 2006, 2007, 2008, 2009, 2010, 2011},\n",
       "             'Japan': {2003, 2004, 2005, 2006, 2007, 2008, 2009, 2010, 2011},\n",
       "             'Kazakhstan': {2006, 2007, 2008, 2009, 2010, 2011},\n",
       "             'Kenya': {2004, 2005, 2006, 2007, 2008, 2009, 2010, 2011},\n",
       "             'Kuwait': {2004, 2005, 2006, 2007, 2008, 2009},\n",
       "             'Kyrgyzstan': {2003, 2004, 2005, 2006, 2007, 2008, 2009, 2011},\n",
       "             'Latvia': {2003, 2004, 2005, 2006, 2007, 2008, 2009, 2010},\n",
       "             'Lithuania': {2003,\n",
       "              2004,\n",
       "              2005,\n",
       "              2006,\n",
       "              2007,\n",
       "              2008,\n",
       "              2009,\n",
       "              2010,\n",
       "              2011},\n",
       "             'Luxembourg': {2006, 2007, 2008, 2009, 2010, 2011},\n",
       "             'Maldives': {2007, 2008},\n",
       "             'Malta': {2007, 2008, 2009, 2010, 2011},\n",
       "             'Mauritius': {2003,\n",
       "              2004,\n",
       "              2005,\n",
       "              2006,\n",
       "              2007,\n",
       "              2008,\n",
       "              2009,\n",
       "              2010,\n",
       "              2011},\n",
       "             'Mexico': {2004, 2005, 2006, 2007, 2008, 2009, 2010, 2011},\n",
       "             'Moldova': {2004, 2005, 2006, 2007, 2008, 2009, 2010, 2011},\n",
       "             'Mongolia': {2005, 2006, 2007, 2008, 2009, 2010, 2011},\n",
       "             'Montenegro': {2003,\n",
       "              2004,\n",
       "              2005,\n",
       "              2006,\n",
       "              2007,\n",
       "              2008,\n",
       "              2009,\n",
       "              2010,\n",
       "              2011},\n",
       "             'Morocco': {2003, 2004, 2005, 2006, 2007, 2008, 2009},\n",
       "             'Mozambique': {2004, 2005, 2006, 2007, 2008, 2009},\n",
       "             'Netherlands': {2005, 2006, 2007, 2008, 2009, 2010, 2011},\n",
       "             'New Zealand': {2005, 2006, 2007, 2008, 2009, 2010, 2011},\n",
       "             'Nicaragua': {2010},\n",
       "             'Norway': {2003, 2004, 2005, 2006, 2007, 2008, 2009, 2010, 2011},\n",
       "             'Oman': {2007, 2008},\n",
       "             'Panama': {2005, 2006, 2007, 2008, 2009, 2010, 2011},\n",
       "             'Paraguay': {2006, 2007, 2008, 2009, 2010, 2011},\n",
       "             'Philippines': {2006, 2007, 2008, 2009, 2010, 2011},\n",
       "             'Poland': {2007, 2008, 2009, 2010, 2011},\n",
       "             'Portugal': {2003,\n",
       "              2004,\n",
       "              2005,\n",
       "              2006,\n",
       "              2007,\n",
       "              2008,\n",
       "              2009,\n",
       "              2010,\n",
       "              2011},\n",
       "             'Romania': {2007, 2008},\n",
       "             'Russia': {2003, 2004, 2005, 2006, 2007, 2008, 2009, 2010, 2011},\n",
       "             'Saint Vincent and the Grenadines': {2004,\n",
       "              2005,\n",
       "              2006,\n",
       "              2007,\n",
       "              2008,\n",
       "              2009,\n",
       "              2010,\n",
       "              2011},\n",
       "             'Sao Tome and Principe': {2006, 2007, 2008, 2009, 2010, 2011},\n",
       "             'Serbia': {2005, 2006, 2007, 2008, 2009, 2010, 2011},\n",
       "             'Sierra Leone': {2007, 2008},\n",
       "             'Singapore': {2006, 2007, 2008, 2009, 2010, 2011},\n",
       "             'Slovakia': {2006, 2007, 2008, 2009, 2010, 2011},\n",
       "             'Slovenia': {2003,\n",
       "              2004,\n",
       "              2005,\n",
       "              2006,\n",
       "              2007,\n",
       "              2008,\n",
       "              2009,\n",
       "              2010,\n",
       "              2011},\n",
       "             'Solomon Islands': {2004, 2005, 2006, 2007, 2008},\n",
       "             'South Korea': {2006, 2007, 2008, 2009, 2010, 2011},\n",
       "             'Spain': {2007, 2008, 2009, 2010, 2011},\n",
       "             'Sweden': {2003, 2004, 2005, 2006, 2007, 2008, 2009, 2010, 2011},\n",
       "             'Switzerland': {2009, 2010, 2011},\n",
       "             'Syria': {2007, 2008},\n",
       "             'Tajikistan': {2006, 2007, 2008, 2009, 2010, 2011},\n",
       "             'Trinidad and Tobago': {2004,\n",
       "              2005,\n",
       "              2006,\n",
       "              2007,\n",
       "              2008,\n",
       "              2009,\n",
       "              2010,\n",
       "              2011},\n",
       "             'Turkey': {2003, 2004, 2005, 2006, 2007, 2008},\n",
       "             'Uganda': {2005, 2006, 2007, 2008, 2009, 2010},\n",
       "             'Ukraine': {2003, 2004, 2005, 2006, 2007, 2008, 2009, 2010},\n",
       "             'Yemen': {2005, 2006, 2007, 2008, 2009}})"
      ]
     },
     "execution_count": 49,
     "metadata": {},
     "output_type": "execute_result"
    }
   ],
   "source": [
    "from collections import defaultdict\n",
    "c = defaultdict(set)\n",
    "for i, row in res.iterrows():\n",
    "    c[row[\"Entity\"]].add(row[\"Year\"])\n"
   ]
  },
  {
   "cell_type": "markdown",
   "metadata": {},
   "source": [
    "Load"
   ]
  },
  {
   "cell_type": "code",
   "execution_count": 39,
   "metadata": {},
   "outputs": [],
   "source": [
    "# database = \"DS2002FinalData\"\n",
    "# table_name = \"MentalHealthAndSACrimeRate\""
   ]
  },
  {
   "cell_type": "code",
   "execution_count": 40,
   "metadata": {},
   "outputs": [],
   "source": [
    "# create_database(database)"
   ]
  },
  {
   "cell_type": "code",
   "execution_count": 41,
   "metadata": {},
   "outputs": [],
   "source": [
    "# engine = create_connection(database)"
   ]
  },
  {
   "cell_type": "code",
   "execution_count": 42,
   "metadata": {},
   "outputs": [],
   "source": [
    "# res.to_sql(table_name, con=engine, if_exists='replace', index=False)"
   ]
  }
 ],
 "metadata": {
  "kernelspec": {
   "display_name": "venv",
   "language": "python",
   "name": "python3"
  },
  "language_info": {
   "codemirror_mode": {
    "name": "ipython",
    "version": 3
   },
   "file_extension": ".py",
   "mimetype": "text/x-python",
   "name": "python",
   "nbconvert_exporter": "python",
   "pygments_lexer": "ipython3",
   "version": "3.11.1"
  }
 },
 "nbformat": 4,
 "nbformat_minor": 2
}
