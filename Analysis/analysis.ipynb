{
 "cells": [
  {
   "cell_type": "code",
   "execution_count": 1,
   "metadata": {},
   "outputs": [],
   "source": [
    "# IF YOU EVER MAKE CHANGES TO FILES OUTSIDE OF NOTEBOOK, YOU MUST RESTART KERNEL\n",
    "from mysql_to_pandas import get_dataframe_from_mysql\n",
    "database = \"DS2002FinalData\""
   ]
  },
  {
   "cell_type": "code",
   "execution_count": 2,
   "metadata": {},
   "outputs": [
    {
     "ename": "OperationalError",
     "evalue": "(pymysql.err.OperationalError) (2003, \"Can't connect to MySQL server on 'localhost' ([Errno 61] Connection refused)\")\n(Background on this error at: https://sqlalche.me/e/20/e3q8)",
     "output_type": "error",
     "traceback": [
      "\u001b[0;31m---------------------------------------------------------------------------\u001b[0m",
      "\u001b[0;31mConnectionRefusedError\u001b[0m                    Traceback (most recent call last)",
      "File \u001b[0;32m~/Desktop/UVA/DS2002/DS2002Final/venv/lib/python3.11/site-packages/pymysql/connections.py:649\u001b[0m, in \u001b[0;36mConnection.connect\u001b[0;34m(self, sock)\u001b[0m\n\u001b[1;32m    648\u001b[0m \u001b[38;5;28;01mtry\u001b[39;00m:\n\u001b[0;32m--> 649\u001b[0m     sock \u001b[38;5;241m=\u001b[39m \u001b[43msocket\u001b[49m\u001b[38;5;241;43m.\u001b[39;49m\u001b[43mcreate_connection\u001b[49m\u001b[43m(\u001b[49m\n\u001b[1;32m    650\u001b[0m \u001b[43m        \u001b[49m\u001b[43m(\u001b[49m\u001b[38;5;28;43mself\u001b[39;49m\u001b[38;5;241;43m.\u001b[39;49m\u001b[43mhost\u001b[49m\u001b[43m,\u001b[49m\u001b[43m \u001b[49m\u001b[38;5;28;43mself\u001b[39;49m\u001b[38;5;241;43m.\u001b[39;49m\u001b[43mport\u001b[49m\u001b[43m)\u001b[49m\u001b[43m,\u001b[49m\u001b[43m \u001b[49m\u001b[38;5;28;43mself\u001b[39;49m\u001b[38;5;241;43m.\u001b[39;49m\u001b[43mconnect_timeout\u001b[49m\u001b[43m,\u001b[49m\u001b[43m \u001b[49m\u001b[38;5;241;43m*\u001b[39;49m\u001b[38;5;241;43m*\u001b[39;49m\u001b[43mkwargs\u001b[49m\n\u001b[1;32m    651\u001b[0m \u001b[43m    \u001b[49m\u001b[43m)\u001b[49m\n\u001b[1;32m    652\u001b[0m     \u001b[38;5;28;01mbreak\u001b[39;00m\n",
      "File \u001b[0;32m/Library/Frameworks/Python.framework/Versions/3.11/lib/python3.11/socket.py:851\u001b[0m, in \u001b[0;36mcreate_connection\u001b[0;34m(address, timeout, source_address, all_errors)\u001b[0m\n\u001b[1;32m    850\u001b[0m \u001b[38;5;28;01mif\u001b[39;00m \u001b[38;5;129;01mnot\u001b[39;00m all_errors:\n\u001b[0;32m--> 851\u001b[0m     \u001b[38;5;28;01mraise\u001b[39;00m exceptions[\u001b[38;5;241m0\u001b[39m]\n\u001b[1;32m    852\u001b[0m \u001b[38;5;28;01mraise\u001b[39;00m ExceptionGroup(\u001b[38;5;124m\"\u001b[39m\u001b[38;5;124mcreate_connection failed\u001b[39m\u001b[38;5;124m\"\u001b[39m, exceptions)\n",
      "File \u001b[0;32m/Library/Frameworks/Python.framework/Versions/3.11/lib/python3.11/socket.py:836\u001b[0m, in \u001b[0;36mcreate_connection\u001b[0;34m(address, timeout, source_address, all_errors)\u001b[0m\n\u001b[1;32m    835\u001b[0m     sock\u001b[38;5;241m.\u001b[39mbind(source_address)\n\u001b[0;32m--> 836\u001b[0m \u001b[43msock\u001b[49m\u001b[38;5;241;43m.\u001b[39;49m\u001b[43mconnect\u001b[49m\u001b[43m(\u001b[49m\u001b[43msa\u001b[49m\u001b[43m)\u001b[49m\n\u001b[1;32m    837\u001b[0m \u001b[38;5;66;03m# Break explicitly a reference cycle\u001b[39;00m\n",
      "\u001b[0;31mConnectionRefusedError\u001b[0m: [Errno 61] Connection refused",
      "\nDuring handling of the above exception, another exception occurred:\n",
      "\u001b[0;31mOperationalError\u001b[0m                          Traceback (most recent call last)",
      "File \u001b[0;32m~/Desktop/UVA/DS2002/DS2002Final/venv/lib/python3.11/site-packages/sqlalchemy/engine/base.py:146\u001b[0m, in \u001b[0;36mConnection.__init__\u001b[0;34m(self, engine, connection, _has_events, _allow_revalidate, _allow_autobegin)\u001b[0m\n\u001b[1;32m    145\u001b[0m \u001b[38;5;28;01mtry\u001b[39;00m:\n\u001b[0;32m--> 146\u001b[0m     \u001b[38;5;28mself\u001b[39m\u001b[38;5;241m.\u001b[39m_dbapi_connection \u001b[38;5;241m=\u001b[39m \u001b[43mengine\u001b[49m\u001b[38;5;241;43m.\u001b[39;49m\u001b[43mraw_connection\u001b[49m\u001b[43m(\u001b[49m\u001b[43m)\u001b[49m\n\u001b[1;32m    147\u001b[0m \u001b[38;5;28;01mexcept\u001b[39;00m dialect\u001b[38;5;241m.\u001b[39mloaded_dbapi\u001b[38;5;241m.\u001b[39mError \u001b[38;5;28;01mas\u001b[39;00m err:\n",
      "File \u001b[0;32m~/Desktop/UVA/DS2002/DS2002Final/venv/lib/python3.11/site-packages/sqlalchemy/engine/base.py:3302\u001b[0m, in \u001b[0;36mEngine.raw_connection\u001b[0;34m(self)\u001b[0m\n\u001b[1;32m   3281\u001b[0m \u001b[38;5;250m\u001b[39m\u001b[38;5;124;03m\"\"\"Return a \"raw\" DBAPI connection from the connection pool.\u001b[39;00m\n\u001b[1;32m   3282\u001b[0m \n\u001b[1;32m   3283\u001b[0m \u001b[38;5;124;03mThe returned object is a proxied version of the DBAPI\u001b[39;00m\n\u001b[0;32m   (...)\u001b[0m\n\u001b[1;32m   3300\u001b[0m \n\u001b[1;32m   3301\u001b[0m \u001b[38;5;124;03m\"\"\"\u001b[39;00m\n\u001b[0;32m-> 3302\u001b[0m \u001b[38;5;28;01mreturn\u001b[39;00m \u001b[38;5;28;43mself\u001b[39;49m\u001b[38;5;241;43m.\u001b[39;49m\u001b[43mpool\u001b[49m\u001b[38;5;241;43m.\u001b[39;49m\u001b[43mconnect\u001b[49m\u001b[43m(\u001b[49m\u001b[43m)\u001b[49m\n",
      "File \u001b[0;32m~/Desktop/UVA/DS2002/DS2002Final/venv/lib/python3.11/site-packages/sqlalchemy/pool/base.py:449\u001b[0m, in \u001b[0;36mPool.connect\u001b[0;34m(self)\u001b[0m\n\u001b[1;32m    442\u001b[0m \u001b[38;5;250m\u001b[39m\u001b[38;5;124;03m\"\"\"Return a DBAPI connection from the pool.\u001b[39;00m\n\u001b[1;32m    443\u001b[0m \n\u001b[1;32m    444\u001b[0m \u001b[38;5;124;03mThe connection is instrumented such that when its\u001b[39;00m\n\u001b[0;32m   (...)\u001b[0m\n\u001b[1;32m    447\u001b[0m \n\u001b[1;32m    448\u001b[0m \u001b[38;5;124;03m\"\"\"\u001b[39;00m\n\u001b[0;32m--> 449\u001b[0m \u001b[38;5;28;01mreturn\u001b[39;00m \u001b[43m_ConnectionFairy\u001b[49m\u001b[38;5;241;43m.\u001b[39;49m\u001b[43m_checkout\u001b[49m\u001b[43m(\u001b[49m\u001b[38;5;28;43mself\u001b[39;49m\u001b[43m)\u001b[49m\n",
      "File \u001b[0;32m~/Desktop/UVA/DS2002/DS2002Final/venv/lib/python3.11/site-packages/sqlalchemy/pool/base.py:1263\u001b[0m, in \u001b[0;36m_ConnectionFairy._checkout\u001b[0;34m(cls, pool, threadconns, fairy)\u001b[0m\n\u001b[1;32m   1262\u001b[0m \u001b[38;5;28;01mif\u001b[39;00m \u001b[38;5;129;01mnot\u001b[39;00m fairy:\n\u001b[0;32m-> 1263\u001b[0m     fairy \u001b[38;5;241m=\u001b[39m \u001b[43m_ConnectionRecord\u001b[49m\u001b[38;5;241;43m.\u001b[39;49m\u001b[43mcheckout\u001b[49m\u001b[43m(\u001b[49m\u001b[43mpool\u001b[49m\u001b[43m)\u001b[49m\n\u001b[1;32m   1265\u001b[0m     \u001b[38;5;28;01mif\u001b[39;00m threadconns \u001b[38;5;129;01mis\u001b[39;00m \u001b[38;5;129;01mnot\u001b[39;00m \u001b[38;5;28;01mNone\u001b[39;00m:\n",
      "File \u001b[0;32m~/Desktop/UVA/DS2002/DS2002Final/venv/lib/python3.11/site-packages/sqlalchemy/pool/base.py:712\u001b[0m, in \u001b[0;36m_ConnectionRecord.checkout\u001b[0;34m(cls, pool)\u001b[0m\n\u001b[1;32m    711\u001b[0m \u001b[38;5;28;01melse\u001b[39;00m:\n\u001b[0;32m--> 712\u001b[0m     rec \u001b[38;5;241m=\u001b[39m \u001b[43mpool\u001b[49m\u001b[38;5;241;43m.\u001b[39;49m\u001b[43m_do_get\u001b[49m\u001b[43m(\u001b[49m\u001b[43m)\u001b[49m\n\u001b[1;32m    714\u001b[0m \u001b[38;5;28;01mtry\u001b[39;00m:\n",
      "File \u001b[0;32m~/Desktop/UVA/DS2002/DS2002Final/venv/lib/python3.11/site-packages/sqlalchemy/pool/impl.py:179\u001b[0m, in \u001b[0;36mQueuePool._do_get\u001b[0;34m(self)\u001b[0m\n\u001b[1;32m    178\u001b[0m \u001b[38;5;28;01mexcept\u001b[39;00m:\n\u001b[0;32m--> 179\u001b[0m \u001b[43m    \u001b[49m\u001b[38;5;28;43;01mwith\u001b[39;49;00m\u001b[43m \u001b[49m\u001b[43mutil\u001b[49m\u001b[38;5;241;43m.\u001b[39;49m\u001b[43msafe_reraise\u001b[49m\u001b[43m(\u001b[49m\u001b[43m)\u001b[49m\u001b[43m:\u001b[49m\n\u001b[1;32m    180\u001b[0m \u001b[43m        \u001b[49m\u001b[38;5;28;43mself\u001b[39;49m\u001b[38;5;241;43m.\u001b[39;49m\u001b[43m_dec_overflow\u001b[49m\u001b[43m(\u001b[49m\u001b[43m)\u001b[49m\n",
      "File \u001b[0;32m~/Desktop/UVA/DS2002/DS2002Final/venv/lib/python3.11/site-packages/sqlalchemy/util/langhelpers.py:146\u001b[0m, in \u001b[0;36msafe_reraise.__exit__\u001b[0;34m(self, type_, value, traceback)\u001b[0m\n\u001b[1;32m    145\u001b[0m     \u001b[38;5;28mself\u001b[39m\u001b[38;5;241m.\u001b[39m_exc_info \u001b[38;5;241m=\u001b[39m \u001b[38;5;28;01mNone\u001b[39;00m  \u001b[38;5;66;03m# remove potential circular references\u001b[39;00m\n\u001b[0;32m--> 146\u001b[0m     \u001b[38;5;28;01mraise\u001b[39;00m exc_value\u001b[38;5;241m.\u001b[39mwith_traceback(exc_tb)\n\u001b[1;32m    147\u001b[0m \u001b[38;5;28;01melse\u001b[39;00m:\n",
      "File \u001b[0;32m~/Desktop/UVA/DS2002/DS2002Final/venv/lib/python3.11/site-packages/sqlalchemy/pool/impl.py:177\u001b[0m, in \u001b[0;36mQueuePool._do_get\u001b[0;34m(self)\u001b[0m\n\u001b[1;32m    176\u001b[0m \u001b[38;5;28;01mtry\u001b[39;00m:\n\u001b[0;32m--> 177\u001b[0m     \u001b[38;5;28;01mreturn\u001b[39;00m \u001b[38;5;28;43mself\u001b[39;49m\u001b[38;5;241;43m.\u001b[39;49m\u001b[43m_create_connection\u001b[49m\u001b[43m(\u001b[49m\u001b[43m)\u001b[49m\n\u001b[1;32m    178\u001b[0m \u001b[38;5;28;01mexcept\u001b[39;00m:\n",
      "File \u001b[0;32m~/Desktop/UVA/DS2002/DS2002Final/venv/lib/python3.11/site-packages/sqlalchemy/pool/base.py:390\u001b[0m, in \u001b[0;36mPool._create_connection\u001b[0;34m(self)\u001b[0m\n\u001b[1;32m    388\u001b[0m \u001b[38;5;250m\u001b[39m\u001b[38;5;124;03m\"\"\"Called by subclasses to create a new ConnectionRecord.\"\"\"\u001b[39;00m\n\u001b[0;32m--> 390\u001b[0m \u001b[38;5;28;01mreturn\u001b[39;00m \u001b[43m_ConnectionRecord\u001b[49m\u001b[43m(\u001b[49m\u001b[38;5;28;43mself\u001b[39;49m\u001b[43m)\u001b[49m\n",
      "File \u001b[0;32m~/Desktop/UVA/DS2002/DS2002Final/venv/lib/python3.11/site-packages/sqlalchemy/pool/base.py:674\u001b[0m, in \u001b[0;36m_ConnectionRecord.__init__\u001b[0;34m(self, pool, connect)\u001b[0m\n\u001b[1;32m    673\u001b[0m \u001b[38;5;28;01mif\u001b[39;00m connect:\n\u001b[0;32m--> 674\u001b[0m     \u001b[38;5;28;43mself\u001b[39;49m\u001b[38;5;241;43m.\u001b[39;49m\u001b[43m__connect\u001b[49m\u001b[43m(\u001b[49m\u001b[43m)\u001b[49m\n\u001b[1;32m    675\u001b[0m \u001b[38;5;28mself\u001b[39m\u001b[38;5;241m.\u001b[39mfinalize_callback \u001b[38;5;241m=\u001b[39m deque()\n",
      "File \u001b[0;32m~/Desktop/UVA/DS2002/DS2002Final/venv/lib/python3.11/site-packages/sqlalchemy/pool/base.py:900\u001b[0m, in \u001b[0;36m_ConnectionRecord.__connect\u001b[0;34m(self)\u001b[0m\n\u001b[1;32m    899\u001b[0m \u001b[38;5;28;01mexcept\u001b[39;00m \u001b[38;5;167;01mBaseException\u001b[39;00m \u001b[38;5;28;01mas\u001b[39;00m e:\n\u001b[0;32m--> 900\u001b[0m \u001b[43m    \u001b[49m\u001b[38;5;28;43;01mwith\u001b[39;49;00m\u001b[43m \u001b[49m\u001b[43mutil\u001b[49m\u001b[38;5;241;43m.\u001b[39;49m\u001b[43msafe_reraise\u001b[49m\u001b[43m(\u001b[49m\u001b[43m)\u001b[49m\u001b[43m:\u001b[49m\n\u001b[1;32m    901\u001b[0m \u001b[43m        \u001b[49m\u001b[43mpool\u001b[49m\u001b[38;5;241;43m.\u001b[39;49m\u001b[43mlogger\u001b[49m\u001b[38;5;241;43m.\u001b[39;49m\u001b[43mdebug\u001b[49m\u001b[43m(\u001b[49m\u001b[38;5;124;43m\"\u001b[39;49m\u001b[38;5;124;43mError on connect(): \u001b[39;49m\u001b[38;5;132;43;01m%s\u001b[39;49;00m\u001b[38;5;124;43m\"\u001b[39;49m\u001b[43m,\u001b[49m\u001b[43m \u001b[49m\u001b[43me\u001b[49m\u001b[43m)\u001b[49m\n",
      "File \u001b[0;32m~/Desktop/UVA/DS2002/DS2002Final/venv/lib/python3.11/site-packages/sqlalchemy/util/langhelpers.py:146\u001b[0m, in \u001b[0;36msafe_reraise.__exit__\u001b[0;34m(self, type_, value, traceback)\u001b[0m\n\u001b[1;32m    145\u001b[0m     \u001b[38;5;28mself\u001b[39m\u001b[38;5;241m.\u001b[39m_exc_info \u001b[38;5;241m=\u001b[39m \u001b[38;5;28;01mNone\u001b[39;00m  \u001b[38;5;66;03m# remove potential circular references\u001b[39;00m\n\u001b[0;32m--> 146\u001b[0m     \u001b[38;5;28;01mraise\u001b[39;00m exc_value\u001b[38;5;241m.\u001b[39mwith_traceback(exc_tb)\n\u001b[1;32m    147\u001b[0m \u001b[38;5;28;01melse\u001b[39;00m:\n",
      "File \u001b[0;32m~/Desktop/UVA/DS2002/DS2002Final/venv/lib/python3.11/site-packages/sqlalchemy/pool/base.py:896\u001b[0m, in \u001b[0;36m_ConnectionRecord.__connect\u001b[0;34m(self)\u001b[0m\n\u001b[1;32m    895\u001b[0m \u001b[38;5;28mself\u001b[39m\u001b[38;5;241m.\u001b[39mstarttime \u001b[38;5;241m=\u001b[39m time\u001b[38;5;241m.\u001b[39mtime()\n\u001b[0;32m--> 896\u001b[0m \u001b[38;5;28mself\u001b[39m\u001b[38;5;241m.\u001b[39mdbapi_connection \u001b[38;5;241m=\u001b[39m connection \u001b[38;5;241m=\u001b[39m \u001b[43mpool\u001b[49m\u001b[38;5;241;43m.\u001b[39;49m\u001b[43m_invoke_creator\u001b[49m\u001b[43m(\u001b[49m\u001b[38;5;28;43mself\u001b[39;49m\u001b[43m)\u001b[49m\n\u001b[1;32m    897\u001b[0m pool\u001b[38;5;241m.\u001b[39mlogger\u001b[38;5;241m.\u001b[39mdebug(\u001b[38;5;124m\"\u001b[39m\u001b[38;5;124mCreated new connection \u001b[39m\u001b[38;5;132;01m%r\u001b[39;00m\u001b[38;5;124m\"\u001b[39m, connection)\n",
      "File \u001b[0;32m~/Desktop/UVA/DS2002/DS2002Final/venv/lib/python3.11/site-packages/sqlalchemy/engine/create.py:643\u001b[0m, in \u001b[0;36mcreate_engine.<locals>.connect\u001b[0;34m(connection_record)\u001b[0m\n\u001b[1;32m    641\u001b[0m             \u001b[38;5;28;01mreturn\u001b[39;00m connection\n\u001b[0;32m--> 643\u001b[0m \u001b[38;5;28;01mreturn\u001b[39;00m \u001b[43mdialect\u001b[49m\u001b[38;5;241;43m.\u001b[39;49m\u001b[43mconnect\u001b[49m\u001b[43m(\u001b[49m\u001b[38;5;241;43m*\u001b[39;49m\u001b[43mcargs\u001b[49m\u001b[43m,\u001b[49m\u001b[43m \u001b[49m\u001b[38;5;241;43m*\u001b[39;49m\u001b[38;5;241;43m*\u001b[39;49m\u001b[43mcparams\u001b[49m\u001b[43m)\u001b[49m\n",
      "File \u001b[0;32m~/Desktop/UVA/DS2002/DS2002Final/venv/lib/python3.11/site-packages/sqlalchemy/engine/default.py:621\u001b[0m, in \u001b[0;36mDefaultDialect.connect\u001b[0;34m(self, *cargs, **cparams)\u001b[0m\n\u001b[1;32m    619\u001b[0m \u001b[38;5;28;01mdef\u001b[39;00m \u001b[38;5;21mconnect\u001b[39m(\u001b[38;5;28mself\u001b[39m, \u001b[38;5;241m*\u001b[39mcargs, \u001b[38;5;241m*\u001b[39m\u001b[38;5;241m*\u001b[39mcparams):\n\u001b[1;32m    620\u001b[0m     \u001b[38;5;66;03m# inherits the docstring from interfaces.Dialect.connect\u001b[39;00m\n\u001b[0;32m--> 621\u001b[0m     \u001b[38;5;28;01mreturn\u001b[39;00m \u001b[38;5;28;43mself\u001b[39;49m\u001b[38;5;241;43m.\u001b[39;49m\u001b[43mloaded_dbapi\u001b[49m\u001b[38;5;241;43m.\u001b[39;49m\u001b[43mconnect\u001b[49m\u001b[43m(\u001b[49m\u001b[38;5;241;43m*\u001b[39;49m\u001b[43mcargs\u001b[49m\u001b[43m,\u001b[49m\u001b[43m \u001b[49m\u001b[38;5;241;43m*\u001b[39;49m\u001b[38;5;241;43m*\u001b[39;49m\u001b[43mcparams\u001b[49m\u001b[43m)\u001b[49m\n",
      "File \u001b[0;32m~/Desktop/UVA/DS2002/DS2002Final/venv/lib/python3.11/site-packages/pymysql/connections.py:361\u001b[0m, in \u001b[0;36mConnection.__init__\u001b[0;34m(self, user, password, host, database, unix_socket, port, charset, collation, sql_mode, read_default_file, conv, use_unicode, client_flag, cursorclass, init_command, connect_timeout, read_default_group, autocommit, local_infile, max_allowed_packet, defer_connect, auth_plugin_map, read_timeout, write_timeout, bind_address, binary_prefix, program_name, server_public_key, ssl, ssl_ca, ssl_cert, ssl_disabled, ssl_key, ssl_key_password, ssl_verify_cert, ssl_verify_identity, compress, named_pipe, passwd, db)\u001b[0m\n\u001b[1;32m    360\u001b[0m \u001b[38;5;28;01melse\u001b[39;00m:\n\u001b[0;32m--> 361\u001b[0m     \u001b[38;5;28;43mself\u001b[39;49m\u001b[38;5;241;43m.\u001b[39;49m\u001b[43mconnect\u001b[49m\u001b[43m(\u001b[49m\u001b[43m)\u001b[49m\n",
      "File \u001b[0;32m~/Desktop/UVA/DS2002/DS2002Final/venv/lib/python3.11/site-packages/pymysql/connections.py:716\u001b[0m, in \u001b[0;36mConnection.connect\u001b[0;34m(self, sock)\u001b[0m\n\u001b[1;32m    715\u001b[0m         \u001b[38;5;28mprint\u001b[39m(exc\u001b[38;5;241m.\u001b[39mtraceback)\n\u001b[0;32m--> 716\u001b[0m     \u001b[38;5;28;01mraise\u001b[39;00m exc\n\u001b[1;32m    718\u001b[0m \u001b[38;5;66;03m# If e is neither DatabaseError or IOError, It's a bug.\u001b[39;00m\n\u001b[1;32m    719\u001b[0m \u001b[38;5;66;03m# But raising AssertionError hides original error.\u001b[39;00m\n\u001b[1;32m    720\u001b[0m \u001b[38;5;66;03m# So just reraise it.\u001b[39;00m\n",
      "\u001b[0;31mOperationalError\u001b[0m: (2003, \"Can't connect to MySQL server on 'localhost' ([Errno 61] Connection refused)\")",
      "\nThe above exception was the direct cause of the following exception:\n",
      "\u001b[0;31mOperationalError\u001b[0m                          Traceback (most recent call last)",
      "Cell \u001b[0;32mIn[2], line 1\u001b[0m\n\u001b[0;32m----> 1\u001b[0m mhealth_df \u001b[38;5;241m=\u001b[39m \u001b[43mget_dataframe_from_mysql\u001b[49m\u001b[43m(\u001b[49m\u001b[38;5;124;43m\"\u001b[39;49m\u001b[38;5;124;43mMentalHealthAndSACrimeRate\u001b[39;49m\u001b[38;5;124;43m\"\u001b[39;49m\u001b[43m,\u001b[49m\u001b[43m \u001b[49m\u001b[43mdatabase\u001b[49m\u001b[43m)\u001b[49m\n\u001b[1;32m      2\u001b[0m gapminder_df \u001b[38;5;241m=\u001b[39m get_dataframe_from_mysql(\u001b[38;5;124m\"\u001b[39m\u001b[38;5;124mGapminder\u001b[39m\u001b[38;5;124m\"\u001b[39m, database)\n",
      "File \u001b[0;32m~/Desktop/UVA/DS2002/DS2002Final/Analysis/mysql_to_pandas.py:18\u001b[0m, in \u001b[0;36mget_dataframe_from_mysql\u001b[0;34m(table, database, local)\u001b[0m\n\u001b[1;32m     17\u001b[0m \u001b[38;5;28;01mdef\u001b[39;00m \u001b[38;5;21mget_dataframe_from_mysql\u001b[39m(table, database, local\u001b[38;5;241m=\u001b[39m\u001b[38;5;28;01mTrue\u001b[39;00m):\n\u001b[0;32m---> 18\u001b[0m     \u001b[38;5;28;01mreturn\u001b[39;00m \u001b[43mpd\u001b[49m\u001b[38;5;241;43m.\u001b[39;49m\u001b[43mread_sql\u001b[49m\u001b[43m(\u001b[49m\u001b[43msql\u001b[49m\u001b[38;5;241;43m=\u001b[39;49m\u001b[38;5;124;43mf\u001b[39;49m\u001b[38;5;124;43m\"\u001b[39;49m\u001b[38;5;124;43mSELECT * FROM \u001b[39;49m\u001b[38;5;132;43;01m{\u001b[39;49;00m\u001b[43mtable\u001b[49m\u001b[38;5;132;43;01m}\u001b[39;49;00m\u001b[38;5;124;43m\"\u001b[39;49m\u001b[43m,\u001b[49m\u001b[43m \u001b[49m\u001b[43mcon\u001b[49m\u001b[38;5;241;43m=\u001b[39;49m\u001b[43mcreate_connection\u001b[49m\u001b[43m(\u001b[49m\u001b[43mdatabase\u001b[49m\u001b[43m,\u001b[49m\u001b[43m \u001b[49m\u001b[43mlocal\u001b[49m\u001b[43m)\u001b[49m\u001b[43m)\u001b[49m\n",
      "File \u001b[0;32m~/Desktop/UVA/DS2002/DS2002Final/venv/lib/python3.11/site-packages/pandas/io/sql.py:704\u001b[0m, in \u001b[0;36mread_sql\u001b[0;34m(sql, con, index_col, coerce_float, params, parse_dates, columns, chunksize, dtype_backend, dtype)\u001b[0m\n\u001b[1;32m    701\u001b[0m     dtype_backend \u001b[38;5;241m=\u001b[39m \u001b[38;5;124m\"\u001b[39m\u001b[38;5;124mnumpy\u001b[39m\u001b[38;5;124m\"\u001b[39m  \u001b[38;5;66;03m# type: ignore[assignment]\u001b[39;00m\n\u001b[1;32m    702\u001b[0m \u001b[38;5;28;01massert\u001b[39;00m dtype_backend \u001b[38;5;129;01mis\u001b[39;00m \u001b[38;5;129;01mnot\u001b[39;00m lib\u001b[38;5;241m.\u001b[39mno_default\n\u001b[0;32m--> 704\u001b[0m \u001b[38;5;28;01mwith\u001b[39;00m \u001b[43mpandasSQL_builder\u001b[49m\u001b[43m(\u001b[49m\u001b[43mcon\u001b[49m\u001b[43m)\u001b[49m \u001b[38;5;28;01mas\u001b[39;00m pandas_sql:\n\u001b[1;32m    705\u001b[0m     \u001b[38;5;28;01mif\u001b[39;00m \u001b[38;5;28misinstance\u001b[39m(pandas_sql, SQLiteDatabase):\n\u001b[1;32m    706\u001b[0m         \u001b[38;5;28;01mreturn\u001b[39;00m pandas_sql\u001b[38;5;241m.\u001b[39mread_query(\n\u001b[1;32m    707\u001b[0m             sql,\n\u001b[1;32m    708\u001b[0m             index_col\u001b[38;5;241m=\u001b[39mindex_col,\n\u001b[0;32m   (...)\u001b[0m\n\u001b[1;32m    714\u001b[0m             dtype\u001b[38;5;241m=\u001b[39mdtype,\n\u001b[1;32m    715\u001b[0m         )\n",
      "File \u001b[0;32m~/Desktop/UVA/DS2002/DS2002Final/venv/lib/python3.11/site-packages/pandas/io/sql.py:906\u001b[0m, in \u001b[0;36mpandasSQL_builder\u001b[0;34m(con, schema, need_transaction)\u001b[0m\n\u001b[1;32m    903\u001b[0m     \u001b[38;5;28;01mraise\u001b[39;00m \u001b[38;5;167;01mImportError\u001b[39;00m(\u001b[38;5;124m\"\u001b[39m\u001b[38;5;124mUsing URI string without sqlalchemy installed.\u001b[39m\u001b[38;5;124m\"\u001b[39m)\n\u001b[1;32m    905\u001b[0m \u001b[38;5;28;01mif\u001b[39;00m sqlalchemy \u001b[38;5;129;01mis\u001b[39;00m \u001b[38;5;129;01mnot\u001b[39;00m \u001b[38;5;28;01mNone\u001b[39;00m \u001b[38;5;129;01mand\u001b[39;00m \u001b[38;5;28misinstance\u001b[39m(con, (\u001b[38;5;28mstr\u001b[39m, sqlalchemy\u001b[38;5;241m.\u001b[39mengine\u001b[38;5;241m.\u001b[39mConnectable)):\n\u001b[0;32m--> 906\u001b[0m     \u001b[38;5;28;01mreturn\u001b[39;00m \u001b[43mSQLDatabase\u001b[49m\u001b[43m(\u001b[49m\u001b[43mcon\u001b[49m\u001b[43m,\u001b[49m\u001b[43m \u001b[49m\u001b[43mschema\u001b[49m\u001b[43m,\u001b[49m\u001b[43m \u001b[49m\u001b[43mneed_transaction\u001b[49m\u001b[43m)\u001b[49m\n\u001b[1;32m    908\u001b[0m adbc \u001b[38;5;241m=\u001b[39m import_optional_dependency(\u001b[38;5;124m\"\u001b[39m\u001b[38;5;124madbc_driver_manager.dbapi\u001b[39m\u001b[38;5;124m\"\u001b[39m, errors\u001b[38;5;241m=\u001b[39m\u001b[38;5;124m\"\u001b[39m\u001b[38;5;124mignore\u001b[39m\u001b[38;5;124m\"\u001b[39m)\n\u001b[1;32m    909\u001b[0m \u001b[38;5;28;01mif\u001b[39;00m adbc \u001b[38;5;129;01mand\u001b[39;00m \u001b[38;5;28misinstance\u001b[39m(con, adbc\u001b[38;5;241m.\u001b[39mConnection):\n",
      "File \u001b[0;32m~/Desktop/UVA/DS2002/DS2002Final/venv/lib/python3.11/site-packages/pandas/io/sql.py:1636\u001b[0m, in \u001b[0;36mSQLDatabase.__init__\u001b[0;34m(self, con, schema, need_transaction)\u001b[0m\n\u001b[1;32m   1634\u001b[0m     \u001b[38;5;28mself\u001b[39m\u001b[38;5;241m.\u001b[39mexit_stack\u001b[38;5;241m.\u001b[39mcallback(con\u001b[38;5;241m.\u001b[39mdispose)\n\u001b[1;32m   1635\u001b[0m \u001b[38;5;28;01mif\u001b[39;00m \u001b[38;5;28misinstance\u001b[39m(con, Engine):\n\u001b[0;32m-> 1636\u001b[0m     con \u001b[38;5;241m=\u001b[39m \u001b[38;5;28mself\u001b[39m\u001b[38;5;241m.\u001b[39mexit_stack\u001b[38;5;241m.\u001b[39menter_context(\u001b[43mcon\u001b[49m\u001b[38;5;241;43m.\u001b[39;49m\u001b[43mconnect\u001b[49m\u001b[43m(\u001b[49m\u001b[43m)\u001b[49m)\n\u001b[1;32m   1637\u001b[0m \u001b[38;5;28;01mif\u001b[39;00m need_transaction \u001b[38;5;129;01mand\u001b[39;00m \u001b[38;5;129;01mnot\u001b[39;00m con\u001b[38;5;241m.\u001b[39min_transaction():\n\u001b[1;32m   1638\u001b[0m     \u001b[38;5;28mself\u001b[39m\u001b[38;5;241m.\u001b[39mexit_stack\u001b[38;5;241m.\u001b[39menter_context(con\u001b[38;5;241m.\u001b[39mbegin())\n",
      "File \u001b[0;32m~/Desktop/UVA/DS2002/DS2002Final/venv/lib/python3.11/site-packages/sqlalchemy/engine/base.py:3278\u001b[0m, in \u001b[0;36mEngine.connect\u001b[0;34m(self)\u001b[0m\n\u001b[1;32m   3255\u001b[0m \u001b[38;5;28;01mdef\u001b[39;00m \u001b[38;5;21mconnect\u001b[39m(\u001b[38;5;28mself\u001b[39m) \u001b[38;5;241m-\u001b[39m\u001b[38;5;241m>\u001b[39m Connection:\n\u001b[1;32m   3256\u001b[0m \u001b[38;5;250m    \u001b[39m\u001b[38;5;124;03m\"\"\"Return a new :class:`_engine.Connection` object.\u001b[39;00m\n\u001b[1;32m   3257\u001b[0m \n\u001b[1;32m   3258\u001b[0m \u001b[38;5;124;03m    The :class:`_engine.Connection` acts as a Python context manager, so\u001b[39;00m\n\u001b[0;32m   (...)\u001b[0m\n\u001b[1;32m   3275\u001b[0m \n\u001b[1;32m   3276\u001b[0m \u001b[38;5;124;03m    \"\"\"\u001b[39;00m\n\u001b[0;32m-> 3278\u001b[0m     \u001b[38;5;28;01mreturn\u001b[39;00m \u001b[38;5;28;43mself\u001b[39;49m\u001b[38;5;241;43m.\u001b[39;49m\u001b[43m_connection_cls\u001b[49m\u001b[43m(\u001b[49m\u001b[38;5;28;43mself\u001b[39;49m\u001b[43m)\u001b[49m\n",
      "File \u001b[0;32m~/Desktop/UVA/DS2002/DS2002Final/venv/lib/python3.11/site-packages/sqlalchemy/engine/base.py:148\u001b[0m, in \u001b[0;36mConnection.__init__\u001b[0;34m(self, engine, connection, _has_events, _allow_revalidate, _allow_autobegin)\u001b[0m\n\u001b[1;32m    146\u001b[0m         \u001b[38;5;28mself\u001b[39m\u001b[38;5;241m.\u001b[39m_dbapi_connection \u001b[38;5;241m=\u001b[39m engine\u001b[38;5;241m.\u001b[39mraw_connection()\n\u001b[1;32m    147\u001b[0m     \u001b[38;5;28;01mexcept\u001b[39;00m dialect\u001b[38;5;241m.\u001b[39mloaded_dbapi\u001b[38;5;241m.\u001b[39mError \u001b[38;5;28;01mas\u001b[39;00m err:\n\u001b[0;32m--> 148\u001b[0m         \u001b[43mConnection\u001b[49m\u001b[38;5;241;43m.\u001b[39;49m\u001b[43m_handle_dbapi_exception_noconnection\u001b[49m\u001b[43m(\u001b[49m\n\u001b[1;32m    149\u001b[0m \u001b[43m            \u001b[49m\u001b[43merr\u001b[49m\u001b[43m,\u001b[49m\u001b[43m \u001b[49m\u001b[43mdialect\u001b[49m\u001b[43m,\u001b[49m\u001b[43m \u001b[49m\u001b[43mengine\u001b[49m\n\u001b[1;32m    150\u001b[0m \u001b[43m        \u001b[49m\u001b[43m)\u001b[49m\n\u001b[1;32m    151\u001b[0m         \u001b[38;5;28;01mraise\u001b[39;00m\n\u001b[1;32m    152\u001b[0m \u001b[38;5;28;01melse\u001b[39;00m:\n",
      "File \u001b[0;32m~/Desktop/UVA/DS2002/DS2002Final/venv/lib/python3.11/site-packages/sqlalchemy/engine/base.py:2442\u001b[0m, in \u001b[0;36mConnection._handle_dbapi_exception_noconnection\u001b[0;34m(cls, e, dialect, engine, is_disconnect, invalidate_pool_on_disconnect, is_pre_ping)\u001b[0m\n\u001b[1;32m   2440\u001b[0m \u001b[38;5;28;01melif\u001b[39;00m should_wrap:\n\u001b[1;32m   2441\u001b[0m     \u001b[38;5;28;01massert\u001b[39;00m sqlalchemy_exception \u001b[38;5;129;01mis\u001b[39;00m \u001b[38;5;129;01mnot\u001b[39;00m \u001b[38;5;28;01mNone\u001b[39;00m\n\u001b[0;32m-> 2442\u001b[0m     \u001b[38;5;28;01mraise\u001b[39;00m sqlalchemy_exception\u001b[38;5;241m.\u001b[39mwith_traceback(exc_info[\u001b[38;5;241m2\u001b[39m]) \u001b[38;5;28;01mfrom\u001b[39;00m \u001b[38;5;21;01me\u001b[39;00m\n\u001b[1;32m   2443\u001b[0m \u001b[38;5;28;01melse\u001b[39;00m:\n\u001b[1;32m   2444\u001b[0m     \u001b[38;5;28;01massert\u001b[39;00m exc_info[\u001b[38;5;241m1\u001b[39m] \u001b[38;5;129;01mis\u001b[39;00m \u001b[38;5;129;01mnot\u001b[39;00m \u001b[38;5;28;01mNone\u001b[39;00m\n",
      "File \u001b[0;32m~/Desktop/UVA/DS2002/DS2002Final/venv/lib/python3.11/site-packages/sqlalchemy/engine/base.py:146\u001b[0m, in \u001b[0;36mConnection.__init__\u001b[0;34m(self, engine, connection, _has_events, _allow_revalidate, _allow_autobegin)\u001b[0m\n\u001b[1;32m    144\u001b[0m \u001b[38;5;28;01mif\u001b[39;00m connection \u001b[38;5;129;01mis\u001b[39;00m \u001b[38;5;28;01mNone\u001b[39;00m:\n\u001b[1;32m    145\u001b[0m     \u001b[38;5;28;01mtry\u001b[39;00m:\n\u001b[0;32m--> 146\u001b[0m         \u001b[38;5;28mself\u001b[39m\u001b[38;5;241m.\u001b[39m_dbapi_connection \u001b[38;5;241m=\u001b[39m \u001b[43mengine\u001b[49m\u001b[38;5;241;43m.\u001b[39;49m\u001b[43mraw_connection\u001b[49m\u001b[43m(\u001b[49m\u001b[43m)\u001b[49m\n\u001b[1;32m    147\u001b[0m     \u001b[38;5;28;01mexcept\u001b[39;00m dialect\u001b[38;5;241m.\u001b[39mloaded_dbapi\u001b[38;5;241m.\u001b[39mError \u001b[38;5;28;01mas\u001b[39;00m err:\n\u001b[1;32m    148\u001b[0m         Connection\u001b[38;5;241m.\u001b[39m_handle_dbapi_exception_noconnection(\n\u001b[1;32m    149\u001b[0m             err, dialect, engine\n\u001b[1;32m    150\u001b[0m         )\n",
      "File \u001b[0;32m~/Desktop/UVA/DS2002/DS2002Final/venv/lib/python3.11/site-packages/sqlalchemy/engine/base.py:3302\u001b[0m, in \u001b[0;36mEngine.raw_connection\u001b[0;34m(self)\u001b[0m\n\u001b[1;32m   3280\u001b[0m \u001b[38;5;28;01mdef\u001b[39;00m \u001b[38;5;21mraw_connection\u001b[39m(\u001b[38;5;28mself\u001b[39m) \u001b[38;5;241m-\u001b[39m\u001b[38;5;241m>\u001b[39m PoolProxiedConnection:\n\u001b[1;32m   3281\u001b[0m \u001b[38;5;250m    \u001b[39m\u001b[38;5;124;03m\"\"\"Return a \"raw\" DBAPI connection from the connection pool.\u001b[39;00m\n\u001b[1;32m   3282\u001b[0m \n\u001b[1;32m   3283\u001b[0m \u001b[38;5;124;03m    The returned object is a proxied version of the DBAPI\u001b[39;00m\n\u001b[0;32m   (...)\u001b[0m\n\u001b[1;32m   3300\u001b[0m \n\u001b[1;32m   3301\u001b[0m \u001b[38;5;124;03m    \"\"\"\u001b[39;00m\n\u001b[0;32m-> 3302\u001b[0m     \u001b[38;5;28;01mreturn\u001b[39;00m \u001b[38;5;28;43mself\u001b[39;49m\u001b[38;5;241;43m.\u001b[39;49m\u001b[43mpool\u001b[49m\u001b[38;5;241;43m.\u001b[39;49m\u001b[43mconnect\u001b[49m\u001b[43m(\u001b[49m\u001b[43m)\u001b[49m\n",
      "File \u001b[0;32m~/Desktop/UVA/DS2002/DS2002Final/venv/lib/python3.11/site-packages/sqlalchemy/pool/base.py:449\u001b[0m, in \u001b[0;36mPool.connect\u001b[0;34m(self)\u001b[0m\n\u001b[1;32m    441\u001b[0m \u001b[38;5;28;01mdef\u001b[39;00m \u001b[38;5;21mconnect\u001b[39m(\u001b[38;5;28mself\u001b[39m) \u001b[38;5;241m-\u001b[39m\u001b[38;5;241m>\u001b[39m PoolProxiedConnection:\n\u001b[1;32m    442\u001b[0m \u001b[38;5;250m    \u001b[39m\u001b[38;5;124;03m\"\"\"Return a DBAPI connection from the pool.\u001b[39;00m\n\u001b[1;32m    443\u001b[0m \n\u001b[1;32m    444\u001b[0m \u001b[38;5;124;03m    The connection is instrumented such that when its\u001b[39;00m\n\u001b[0;32m   (...)\u001b[0m\n\u001b[1;32m    447\u001b[0m \n\u001b[1;32m    448\u001b[0m \u001b[38;5;124;03m    \"\"\"\u001b[39;00m\n\u001b[0;32m--> 449\u001b[0m     \u001b[38;5;28;01mreturn\u001b[39;00m \u001b[43m_ConnectionFairy\u001b[49m\u001b[38;5;241;43m.\u001b[39;49m\u001b[43m_checkout\u001b[49m\u001b[43m(\u001b[49m\u001b[38;5;28;43mself\u001b[39;49m\u001b[43m)\u001b[49m\n",
      "File \u001b[0;32m~/Desktop/UVA/DS2002/DS2002Final/venv/lib/python3.11/site-packages/sqlalchemy/pool/base.py:1263\u001b[0m, in \u001b[0;36m_ConnectionFairy._checkout\u001b[0;34m(cls, pool, threadconns, fairy)\u001b[0m\n\u001b[1;32m   1255\u001b[0m \u001b[38;5;129m@classmethod\u001b[39m\n\u001b[1;32m   1256\u001b[0m \u001b[38;5;28;01mdef\u001b[39;00m \u001b[38;5;21m_checkout\u001b[39m(\n\u001b[1;32m   1257\u001b[0m     \u001b[38;5;28mcls\u001b[39m,\n\u001b[0;32m   (...)\u001b[0m\n\u001b[1;32m   1260\u001b[0m     fairy: Optional[_ConnectionFairy] \u001b[38;5;241m=\u001b[39m \u001b[38;5;28;01mNone\u001b[39;00m,\n\u001b[1;32m   1261\u001b[0m ) \u001b[38;5;241m-\u001b[39m\u001b[38;5;241m>\u001b[39m _ConnectionFairy:\n\u001b[1;32m   1262\u001b[0m     \u001b[38;5;28;01mif\u001b[39;00m \u001b[38;5;129;01mnot\u001b[39;00m fairy:\n\u001b[0;32m-> 1263\u001b[0m         fairy \u001b[38;5;241m=\u001b[39m \u001b[43m_ConnectionRecord\u001b[49m\u001b[38;5;241;43m.\u001b[39;49m\u001b[43mcheckout\u001b[49m\u001b[43m(\u001b[49m\u001b[43mpool\u001b[49m\u001b[43m)\u001b[49m\n\u001b[1;32m   1265\u001b[0m         \u001b[38;5;28;01mif\u001b[39;00m threadconns \u001b[38;5;129;01mis\u001b[39;00m \u001b[38;5;129;01mnot\u001b[39;00m \u001b[38;5;28;01mNone\u001b[39;00m:\n\u001b[1;32m   1266\u001b[0m             threadconns\u001b[38;5;241m.\u001b[39mcurrent \u001b[38;5;241m=\u001b[39m weakref\u001b[38;5;241m.\u001b[39mref(fairy)\n",
      "File \u001b[0;32m~/Desktop/UVA/DS2002/DS2002Final/venv/lib/python3.11/site-packages/sqlalchemy/pool/base.py:712\u001b[0m, in \u001b[0;36m_ConnectionRecord.checkout\u001b[0;34m(cls, pool)\u001b[0m\n\u001b[1;32m    710\u001b[0m     rec \u001b[38;5;241m=\u001b[39m cast(_ConnectionRecord, pool\u001b[38;5;241m.\u001b[39m_do_get())\n\u001b[1;32m    711\u001b[0m \u001b[38;5;28;01melse\u001b[39;00m:\n\u001b[0;32m--> 712\u001b[0m     rec \u001b[38;5;241m=\u001b[39m \u001b[43mpool\u001b[49m\u001b[38;5;241;43m.\u001b[39;49m\u001b[43m_do_get\u001b[49m\u001b[43m(\u001b[49m\u001b[43m)\u001b[49m\n\u001b[1;32m    714\u001b[0m \u001b[38;5;28;01mtry\u001b[39;00m:\n\u001b[1;32m    715\u001b[0m     dbapi_connection \u001b[38;5;241m=\u001b[39m rec\u001b[38;5;241m.\u001b[39mget_connection()\n",
      "File \u001b[0;32m~/Desktop/UVA/DS2002/DS2002Final/venv/lib/python3.11/site-packages/sqlalchemy/pool/impl.py:179\u001b[0m, in \u001b[0;36mQueuePool._do_get\u001b[0;34m(self)\u001b[0m\n\u001b[1;32m    177\u001b[0m     \u001b[38;5;28;01mreturn\u001b[39;00m \u001b[38;5;28mself\u001b[39m\u001b[38;5;241m.\u001b[39m_create_connection()\n\u001b[1;32m    178\u001b[0m \u001b[38;5;28;01mexcept\u001b[39;00m:\n\u001b[0;32m--> 179\u001b[0m \u001b[43m    \u001b[49m\u001b[38;5;28;43;01mwith\u001b[39;49;00m\u001b[43m \u001b[49m\u001b[43mutil\u001b[49m\u001b[38;5;241;43m.\u001b[39;49m\u001b[43msafe_reraise\u001b[49m\u001b[43m(\u001b[49m\u001b[43m)\u001b[49m\u001b[43m:\u001b[49m\n\u001b[1;32m    180\u001b[0m \u001b[43m        \u001b[49m\u001b[38;5;28;43mself\u001b[39;49m\u001b[38;5;241;43m.\u001b[39;49m\u001b[43m_dec_overflow\u001b[49m\u001b[43m(\u001b[49m\u001b[43m)\u001b[49m\n\u001b[1;32m    181\u001b[0m     \u001b[38;5;28;01mraise\u001b[39;00m\n",
      "File \u001b[0;32m~/Desktop/UVA/DS2002/DS2002Final/venv/lib/python3.11/site-packages/sqlalchemy/util/langhelpers.py:146\u001b[0m, in \u001b[0;36msafe_reraise.__exit__\u001b[0;34m(self, type_, value, traceback)\u001b[0m\n\u001b[1;32m    144\u001b[0m     \u001b[38;5;28;01massert\u001b[39;00m exc_value \u001b[38;5;129;01mis\u001b[39;00m \u001b[38;5;129;01mnot\u001b[39;00m \u001b[38;5;28;01mNone\u001b[39;00m\n\u001b[1;32m    145\u001b[0m     \u001b[38;5;28mself\u001b[39m\u001b[38;5;241m.\u001b[39m_exc_info \u001b[38;5;241m=\u001b[39m \u001b[38;5;28;01mNone\u001b[39;00m  \u001b[38;5;66;03m# remove potential circular references\u001b[39;00m\n\u001b[0;32m--> 146\u001b[0m     \u001b[38;5;28;01mraise\u001b[39;00m exc_value\u001b[38;5;241m.\u001b[39mwith_traceback(exc_tb)\n\u001b[1;32m    147\u001b[0m \u001b[38;5;28;01melse\u001b[39;00m:\n\u001b[1;32m    148\u001b[0m     \u001b[38;5;28mself\u001b[39m\u001b[38;5;241m.\u001b[39m_exc_info \u001b[38;5;241m=\u001b[39m \u001b[38;5;28;01mNone\u001b[39;00m  \u001b[38;5;66;03m# remove potential circular references\u001b[39;00m\n",
      "File \u001b[0;32m~/Desktop/UVA/DS2002/DS2002Final/venv/lib/python3.11/site-packages/sqlalchemy/pool/impl.py:177\u001b[0m, in \u001b[0;36mQueuePool._do_get\u001b[0;34m(self)\u001b[0m\n\u001b[1;32m    175\u001b[0m \u001b[38;5;28;01mif\u001b[39;00m \u001b[38;5;28mself\u001b[39m\u001b[38;5;241m.\u001b[39m_inc_overflow():\n\u001b[1;32m    176\u001b[0m     \u001b[38;5;28;01mtry\u001b[39;00m:\n\u001b[0;32m--> 177\u001b[0m         \u001b[38;5;28;01mreturn\u001b[39;00m \u001b[38;5;28;43mself\u001b[39;49m\u001b[38;5;241;43m.\u001b[39;49m\u001b[43m_create_connection\u001b[49m\u001b[43m(\u001b[49m\u001b[43m)\u001b[49m\n\u001b[1;32m    178\u001b[0m     \u001b[38;5;28;01mexcept\u001b[39;00m:\n\u001b[1;32m    179\u001b[0m         \u001b[38;5;28;01mwith\u001b[39;00m util\u001b[38;5;241m.\u001b[39msafe_reraise():\n",
      "File \u001b[0;32m~/Desktop/UVA/DS2002/DS2002Final/venv/lib/python3.11/site-packages/sqlalchemy/pool/base.py:390\u001b[0m, in \u001b[0;36mPool._create_connection\u001b[0;34m(self)\u001b[0m\n\u001b[1;32m    387\u001b[0m \u001b[38;5;28;01mdef\u001b[39;00m \u001b[38;5;21m_create_connection\u001b[39m(\u001b[38;5;28mself\u001b[39m) \u001b[38;5;241m-\u001b[39m\u001b[38;5;241m>\u001b[39m ConnectionPoolEntry:\n\u001b[1;32m    388\u001b[0m \u001b[38;5;250m    \u001b[39m\u001b[38;5;124;03m\"\"\"Called by subclasses to create a new ConnectionRecord.\"\"\"\u001b[39;00m\n\u001b[0;32m--> 390\u001b[0m     \u001b[38;5;28;01mreturn\u001b[39;00m \u001b[43m_ConnectionRecord\u001b[49m\u001b[43m(\u001b[49m\u001b[38;5;28;43mself\u001b[39;49m\u001b[43m)\u001b[49m\n",
      "File \u001b[0;32m~/Desktop/UVA/DS2002/DS2002Final/venv/lib/python3.11/site-packages/sqlalchemy/pool/base.py:674\u001b[0m, in \u001b[0;36m_ConnectionRecord.__init__\u001b[0;34m(self, pool, connect)\u001b[0m\n\u001b[1;32m    672\u001b[0m \u001b[38;5;28mself\u001b[39m\u001b[38;5;241m.\u001b[39m__pool \u001b[38;5;241m=\u001b[39m pool\n\u001b[1;32m    673\u001b[0m \u001b[38;5;28;01mif\u001b[39;00m connect:\n\u001b[0;32m--> 674\u001b[0m     \u001b[38;5;28;43mself\u001b[39;49m\u001b[38;5;241;43m.\u001b[39;49m\u001b[43m__connect\u001b[49m\u001b[43m(\u001b[49m\u001b[43m)\u001b[49m\n\u001b[1;32m    675\u001b[0m \u001b[38;5;28mself\u001b[39m\u001b[38;5;241m.\u001b[39mfinalize_callback \u001b[38;5;241m=\u001b[39m deque()\n",
      "File \u001b[0;32m~/Desktop/UVA/DS2002/DS2002Final/venv/lib/python3.11/site-packages/sqlalchemy/pool/base.py:900\u001b[0m, in \u001b[0;36m_ConnectionRecord.__connect\u001b[0;34m(self)\u001b[0m\n\u001b[1;32m    898\u001b[0m     \u001b[38;5;28mself\u001b[39m\u001b[38;5;241m.\u001b[39mfresh \u001b[38;5;241m=\u001b[39m \u001b[38;5;28;01mTrue\u001b[39;00m\n\u001b[1;32m    899\u001b[0m \u001b[38;5;28;01mexcept\u001b[39;00m \u001b[38;5;167;01mBaseException\u001b[39;00m \u001b[38;5;28;01mas\u001b[39;00m e:\n\u001b[0;32m--> 900\u001b[0m \u001b[43m    \u001b[49m\u001b[38;5;28;43;01mwith\u001b[39;49;00m\u001b[43m \u001b[49m\u001b[43mutil\u001b[49m\u001b[38;5;241;43m.\u001b[39;49m\u001b[43msafe_reraise\u001b[49m\u001b[43m(\u001b[49m\u001b[43m)\u001b[49m\u001b[43m:\u001b[49m\n\u001b[1;32m    901\u001b[0m \u001b[43m        \u001b[49m\u001b[43mpool\u001b[49m\u001b[38;5;241;43m.\u001b[39;49m\u001b[43mlogger\u001b[49m\u001b[38;5;241;43m.\u001b[39;49m\u001b[43mdebug\u001b[49m\u001b[43m(\u001b[49m\u001b[38;5;124;43m\"\u001b[39;49m\u001b[38;5;124;43mError on connect(): \u001b[39;49m\u001b[38;5;132;43;01m%s\u001b[39;49;00m\u001b[38;5;124;43m\"\u001b[39;49m\u001b[43m,\u001b[49m\u001b[43m \u001b[49m\u001b[43me\u001b[49m\u001b[43m)\u001b[49m\n\u001b[1;32m    902\u001b[0m \u001b[38;5;28;01melse\u001b[39;00m:\n\u001b[1;32m    903\u001b[0m     \u001b[38;5;66;03m# in SQLAlchemy 1.4 the first_connect event is not used by\u001b[39;00m\n\u001b[1;32m    904\u001b[0m     \u001b[38;5;66;03m# the engine, so this will usually not be set\u001b[39;00m\n",
      "File \u001b[0;32m~/Desktop/UVA/DS2002/DS2002Final/venv/lib/python3.11/site-packages/sqlalchemy/util/langhelpers.py:146\u001b[0m, in \u001b[0;36msafe_reraise.__exit__\u001b[0;34m(self, type_, value, traceback)\u001b[0m\n\u001b[1;32m    144\u001b[0m     \u001b[38;5;28;01massert\u001b[39;00m exc_value \u001b[38;5;129;01mis\u001b[39;00m \u001b[38;5;129;01mnot\u001b[39;00m \u001b[38;5;28;01mNone\u001b[39;00m\n\u001b[1;32m    145\u001b[0m     \u001b[38;5;28mself\u001b[39m\u001b[38;5;241m.\u001b[39m_exc_info \u001b[38;5;241m=\u001b[39m \u001b[38;5;28;01mNone\u001b[39;00m  \u001b[38;5;66;03m# remove potential circular references\u001b[39;00m\n\u001b[0;32m--> 146\u001b[0m     \u001b[38;5;28;01mraise\u001b[39;00m exc_value\u001b[38;5;241m.\u001b[39mwith_traceback(exc_tb)\n\u001b[1;32m    147\u001b[0m \u001b[38;5;28;01melse\u001b[39;00m:\n\u001b[1;32m    148\u001b[0m     \u001b[38;5;28mself\u001b[39m\u001b[38;5;241m.\u001b[39m_exc_info \u001b[38;5;241m=\u001b[39m \u001b[38;5;28;01mNone\u001b[39;00m  \u001b[38;5;66;03m# remove potential circular references\u001b[39;00m\n",
      "File \u001b[0;32m~/Desktop/UVA/DS2002/DS2002Final/venv/lib/python3.11/site-packages/sqlalchemy/pool/base.py:896\u001b[0m, in \u001b[0;36m_ConnectionRecord.__connect\u001b[0;34m(self)\u001b[0m\n\u001b[1;32m    894\u001b[0m \u001b[38;5;28;01mtry\u001b[39;00m:\n\u001b[1;32m    895\u001b[0m     \u001b[38;5;28mself\u001b[39m\u001b[38;5;241m.\u001b[39mstarttime \u001b[38;5;241m=\u001b[39m time\u001b[38;5;241m.\u001b[39mtime()\n\u001b[0;32m--> 896\u001b[0m     \u001b[38;5;28mself\u001b[39m\u001b[38;5;241m.\u001b[39mdbapi_connection \u001b[38;5;241m=\u001b[39m connection \u001b[38;5;241m=\u001b[39m \u001b[43mpool\u001b[49m\u001b[38;5;241;43m.\u001b[39;49m\u001b[43m_invoke_creator\u001b[49m\u001b[43m(\u001b[49m\u001b[38;5;28;43mself\u001b[39;49m\u001b[43m)\u001b[49m\n\u001b[1;32m    897\u001b[0m     pool\u001b[38;5;241m.\u001b[39mlogger\u001b[38;5;241m.\u001b[39mdebug(\u001b[38;5;124m\"\u001b[39m\u001b[38;5;124mCreated new connection \u001b[39m\u001b[38;5;132;01m%r\u001b[39;00m\u001b[38;5;124m\"\u001b[39m, connection)\n\u001b[1;32m    898\u001b[0m     \u001b[38;5;28mself\u001b[39m\u001b[38;5;241m.\u001b[39mfresh \u001b[38;5;241m=\u001b[39m \u001b[38;5;28;01mTrue\u001b[39;00m\n",
      "File \u001b[0;32m~/Desktop/UVA/DS2002/DS2002Final/venv/lib/python3.11/site-packages/sqlalchemy/engine/create.py:643\u001b[0m, in \u001b[0;36mcreate_engine.<locals>.connect\u001b[0;34m(connection_record)\u001b[0m\n\u001b[1;32m    640\u001b[0m         \u001b[38;5;28;01mif\u001b[39;00m connection \u001b[38;5;129;01mis\u001b[39;00m \u001b[38;5;129;01mnot\u001b[39;00m \u001b[38;5;28;01mNone\u001b[39;00m:\n\u001b[1;32m    641\u001b[0m             \u001b[38;5;28;01mreturn\u001b[39;00m connection\n\u001b[0;32m--> 643\u001b[0m \u001b[38;5;28;01mreturn\u001b[39;00m \u001b[43mdialect\u001b[49m\u001b[38;5;241;43m.\u001b[39;49m\u001b[43mconnect\u001b[49m\u001b[43m(\u001b[49m\u001b[38;5;241;43m*\u001b[39;49m\u001b[43mcargs\u001b[49m\u001b[43m,\u001b[49m\u001b[43m \u001b[49m\u001b[38;5;241;43m*\u001b[39;49m\u001b[38;5;241;43m*\u001b[39;49m\u001b[43mcparams\u001b[49m\u001b[43m)\u001b[49m\n",
      "File \u001b[0;32m~/Desktop/UVA/DS2002/DS2002Final/venv/lib/python3.11/site-packages/sqlalchemy/engine/default.py:621\u001b[0m, in \u001b[0;36mDefaultDialect.connect\u001b[0;34m(self, *cargs, **cparams)\u001b[0m\n\u001b[1;32m    619\u001b[0m \u001b[38;5;28;01mdef\u001b[39;00m \u001b[38;5;21mconnect\u001b[39m(\u001b[38;5;28mself\u001b[39m, \u001b[38;5;241m*\u001b[39mcargs, \u001b[38;5;241m*\u001b[39m\u001b[38;5;241m*\u001b[39mcparams):\n\u001b[1;32m    620\u001b[0m     \u001b[38;5;66;03m# inherits the docstring from interfaces.Dialect.connect\u001b[39;00m\n\u001b[0;32m--> 621\u001b[0m     \u001b[38;5;28;01mreturn\u001b[39;00m \u001b[38;5;28;43mself\u001b[39;49m\u001b[38;5;241;43m.\u001b[39;49m\u001b[43mloaded_dbapi\u001b[49m\u001b[38;5;241;43m.\u001b[39;49m\u001b[43mconnect\u001b[49m\u001b[43m(\u001b[49m\u001b[38;5;241;43m*\u001b[39;49m\u001b[43mcargs\u001b[49m\u001b[43m,\u001b[49m\u001b[43m \u001b[49m\u001b[38;5;241;43m*\u001b[39;49m\u001b[38;5;241;43m*\u001b[39;49m\u001b[43mcparams\u001b[49m\u001b[43m)\u001b[49m\n",
      "File \u001b[0;32m~/Desktop/UVA/DS2002/DS2002Final/venv/lib/python3.11/site-packages/pymysql/connections.py:361\u001b[0m, in \u001b[0;36mConnection.__init__\u001b[0;34m(self, user, password, host, database, unix_socket, port, charset, collation, sql_mode, read_default_file, conv, use_unicode, client_flag, cursorclass, init_command, connect_timeout, read_default_group, autocommit, local_infile, max_allowed_packet, defer_connect, auth_plugin_map, read_timeout, write_timeout, bind_address, binary_prefix, program_name, server_public_key, ssl, ssl_ca, ssl_cert, ssl_disabled, ssl_key, ssl_key_password, ssl_verify_cert, ssl_verify_identity, compress, named_pipe, passwd, db)\u001b[0m\n\u001b[1;32m    359\u001b[0m     \u001b[38;5;28mself\u001b[39m\u001b[38;5;241m.\u001b[39m_sock \u001b[38;5;241m=\u001b[39m \u001b[38;5;28;01mNone\u001b[39;00m\n\u001b[1;32m    360\u001b[0m \u001b[38;5;28;01melse\u001b[39;00m:\n\u001b[0;32m--> 361\u001b[0m     \u001b[38;5;28;43mself\u001b[39;49m\u001b[38;5;241;43m.\u001b[39;49m\u001b[43mconnect\u001b[49m\u001b[43m(\u001b[49m\u001b[43m)\u001b[49m\n",
      "File \u001b[0;32m~/Desktop/UVA/DS2002/DS2002Final/venv/lib/python3.11/site-packages/pymysql/connections.py:716\u001b[0m, in \u001b[0;36mConnection.connect\u001b[0;34m(self, sock)\u001b[0m\n\u001b[1;32m    714\u001b[0m     \u001b[38;5;28;01mif\u001b[39;00m DEBUG:\n\u001b[1;32m    715\u001b[0m         \u001b[38;5;28mprint\u001b[39m(exc\u001b[38;5;241m.\u001b[39mtraceback)\n\u001b[0;32m--> 716\u001b[0m     \u001b[38;5;28;01mraise\u001b[39;00m exc\n\u001b[1;32m    718\u001b[0m \u001b[38;5;66;03m# If e is neither DatabaseError or IOError, It's a bug.\u001b[39;00m\n\u001b[1;32m    719\u001b[0m \u001b[38;5;66;03m# But raising AssertionError hides original error.\u001b[39;00m\n\u001b[1;32m    720\u001b[0m \u001b[38;5;66;03m# So just reraise it.\u001b[39;00m\n\u001b[1;32m    721\u001b[0m \u001b[38;5;28;01mraise\u001b[39;00m\n",
      "\u001b[0;31mOperationalError\u001b[0m: (pymysql.err.OperationalError) (2003, \"Can't connect to MySQL server on 'localhost' ([Errno 61] Connection refused)\")\n(Background on this error at: https://sqlalche.me/e/20/e3q8)"
     ]
    }
   ],
   "source": [
    "mhealth_df = get_dataframe_from_mysql(\"MentalHealthAndSACrimeRate\", database)\n",
    "gapminder_df = get_dataframe_from_mysql(\"Gapminder\", database)"
   ]
  },
  {
   "cell_type": "code",
   "execution_count": 3,
   "metadata": {},
   "outputs": [],
   "source": [
    "# Example getting dataframes from GCP instance\n",
    "mhealth_df = get_dataframe_from_mysql(\"MentalHealthAndSACrimeRate\", database, local=False)\n",
    "gapminder_df = get_dataframe_from_mysql(\"Gapminder\", database, local=False)"
   ]
  },
  {
   "cell_type": "code",
   "execution_count": 4,
   "metadata": {},
   "outputs": [
    {
     "data": {
      "text/html": [
       "<div>\n",
       "<style scoped>\n",
       "    .dataframe tbody tr th:only-of-type {\n",
       "        vertical-align: middle;\n",
       "    }\n",
       "\n",
       "    .dataframe tbody tr th {\n",
       "        vertical-align: top;\n",
       "    }\n",
       "\n",
       "    .dataframe thead th {\n",
       "        text-align: right;\n",
       "    }\n",
       "</style>\n",
       "<table border=\"1\" class=\"dataframe\">\n",
       "  <thead>\n",
       "    <tr style=\"text-align: right;\">\n",
       "      <th></th>\n",
       "      <th>Entity</th>\n",
       "      <th>Year</th>\n",
       "      <th>Schizophrenia (%)</th>\n",
       "      <th>Anxiety disorders (%)</th>\n",
       "      <th>Drug use disorders (%)</th>\n",
       "      <th>Depression (%)</th>\n",
       "      <th>Alcohol use disorders (%)</th>\n",
       "      <th>Sexual Violence Rate</th>\n",
       "    </tr>\n",
       "  </thead>\n",
       "  <tbody>\n",
       "    <tr>\n",
       "      <th>0</th>\n",
       "      <td>Albania</td>\n",
       "      <td>2005</td>\n",
       "      <td>0.196538</td>\n",
       "      <td>3.385416</td>\n",
       "      <td>0.497503</td>\n",
       "      <td>2.223407</td>\n",
       "      <td>1.716585</td>\n",
       "      <td>2.832771</td>\n",
       "    </tr>\n",
       "    <tr>\n",
       "      <th>1</th>\n",
       "      <td>Albania</td>\n",
       "      <td>2006</td>\n",
       "      <td>0.197004</td>\n",
       "      <td>3.387210</td>\n",
       "      <td>0.497997</td>\n",
       "      <td>2.222417</td>\n",
       "      <td>1.737167</td>\n",
       "      <td>2.756124</td>\n",
       "    </tr>\n",
       "    <tr>\n",
       "      <th>2</th>\n",
       "      <td>Albania</td>\n",
       "      <td>2007</td>\n",
       "      <td>0.197636</td>\n",
       "      <td>3.388914</td>\n",
       "      <td>0.497442</td>\n",
       "      <td>2.217203</td>\n",
       "      <td>1.766903</td>\n",
       "      <td>3.186457</td>\n",
       "    </tr>\n",
       "    <tr>\n",
       "      <th>3</th>\n",
       "      <td>Albania</td>\n",
       "      <td>2008</td>\n",
       "      <td>0.198306</td>\n",
       "      <td>3.390168</td>\n",
       "      <td>0.497332</td>\n",
       "      <td>2.210642</td>\n",
       "      <td>1.798550</td>\n",
       "      <td>2.388888</td>\n",
       "    </tr>\n",
       "    <tr>\n",
       "      <th>4</th>\n",
       "      <td>Albania</td>\n",
       "      <td>2009</td>\n",
       "      <td>0.198905</td>\n",
       "      <td>3.391018</td>\n",
       "      <td>0.498324</td>\n",
       "      <td>2.206033</td>\n",
       "      <td>1.824955</td>\n",
       "      <td>2.599662</td>\n",
       "    </tr>\n",
       "    <tr>\n",
       "      <th>...</th>\n",
       "      <td>...</td>\n",
       "      <td>...</td>\n",
       "      <td>...</td>\n",
       "      <td>...</td>\n",
       "      <td>...</td>\n",
       "      <td>...</td>\n",
       "      <td>...</td>\n",
       "      <td>...</td>\n",
       "    </tr>\n",
       "    <tr>\n",
       "      <th>586</th>\n",
       "      <td>Yemen</td>\n",
       "      <td>2005</td>\n",
       "      <td>0.172946</td>\n",
       "      <td>4.830517</td>\n",
       "      <td>1.224141</td>\n",
       "      <td>4.010933</td>\n",
       "      <td>0.627500</td>\n",
       "      <td>0.000000</td>\n",
       "    </tr>\n",
       "    <tr>\n",
       "      <th>587</th>\n",
       "      <td>Yemen</td>\n",
       "      <td>2006</td>\n",
       "      <td>0.173065</td>\n",
       "      <td>4.832736</td>\n",
       "      <td>1.237537</td>\n",
       "      <td>4.012598</td>\n",
       "      <td>0.628636</td>\n",
       "      <td>0.333520</td>\n",
       "    </tr>\n",
       "    <tr>\n",
       "      <th>588</th>\n",
       "      <td>Yemen</td>\n",
       "      <td>2007</td>\n",
       "      <td>0.173181</td>\n",
       "      <td>4.835215</td>\n",
       "      <td>1.263182</td>\n",
       "      <td>4.014557</td>\n",
       "      <td>0.630894</td>\n",
       "      <td>0.246047</td>\n",
       "    </tr>\n",
       "    <tr>\n",
       "      <th>589</th>\n",
       "      <td>Yemen</td>\n",
       "      <td>2008</td>\n",
       "      <td>0.173272</td>\n",
       "      <td>4.837639</td>\n",
       "      <td>1.293243</td>\n",
       "      <td>4.017453</td>\n",
       "      <td>0.633496</td>\n",
       "      <td>0.357986</td>\n",
       "    </tr>\n",
       "    <tr>\n",
       "      <th>590</th>\n",
       "      <td>Yemen</td>\n",
       "      <td>2009</td>\n",
       "      <td>0.173329</td>\n",
       "      <td>4.839962</td>\n",
       "      <td>1.322232</td>\n",
       "      <td>4.018842</td>\n",
       "      <td>0.635702</td>\n",
       "      <td>0.308639</td>\n",
       "    </tr>\n",
       "  </tbody>\n",
       "</table>\n",
       "<p>591 rows × 8 columns</p>\n",
       "</div>"
      ],
      "text/plain": [
       "      Entity  Year  Schizophrenia (%)  Anxiety disorders (%)  \\\n",
       "0    Albania  2005           0.196538               3.385416   \n",
       "1    Albania  2006           0.197004               3.387210   \n",
       "2    Albania  2007           0.197636               3.388914   \n",
       "3    Albania  2008           0.198306               3.390168   \n",
       "4    Albania  2009           0.198905               3.391018   \n",
       "..       ...   ...                ...                    ...   \n",
       "586    Yemen  2005           0.172946               4.830517   \n",
       "587    Yemen  2006           0.173065               4.832736   \n",
       "588    Yemen  2007           0.173181               4.835215   \n",
       "589    Yemen  2008           0.173272               4.837639   \n",
       "590    Yemen  2009           0.173329               4.839962   \n",
       "\n",
       "     Drug use disorders (%)  Depression (%)  Alcohol use disorders (%)  \\\n",
       "0                  0.497503        2.223407                   1.716585   \n",
       "1                  0.497997        2.222417                   1.737167   \n",
       "2                  0.497442        2.217203                   1.766903   \n",
       "3                  0.497332        2.210642                   1.798550   \n",
       "4                  0.498324        2.206033                   1.824955   \n",
       "..                      ...             ...                        ...   \n",
       "586                1.224141        4.010933                   0.627500   \n",
       "587                1.237537        4.012598                   0.628636   \n",
       "588                1.263182        4.014557                   0.630894   \n",
       "589                1.293243        4.017453                   0.633496   \n",
       "590                1.322232        4.018842                   0.635702   \n",
       "\n",
       "     Sexual Violence Rate  \n",
       "0                2.832771  \n",
       "1                2.756124  \n",
       "2                3.186457  \n",
       "3                2.388888  \n",
       "4                2.599662  \n",
       "..                    ...  \n",
       "586              0.000000  \n",
       "587              0.333520  \n",
       "588              0.246047  \n",
       "589              0.357986  \n",
       "590              0.308639  \n",
       "\n",
       "[591 rows x 8 columns]"
      ]
     },
     "execution_count": 4,
     "metadata": {},
     "output_type": "execute_result"
    }
   ],
   "source": [
    "mhealth_df"
   ]
  },
  {
   "cell_type": "code",
   "execution_count": 4,
   "metadata": {},
   "outputs": [
    {
     "data": {
      "text/html": [
       "<div>\n",
       "<style scoped>\n",
       "    .dataframe tbody tr th:only-of-type {\n",
       "        vertical-align: middle;\n",
       "    }\n",
       "\n",
       "    .dataframe tbody tr th {\n",
       "        vertical-align: top;\n",
       "    }\n",
       "\n",
       "    .dataframe thead th {\n",
       "        text-align: right;\n",
       "    }\n",
       "</style>\n",
       "<table border=\"1\" class=\"dataframe\">\n",
       "  <thead>\n",
       "    <tr style=\"text-align: right;\">\n",
       "      <th></th>\n",
       "      <th>country</th>\n",
       "      <th>year</th>\n",
       "      <th>infant_mortality</th>\n",
       "      <th>life_expectancy</th>\n",
       "      <th>fertility</th>\n",
       "      <th>population</th>\n",
       "      <th>gdp</th>\n",
       "      <th>continent</th>\n",
       "      <th>region</th>\n",
       "    </tr>\n",
       "  </thead>\n",
       "  <tbody>\n",
       "    <tr>\n",
       "      <th>0</th>\n",
       "      <td>Belgium</td>\n",
       "      <td>2003</td>\n",
       "      <td>4.2</td>\n",
       "      <td>78.5</td>\n",
       "      <td>1.70</td>\n",
       "      <td>10426169.0</td>\n",
       "      <td>2.396593e+11</td>\n",
       "      <td>Europe</td>\n",
       "      <td>Western Europe</td>\n",
       "    </tr>\n",
       "    <tr>\n",
       "      <th>1</th>\n",
       "      <td>Bulgaria</td>\n",
       "      <td>2003</td>\n",
       "      <td>15.5</td>\n",
       "      <td>72.3</td>\n",
       "      <td>1.25</td>\n",
       "      <td>7805041.0</td>\n",
       "      <td>1.483846e+10</td>\n",
       "      <td>Europe</td>\n",
       "      <td>Eastern Europe</td>\n",
       "    </tr>\n",
       "    <tr>\n",
       "      <th>2</th>\n",
       "      <td>Canada</td>\n",
       "      <td>2003</td>\n",
       "      <td>5.2</td>\n",
       "      <td>79.8</td>\n",
       "      <td>1.54</td>\n",
       "      <td>31596593.0</td>\n",
       "      <td>7.737140e+11</td>\n",
       "      <td>Americas</td>\n",
       "      <td>Northern America</td>\n",
       "    </tr>\n",
       "    <tr>\n",
       "      <th>3</th>\n",
       "      <td>Croatia</td>\n",
       "      <td>2003</td>\n",
       "      <td>6.3</td>\n",
       "      <td>75.1</td>\n",
       "      <td>1.38</td>\n",
       "      <td>4390291.0</td>\n",
       "      <td>2.464898e+10</td>\n",
       "      <td>Europe</td>\n",
       "      <td>Southern Europe</td>\n",
       "    </tr>\n",
       "    <tr>\n",
       "      <th>4</th>\n",
       "      <td>Czech Republic</td>\n",
       "      <td>2003</td>\n",
       "      <td>4.8</td>\n",
       "      <td>75.6</td>\n",
       "      <td>1.20</td>\n",
       "      <td>10211846.0</td>\n",
       "      <td>6.426426e+10</td>\n",
       "      <td>Europe</td>\n",
       "      <td>Eastern Europe</td>\n",
       "    </tr>\n",
       "    <tr>\n",
       "      <th>...</th>\n",
       "      <td>...</td>\n",
       "      <td>...</td>\n",
       "      <td>...</td>\n",
       "      <td>...</td>\n",
       "      <td>...</td>\n",
       "      <td>...</td>\n",
       "      <td>...</td>\n",
       "      <td>...</td>\n",
       "      <td>...</td>\n",
       "    </tr>\n",
       "    <tr>\n",
       "      <th>558</th>\n",
       "      <td>Spain</td>\n",
       "      <td>2011</td>\n",
       "      <td>3.8</td>\n",
       "      <td>82.0</td>\n",
       "      <td>1.47</td>\n",
       "      <td>46708366.0</td>\n",
       "      <td>7.171940e+11</td>\n",
       "      <td>Europe</td>\n",
       "      <td>Southern Europe</td>\n",
       "    </tr>\n",
       "    <tr>\n",
       "      <th>559</th>\n",
       "      <td>Sweden</td>\n",
       "      <td>2011</td>\n",
       "      <td>2.4</td>\n",
       "      <td>81.7</td>\n",
       "      <td>1.90</td>\n",
       "      <td>9462352.0</td>\n",
       "      <td>3.167986e+11</td>\n",
       "      <td>Europe</td>\n",
       "      <td>Northern Europe</td>\n",
       "    </tr>\n",
       "    <tr>\n",
       "      <th>560</th>\n",
       "      <td>Switzerland</td>\n",
       "      <td>2011</td>\n",
       "      <td>3.8</td>\n",
       "      <td>82.6</td>\n",
       "      <td>1.51</td>\n",
       "      <td>7925813.0</td>\n",
       "      <td>3.009384e+11</td>\n",
       "      <td>Europe</td>\n",
       "      <td>Western Europe</td>\n",
       "    </tr>\n",
       "    <tr>\n",
       "      <th>561</th>\n",
       "      <td>Tajikistan</td>\n",
       "      <td>2011</td>\n",
       "      <td>43.3</td>\n",
       "      <td>70.1</td>\n",
       "      <td>3.81</td>\n",
       "      <td>7753925.0</td>\n",
       "      <td>2.060715e+09</td>\n",
       "      <td>Asia</td>\n",
       "      <td>Central Asia</td>\n",
       "    </tr>\n",
       "    <tr>\n",
       "      <th>562</th>\n",
       "      <td>Trinidad and Tobago</td>\n",
       "      <td>2011</td>\n",
       "      <td>20.4</td>\n",
       "      <td>71.9</td>\n",
       "      <td>1.80</td>\n",
       "      <td>1334790.0</td>\n",
       "      <td>1.390608e+10</td>\n",
       "      <td>Americas</td>\n",
       "      <td>Caribbean</td>\n",
       "    </tr>\n",
       "  </tbody>\n",
       "</table>\n",
       "<p>563 rows × 9 columns</p>\n",
       "</div>"
      ],
      "text/plain": [
       "                 country  year  infant_mortality  life_expectancy  fertility  \\\n",
       "0                Belgium  2003               4.2             78.5       1.70   \n",
       "1               Bulgaria  2003              15.5             72.3       1.25   \n",
       "2                 Canada  2003               5.2             79.8       1.54   \n",
       "3                Croatia  2003               6.3             75.1       1.38   \n",
       "4         Czech Republic  2003               4.8             75.6       1.20   \n",
       "..                   ...   ...               ...              ...        ...   \n",
       "558                Spain  2011               3.8             82.0       1.47   \n",
       "559               Sweden  2011               2.4             81.7       1.90   \n",
       "560          Switzerland  2011               3.8             82.6       1.51   \n",
       "561           Tajikistan  2011              43.3             70.1       3.81   \n",
       "562  Trinidad and Tobago  2011              20.4             71.9       1.80   \n",
       "\n",
       "     population           gdp continent            region  \n",
       "0    10426169.0  2.396593e+11    Europe    Western Europe  \n",
       "1     7805041.0  1.483846e+10    Europe    Eastern Europe  \n",
       "2    31596593.0  7.737140e+11  Americas  Northern America  \n",
       "3     4390291.0  2.464898e+10    Europe   Southern Europe  \n",
       "4    10211846.0  6.426426e+10    Europe    Eastern Europe  \n",
       "..          ...           ...       ...               ...  \n",
       "558  46708366.0  7.171940e+11    Europe   Southern Europe  \n",
       "559   9462352.0  3.167986e+11    Europe   Northern Europe  \n",
       "560   7925813.0  3.009384e+11    Europe    Western Europe  \n",
       "561   7753925.0  2.060715e+09      Asia      Central Asia  \n",
       "562   1334790.0  1.390608e+10  Americas         Caribbean  \n",
       "\n",
       "[563 rows x 9 columns]"
      ]
     },
     "execution_count": 4,
     "metadata": {},
     "output_type": "execute_result"
    }
   ],
   "source": [
    "gapminder_df"
   ]
  },
  {
   "cell_type": "code",
   "execution_count": 5,
   "metadata": {},
   "outputs": [],
   "source": [
    "# How alcohol use disorders has affected life expectany per country over time \n",
    "# How has...\n",
    "import pandas as pd\n",
    "import seaborn as sb\n",
    "import matplotlib as plt"
   ]
  },
  {
   "cell_type": "code",
   "execution_count": 6,
   "metadata": {},
   "outputs": [],
   "source": [
    "gap_mhealth = pd.merge(mhealth_df, gapminder_df, left_on=['Entity', 'Year'], right_on=['country', 'year'])"
   ]
  },
  {
   "cell_type": "code",
   "execution_count": 7,
   "metadata": {},
   "outputs": [
    {
     "data": {
      "text/html": [
       "<div>\n",
       "<style scoped>\n",
       "    .dataframe tbody tr th:only-of-type {\n",
       "        vertical-align: middle;\n",
       "    }\n",
       "\n",
       "    .dataframe tbody tr th {\n",
       "        vertical-align: top;\n",
       "    }\n",
       "\n",
       "    .dataframe thead th {\n",
       "        text-align: right;\n",
       "    }\n",
       "</style>\n",
       "<table border=\"1\" class=\"dataframe\">\n",
       "  <thead>\n",
       "    <tr style=\"text-align: right;\">\n",
       "      <th></th>\n",
       "      <th>Entity</th>\n",
       "      <th>Year</th>\n",
       "      <th>Schizophrenia (%)</th>\n",
       "      <th>Anxiety disorders (%)</th>\n",
       "      <th>Drug use disorders (%)</th>\n",
       "      <th>Depression (%)</th>\n",
       "      <th>Alcohol use disorders (%)</th>\n",
       "      <th>Sexual Violence Rate</th>\n",
       "      <th>infant_mortality</th>\n",
       "      <th>life_expectancy</th>\n",
       "      <th>fertility</th>\n",
       "      <th>population</th>\n",
       "      <th>gdp</th>\n",
       "      <th>continent</th>\n",
       "      <th>region</th>\n",
       "    </tr>\n",
       "  </thead>\n",
       "  <tbody>\n",
       "    <tr>\n",
       "      <th>0</th>\n",
       "      <td>Albania</td>\n",
       "      <td>2005</td>\n",
       "      <td>0.196538</td>\n",
       "      <td>3.385416</td>\n",
       "      <td>0.497503</td>\n",
       "      <td>2.223407</td>\n",
       "      <td>1.716585</td>\n",
       "      <td>2.832771</td>\n",
       "      <td>18.3</td>\n",
       "      <td>76.2</td>\n",
       "      <td>1.92</td>\n",
       "      <td>3082172.0</td>\n",
       "      <td>4.793518e+09</td>\n",
       "      <td>Europe</td>\n",
       "      <td>Southern Europe</td>\n",
       "    </tr>\n",
       "    <tr>\n",
       "      <th>1</th>\n",
       "      <td>Albania</td>\n",
       "      <td>2006</td>\n",
       "      <td>0.197004</td>\n",
       "      <td>3.387210</td>\n",
       "      <td>0.497997</td>\n",
       "      <td>2.222417</td>\n",
       "      <td>1.737167</td>\n",
       "      <td>2.756124</td>\n",
       "      <td>17.4</td>\n",
       "      <td>76.4</td>\n",
       "      <td>1.85</td>\n",
       "      <td>3050741.0</td>\n",
       "      <td>5.033194e+09</td>\n",
       "      <td>Europe</td>\n",
       "      <td>Southern Europe</td>\n",
       "    </tr>\n",
       "    <tr>\n",
       "      <th>2</th>\n",
       "      <td>Albania</td>\n",
       "      <td>2007</td>\n",
       "      <td>0.197636</td>\n",
       "      <td>3.388914</td>\n",
       "      <td>0.497442</td>\n",
       "      <td>2.217203</td>\n",
       "      <td>1.766903</td>\n",
       "      <td>3.186457</td>\n",
       "      <td>16.7</td>\n",
       "      <td>76.6</td>\n",
       "      <td>1.80</td>\n",
       "      <td>3010849.0</td>\n",
       "      <td>5.330153e+09</td>\n",
       "      <td>Europe</td>\n",
       "      <td>Southern Europe</td>\n",
       "    </tr>\n",
       "    <tr>\n",
       "      <th>3</th>\n",
       "      <td>Albania</td>\n",
       "      <td>2008</td>\n",
       "      <td>0.198306</td>\n",
       "      <td>3.390168</td>\n",
       "      <td>0.497332</td>\n",
       "      <td>2.210642</td>\n",
       "      <td>1.798550</td>\n",
       "      <td>2.388888</td>\n",
       "      <td>16.0</td>\n",
       "      <td>76.8</td>\n",
       "      <td>1.76</td>\n",
       "      <td>2968026.0</td>\n",
       "      <td>5.740575e+09</td>\n",
       "      <td>Europe</td>\n",
       "      <td>Southern Europe</td>\n",
       "    </tr>\n",
       "    <tr>\n",
       "      <th>4</th>\n",
       "      <td>Albania</td>\n",
       "      <td>2009</td>\n",
       "      <td>0.198905</td>\n",
       "      <td>3.391018</td>\n",
       "      <td>0.498324</td>\n",
       "      <td>2.206033</td>\n",
       "      <td>1.824955</td>\n",
       "      <td>2.599662</td>\n",
       "      <td>15.4</td>\n",
       "      <td>77.0</td>\n",
       "      <td>1.74</td>\n",
       "      <td>2929886.0</td>\n",
       "      <td>5.930013e+09</td>\n",
       "      <td>Europe</td>\n",
       "      <td>Southern Europe</td>\n",
       "    </tr>\n",
       "    <tr>\n",
       "      <th>...</th>\n",
       "      <td>...</td>\n",
       "      <td>...</td>\n",
       "      <td>...</td>\n",
       "      <td>...</td>\n",
       "      <td>...</td>\n",
       "      <td>...</td>\n",
       "      <td>...</td>\n",
       "      <td>...</td>\n",
       "      <td>...</td>\n",
       "      <td>...</td>\n",
       "      <td>...</td>\n",
       "      <td>...</td>\n",
       "      <td>...</td>\n",
       "      <td>...</td>\n",
       "      <td>...</td>\n",
       "    </tr>\n",
       "    <tr>\n",
       "      <th>558</th>\n",
       "      <td>Yemen</td>\n",
       "      <td>2005</td>\n",
       "      <td>0.172946</td>\n",
       "      <td>4.830517</td>\n",
       "      <td>1.224141</td>\n",
       "      <td>4.010933</td>\n",
       "      <td>0.627500</td>\n",
       "      <td>0.000000</td>\n",
       "      <td>54.5</td>\n",
       "      <td>64.6</td>\n",
       "      <td>5.39</td>\n",
       "      <td>20504385.0</td>\n",
       "      <td>1.184170e+10</td>\n",
       "      <td>Asia</td>\n",
       "      <td>Western Asia</td>\n",
       "    </tr>\n",
       "    <tr>\n",
       "      <th>559</th>\n",
       "      <td>Yemen</td>\n",
       "      <td>2006</td>\n",
       "      <td>0.173065</td>\n",
       "      <td>4.832736</td>\n",
       "      <td>1.237537</td>\n",
       "      <td>4.012598</td>\n",
       "      <td>0.628636</td>\n",
       "      <td>0.333520</td>\n",
       "      <td>51.9</td>\n",
       "      <td>65.0</td>\n",
       "      <td>5.20</td>\n",
       "      <td>21093973.0</td>\n",
       "      <td>1.221713e+10</td>\n",
       "      <td>Asia</td>\n",
       "      <td>Western Asia</td>\n",
       "    </tr>\n",
       "    <tr>\n",
       "      <th>560</th>\n",
       "      <td>Yemen</td>\n",
       "      <td>2007</td>\n",
       "      <td>0.173181</td>\n",
       "      <td>4.835215</td>\n",
       "      <td>1.263182</td>\n",
       "      <td>4.014557</td>\n",
       "      <td>0.630894</td>\n",
       "      <td>0.246047</td>\n",
       "      <td>49.4</td>\n",
       "      <td>65.2</td>\n",
       "      <td>5.01</td>\n",
       "      <td>21701105.0</td>\n",
       "      <td>1.262499e+10</td>\n",
       "      <td>Asia</td>\n",
       "      <td>Western Asia</td>\n",
       "    </tr>\n",
       "    <tr>\n",
       "      <th>561</th>\n",
       "      <td>Yemen</td>\n",
       "      <td>2008</td>\n",
       "      <td>0.173272</td>\n",
       "      <td>4.837639</td>\n",
       "      <td>1.293243</td>\n",
       "      <td>4.017453</td>\n",
       "      <td>0.633496</td>\n",
       "      <td>0.357986</td>\n",
       "      <td>47.0</td>\n",
       "      <td>65.7</td>\n",
       "      <td>4.83</td>\n",
       "      <td>22322699.0</td>\n",
       "      <td>1.308549e+10</td>\n",
       "      <td>Asia</td>\n",
       "      <td>Western Asia</td>\n",
       "    </tr>\n",
       "    <tr>\n",
       "      <th>562</th>\n",
       "      <td>Yemen</td>\n",
       "      <td>2009</td>\n",
       "      <td>0.173329</td>\n",
       "      <td>4.839962</td>\n",
       "      <td>1.322232</td>\n",
       "      <td>4.018842</td>\n",
       "      <td>0.635702</td>\n",
       "      <td>0.308639</td>\n",
       "      <td>44.7</td>\n",
       "      <td>66.2</td>\n",
       "      <td>4.66</td>\n",
       "      <td>22954226.0</td>\n",
       "      <td>1.359143e+10</td>\n",
       "      <td>Asia</td>\n",
       "      <td>Western Asia</td>\n",
       "    </tr>\n",
       "  </tbody>\n",
       "</table>\n",
       "<p>563 rows × 15 columns</p>\n",
       "</div>"
      ],
      "text/plain": [
       "      Entity  Year  Schizophrenia (%)  Anxiety disorders (%)  \\\n",
       "0    Albania  2005           0.196538               3.385416   \n",
       "1    Albania  2006           0.197004               3.387210   \n",
       "2    Albania  2007           0.197636               3.388914   \n",
       "3    Albania  2008           0.198306               3.390168   \n",
       "4    Albania  2009           0.198905               3.391018   \n",
       "..       ...   ...                ...                    ...   \n",
       "558    Yemen  2005           0.172946               4.830517   \n",
       "559    Yemen  2006           0.173065               4.832736   \n",
       "560    Yemen  2007           0.173181               4.835215   \n",
       "561    Yemen  2008           0.173272               4.837639   \n",
       "562    Yemen  2009           0.173329               4.839962   \n",
       "\n",
       "     Drug use disorders (%)  Depression (%)  Alcohol use disorders (%)  \\\n",
       "0                  0.497503        2.223407                   1.716585   \n",
       "1                  0.497997        2.222417                   1.737167   \n",
       "2                  0.497442        2.217203                   1.766903   \n",
       "3                  0.497332        2.210642                   1.798550   \n",
       "4                  0.498324        2.206033                   1.824955   \n",
       "..                      ...             ...                        ...   \n",
       "558                1.224141        4.010933                   0.627500   \n",
       "559                1.237537        4.012598                   0.628636   \n",
       "560                1.263182        4.014557                   0.630894   \n",
       "561                1.293243        4.017453                   0.633496   \n",
       "562                1.322232        4.018842                   0.635702   \n",
       "\n",
       "     Sexual Violence Rate  infant_mortality  life_expectancy  fertility  \\\n",
       "0                2.832771              18.3             76.2       1.92   \n",
       "1                2.756124              17.4             76.4       1.85   \n",
       "2                3.186457              16.7             76.6       1.80   \n",
       "3                2.388888              16.0             76.8       1.76   \n",
       "4                2.599662              15.4             77.0       1.74   \n",
       "..                    ...               ...              ...        ...   \n",
       "558              0.000000              54.5             64.6       5.39   \n",
       "559              0.333520              51.9             65.0       5.20   \n",
       "560              0.246047              49.4             65.2       5.01   \n",
       "561              0.357986              47.0             65.7       4.83   \n",
       "562              0.308639              44.7             66.2       4.66   \n",
       "\n",
       "     population           gdp continent           region  \n",
       "0     3082172.0  4.793518e+09    Europe  Southern Europe  \n",
       "1     3050741.0  5.033194e+09    Europe  Southern Europe  \n",
       "2     3010849.0  5.330153e+09    Europe  Southern Europe  \n",
       "3     2968026.0  5.740575e+09    Europe  Southern Europe  \n",
       "4     2929886.0  5.930013e+09    Europe  Southern Europe  \n",
       "..          ...           ...       ...              ...  \n",
       "558  20504385.0  1.184170e+10      Asia     Western Asia  \n",
       "559  21093973.0  1.221713e+10      Asia     Western Asia  \n",
       "560  21701105.0  1.262499e+10      Asia     Western Asia  \n",
       "561  22322699.0  1.308549e+10      Asia     Western Asia  \n",
       "562  22954226.0  1.359143e+10      Asia     Western Asia  \n",
       "\n",
       "[563 rows x 15 columns]"
      ]
     },
     "execution_count": 7,
     "metadata": {},
     "output_type": "execute_result"
    }
   ],
   "source": [
    "gap_mhealth = gap_mhealth.drop(columns=[\"country\", \"year\"])\n",
    "gap_mhealth"
   ]
  },
  {
   "cell_type": "code",
   "execution_count": 8,
   "metadata": {},
   "outputs": [
    {
     "name": "stderr",
     "output_type": "stream",
     "text": [
      "/Users/shevyapanda/Desktop/DS 2002/DS2002Final/venv/lib/python3.11/site-packages/seaborn/_oldcore.py:1119: FutureWarning: use_inf_as_na option is deprecated and will be removed in a future version. Convert inf values to NaN before operating instead.\n",
      "  with pd.option_context('mode.use_inf_as_na', True):\n",
      "/Users/shevyapanda/Desktop/DS 2002/DS2002Final/venv/lib/python3.11/site-packages/seaborn/_oldcore.py:1119: FutureWarning: use_inf_as_na option is deprecated and will be removed in a future version. Convert inf values to NaN before operating instead.\n",
      "  with pd.option_context('mode.use_inf_as_na', True):\n",
      "/Users/shevyapanda/Desktop/DS 2002/DS2002Final/venv/lib/python3.11/site-packages/seaborn/_oldcore.py:1075: FutureWarning: When grouping with a length-1 list-like, you will need to pass a length-1 tuple to get_group in a future version of pandas. Pass `(name,)` instead of `name` to silence this warning.\n",
      "  data_subset = grouped_data.get_group(pd_key)\n",
      "/Users/shevyapanda/Desktop/DS 2002/DS2002Final/venv/lib/python3.11/site-packages/seaborn/_oldcore.py:1075: FutureWarning: When grouping with a length-1 list-like, you will need to pass a length-1 tuple to get_group in a future version of pandas. Pass `(name,)` instead of `name` to silence this warning.\n",
      "  data_subset = grouped_data.get_group(pd_key)\n",
      "/Users/shevyapanda/Desktop/DS 2002/DS2002Final/venv/lib/python3.11/site-packages/seaborn/_oldcore.py:1075: FutureWarning: When grouping with a length-1 list-like, you will need to pass a length-1 tuple to get_group in a future version of pandas. Pass `(name,)` instead of `name` to silence this warning.\n",
      "  data_subset = grouped_data.get_group(pd_key)\n",
      "/Users/shevyapanda/Desktop/DS 2002/DS2002Final/venv/lib/python3.11/site-packages/seaborn/_oldcore.py:1075: FutureWarning: When grouping with a length-1 list-like, you will need to pass a length-1 tuple to get_group in a future version of pandas. Pass `(name,)` instead of `name` to silence this warning.\n",
      "  data_subset = grouped_data.get_group(pd_key)\n",
      "/Users/shevyapanda/Desktop/DS 2002/DS2002Final/venv/lib/python3.11/site-packages/seaborn/_oldcore.py:1075: FutureWarning: When grouping with a length-1 list-like, you will need to pass a length-1 tuple to get_group in a future version of pandas. Pass `(name,)` instead of `name` to silence this warning.\n",
      "  data_subset = grouped_data.get_group(pd_key)\n",
      "/Users/shevyapanda/Desktop/DS 2002/DS2002Final/venv/lib/python3.11/site-packages/seaborn/_oldcore.py:1075: FutureWarning: When grouping with a length-1 list-like, you will need to pass a length-1 tuple to get_group in a future version of pandas. Pass `(name,)` instead of `name` to silence this warning.\n",
      "  data_subset = grouped_data.get_group(pd_key)\n",
      "/Users/shevyapanda/Desktop/DS 2002/DS2002Final/venv/lib/python3.11/site-packages/seaborn/_oldcore.py:1075: FutureWarning: When grouping with a length-1 list-like, you will need to pass a length-1 tuple to get_group in a future version of pandas. Pass `(name,)` instead of `name` to silence this warning.\n",
      "  data_subset = grouped_data.get_group(pd_key)\n",
      "/Users/shevyapanda/Desktop/DS 2002/DS2002Final/venv/lib/python3.11/site-packages/seaborn/_oldcore.py:1075: FutureWarning: When grouping with a length-1 list-like, you will need to pass a length-1 tuple to get_group in a future version of pandas. Pass `(name,)` instead of `name` to silence this warning.\n",
      "  data_subset = grouped_data.get_group(pd_key)\n",
      "/Users/shevyapanda/Desktop/DS 2002/DS2002Final/venv/lib/python3.11/site-packages/seaborn/_oldcore.py:1075: FutureWarning: When grouping with a length-1 list-like, you will need to pass a length-1 tuple to get_group in a future version of pandas. Pass `(name,)` instead of `name` to silence this warning.\n",
      "  data_subset = grouped_data.get_group(pd_key)\n",
      "/Users/shevyapanda/Desktop/DS 2002/DS2002Final/venv/lib/python3.11/site-packages/seaborn/_oldcore.py:1075: FutureWarning: When grouping with a length-1 list-like, you will need to pass a length-1 tuple to get_group in a future version of pandas. Pass `(name,)` instead of `name` to silence this warning.\n",
      "  data_subset = grouped_data.get_group(pd_key)\n",
      "/Users/shevyapanda/Desktop/DS 2002/DS2002Final/venv/lib/python3.11/site-packages/seaborn/_oldcore.py:1075: FutureWarning: When grouping with a length-1 list-like, you will need to pass a length-1 tuple to get_group in a future version of pandas. Pass `(name,)` instead of `name` to silence this warning.\n",
      "  data_subset = grouped_data.get_group(pd_key)\n",
      "/Users/shevyapanda/Desktop/DS 2002/DS2002Final/venv/lib/python3.11/site-packages/seaborn/_oldcore.py:1075: FutureWarning: When grouping with a length-1 list-like, you will need to pass a length-1 tuple to get_group in a future version of pandas. Pass `(name,)` instead of `name` to silence this warning.\n",
      "  data_subset = grouped_data.get_group(pd_key)\n",
      "/Users/shevyapanda/Desktop/DS 2002/DS2002Final/venv/lib/python3.11/site-packages/seaborn/_oldcore.py:1075: FutureWarning: When grouping with a length-1 list-like, you will need to pass a length-1 tuple to get_group in a future version of pandas. Pass `(name,)` instead of `name` to silence this warning.\n",
      "  data_subset = grouped_data.get_group(pd_key)\n",
      "/Users/shevyapanda/Desktop/DS 2002/DS2002Final/venv/lib/python3.11/site-packages/seaborn/_oldcore.py:1075: FutureWarning: When grouping with a length-1 list-like, you will need to pass a length-1 tuple to get_group in a future version of pandas. Pass `(name,)` instead of `name` to silence this warning.\n",
      "  data_subset = grouped_data.get_group(pd_key)\n",
      "/Users/shevyapanda/Desktop/DS 2002/DS2002Final/venv/lib/python3.11/site-packages/seaborn/_oldcore.py:1075: FutureWarning: When grouping with a length-1 list-like, you will need to pass a length-1 tuple to get_group in a future version of pandas. Pass `(name,)` instead of `name` to silence this warning.\n",
      "  data_subset = grouped_data.get_group(pd_key)\n",
      "/Users/shevyapanda/Desktop/DS 2002/DS2002Final/venv/lib/python3.11/site-packages/seaborn/_oldcore.py:1075: FutureWarning: When grouping with a length-1 list-like, you will need to pass a length-1 tuple to get_group in a future version of pandas. Pass `(name,)` instead of `name` to silence this warning.\n",
      "  data_subset = grouped_data.get_group(pd_key)\n",
      "/Users/shevyapanda/Desktop/DS 2002/DS2002Final/venv/lib/python3.11/site-packages/seaborn/_oldcore.py:1075: FutureWarning: When grouping with a length-1 list-like, you will need to pass a length-1 tuple to get_group in a future version of pandas. Pass `(name,)` instead of `name` to silence this warning.\n",
      "  data_subset = grouped_data.get_group(pd_key)\n",
      "/Users/shevyapanda/Desktop/DS 2002/DS2002Final/venv/lib/python3.11/site-packages/seaborn/_oldcore.py:1075: FutureWarning: When grouping with a length-1 list-like, you will need to pass a length-1 tuple to get_group in a future version of pandas. Pass `(name,)` instead of `name` to silence this warning.\n",
      "  data_subset = grouped_data.get_group(pd_key)\n"
     ]
    },
    {
     "data": {
      "text/plain": [
       "<AxesSubplot: xlabel='Year', ylabel='life_expectancy'>"
      ]
     },
     "execution_count": 8,
     "metadata": {},
     "output_type": "execute_result"
    },
    {
     "data": {
      "image/png": "[encoded data removed]",
      "text/plain": [
       "<Figure size 640x480 with 1 Axes>"
      ]
     },
     "metadata": {},
     "output_type": "display_data"
    }
   ],
   "source": [
    "sb.lineplot(x='Year', y='life_expectancy', hue='region', data=gap_mhealth)\n"
   ]
  },
  {
   "cell_type": "code",
   "execution_count": 9,
   "metadata": {},
   "outputs": [
    {
     "data": {
      "text/plain": [
       "<AxesSubplot: xlabel='Sexual Violence Rate', ylabel='population'>"
      ]
     },
     "execution_count": 9,
     "metadata": {},
     "output_type": "execute_result"
    },
    {
     "data": {
      "image/png": "[encoded data removed]",
      "text/plain": [
       "<Figure size 640x480 with 1 Axes>"
      ]
     },
     "metadata": {},
     "output_type": "display_data"
    }
   ],
   "source": [
    "sb.scatterplot(x='Sexual Violence Rate', y='population',hue='continent', data=gap_mhealth)\n"
   ]
  },
  {
   "cell_type": "code",
   "execution_count": 10,
   "metadata": {},
   "outputs": [
    {
     "data": {
      "text/plain": [
       "<AxesSubplot: xlabel='Alcohol use disorders (%)', ylabel='Sexual Violence Rate'>"
      ]
     },
     "execution_count": 10,
     "metadata": {},
     "output_type": "execute_result"
    },
    {
     "data": {
      "image/png": "[encoded data removed]",
      "text/plain": [
       "<Figure size 640x480 with 1 Axes>"
      ]
     },
     "metadata": {},
     "output_type": "display_data"
    }
   ],
   "source": [
    "sb.scatterplot(x='Alcohol use disorders (%)', y='Sexual Violence Rate',hue='continent', data=gap_mhealth)\n"
   ]
  },
  {
   "cell_type": "code",
   "execution_count": 11,
   "metadata": {},
   "outputs": [
    {
     "data": {
      "text/plain": [
       "<AxesSubplot: xlabel='Year', ylabel='Sexual Violence Rate'>"
      ]
     },
     "execution_count": 11,
     "metadata": {},
     "output_type": "execute_result"
    },
    {
     "data": {
      "image/png": "[encoded data removed]",
      "text/plain": [
       "<Figure size 640x480 with 1 Axes>"
      ]
     },
     "metadata": {},
     "output_type": "display_data"
    }
   ],
   "source": [
    "sb.scatterplot(x='Year', y='Sexual Violence Rate',hue='continent', data=gap_mhealth)\n"
   ]
  },
  {
   "cell_type": "code",
   "execution_count": 12,
   "metadata": {},
   "outputs": [],
   "source": [
    "import pycountry\n",
    "import plotly.graph_objects as go\n"
   ]
  },
  {
   "cell_type": "code",
   "execution_count": 14,
   "metadata": {},
   "outputs": [
    {
     "data": {
      "text/html": [
       "<div>\n",
       "<style scoped>\n",
       "    .dataframe tbody tr th:only-of-type {\n",
       "        vertical-align: middle;\n",
       "    }\n",
       "\n",
       "    .dataframe tbody tr th {\n",
       "        vertical-align: top;\n",
       "    }\n",
       "\n",
       "    .dataframe thead th {\n",
       "        text-align: right;\n",
       "    }\n",
       "</style>\n",
       "<table border=\"1\" class=\"dataframe\">\n",
       "  <thead>\n",
       "    <tr style=\"text-align: right;\">\n",
       "      <th></th>\n",
       "      <th>Entity</th>\n",
       "      <th>Year</th>\n",
       "      <th>Schizophrenia (%)</th>\n",
       "      <th>Anxiety disorders (%)</th>\n",
       "      <th>Drug use disorders (%)</th>\n",
       "      <th>Depression (%)</th>\n",
       "      <th>Alcohol use disorders (%)</th>\n",
       "      <th>Sexual Violence Rate</th>\n",
       "      <th>infant_mortality</th>\n",
       "      <th>life_expectancy</th>\n",
       "      <th>fertility</th>\n",
       "      <th>population</th>\n",
       "      <th>gdp</th>\n",
       "      <th>continent</th>\n",
       "      <th>region</th>\n",
       "      <th>iso_code</th>\n",
       "    </tr>\n",
       "  </thead>\n",
       "  <tbody>\n",
       "    <tr>\n",
       "      <th>0</th>\n",
       "      <td>Albania</td>\n",
       "      <td>2005</td>\n",
       "      <td>0.196538</td>\n",
       "      <td>3.385416</td>\n",
       "      <td>0.497503</td>\n",
       "      <td>2.223407</td>\n",
       "      <td>1.716585</td>\n",
       "      <td>2.832771</td>\n",
       "      <td>18.3</td>\n",
       "      <td>76.2</td>\n",
       "      <td>1.92</td>\n",
       "      <td>3082172.0</td>\n",
       "      <td>4.793518e+09</td>\n",
       "      <td>Europe</td>\n",
       "      <td>Southern Europe</td>\n",
       "      <td>ALB</td>\n",
       "    </tr>\n",
       "    <tr>\n",
       "      <th>1</th>\n",
       "      <td>Albania</td>\n",
       "      <td>2006</td>\n",
       "      <td>0.197004</td>\n",
       "      <td>3.387210</td>\n",
       "      <td>0.497997</td>\n",
       "      <td>2.222417</td>\n",
       "      <td>1.737167</td>\n",
       "      <td>2.756124</td>\n",
       "      <td>17.4</td>\n",
       "      <td>76.4</td>\n",
       "      <td>1.85</td>\n",
       "      <td>3050741.0</td>\n",
       "      <td>5.033194e+09</td>\n",
       "      <td>Europe</td>\n",
       "      <td>Southern Europe</td>\n",
       "      <td>ALB</td>\n",
       "    </tr>\n",
       "    <tr>\n",
       "      <th>2</th>\n",
       "      <td>Albania</td>\n",
       "      <td>2007</td>\n",
       "      <td>0.197636</td>\n",
       "      <td>3.388914</td>\n",
       "      <td>0.497442</td>\n",
       "      <td>2.217203</td>\n",
       "      <td>1.766903</td>\n",
       "      <td>3.186457</td>\n",
       "      <td>16.7</td>\n",
       "      <td>76.6</td>\n",
       "      <td>1.80</td>\n",
       "      <td>3010849.0</td>\n",
       "      <td>5.330153e+09</td>\n",
       "      <td>Europe</td>\n",
       "      <td>Southern Europe</td>\n",
       "      <td>ALB</td>\n",
       "    </tr>\n",
       "    <tr>\n",
       "      <th>3</th>\n",
       "      <td>Albania</td>\n",
       "      <td>2008</td>\n",
       "      <td>0.198306</td>\n",
       "      <td>3.390168</td>\n",
       "      <td>0.497332</td>\n",
       "      <td>2.210642</td>\n",
       "      <td>1.798550</td>\n",
       "      <td>2.388888</td>\n",
       "      <td>16.0</td>\n",
       "      <td>76.8</td>\n",
       "      <td>1.76</td>\n",
       "      <td>2968026.0</td>\n",
       "      <td>5.740575e+09</td>\n",
       "      <td>Europe</td>\n",
       "      <td>Southern Europe</td>\n",
       "      <td>ALB</td>\n",
       "    </tr>\n",
       "    <tr>\n",
       "      <th>4</th>\n",
       "      <td>Albania</td>\n",
       "      <td>2009</td>\n",
       "      <td>0.198905</td>\n",
       "      <td>3.391018</td>\n",
       "      <td>0.498324</td>\n",
       "      <td>2.206033</td>\n",
       "      <td>1.824955</td>\n",
       "      <td>2.599662</td>\n",
       "      <td>15.4</td>\n",
       "      <td>77.0</td>\n",
       "      <td>1.74</td>\n",
       "      <td>2929886.0</td>\n",
       "      <td>5.930013e+09</td>\n",
       "      <td>Europe</td>\n",
       "      <td>Southern Europe</td>\n",
       "      <td>ALB</td>\n",
       "    </tr>\n",
       "    <tr>\n",
       "      <th>...</th>\n",
       "      <td>...</td>\n",
       "      <td>...</td>\n",
       "      <td>...</td>\n",
       "      <td>...</td>\n",
       "      <td>...</td>\n",
       "      <td>...</td>\n",
       "      <td>...</td>\n",
       "      <td>...</td>\n",
       "      <td>...</td>\n",
       "      <td>...</td>\n",
       "      <td>...</td>\n",
       "      <td>...</td>\n",
       "      <td>...</td>\n",
       "      <td>...</td>\n",
       "      <td>...</td>\n",
       "      <td>...</td>\n",
       "    </tr>\n",
       "    <tr>\n",
       "      <th>558</th>\n",
       "      <td>Yemen</td>\n",
       "      <td>2005</td>\n",
       "      <td>0.172946</td>\n",
       "      <td>4.830517</td>\n",
       "      <td>1.224141</td>\n",
       "      <td>4.010933</td>\n",
       "      <td>0.627500</td>\n",
       "      <td>0.000000</td>\n",
       "      <td>54.5</td>\n",
       "      <td>64.6</td>\n",
       "      <td>5.39</td>\n",
       "      <td>20504385.0</td>\n",
       "      <td>1.184170e+10</td>\n",
       "      <td>Asia</td>\n",
       "      <td>Western Asia</td>\n",
       "      <td>YEM</td>\n",
       "    </tr>\n",
       "    <tr>\n",
       "      <th>559</th>\n",
       "      <td>Yemen</td>\n",
       "      <td>2006</td>\n",
       "      <td>0.173065</td>\n",
       "      <td>4.832736</td>\n",
       "      <td>1.237537</td>\n",
       "      <td>4.012598</td>\n",
       "      <td>0.628636</td>\n",
       "      <td>0.333520</td>\n",
       "      <td>51.9</td>\n",
       "      <td>65.0</td>\n",
       "      <td>5.20</td>\n",
       "      <td>21093973.0</td>\n",
       "      <td>1.221713e+10</td>\n",
       "      <td>Asia</td>\n",
       "      <td>Western Asia</td>\n",
       "      <td>YEM</td>\n",
       "    </tr>\n",
       "    <tr>\n",
       "      <th>560</th>\n",
       "      <td>Yemen</td>\n",
       "      <td>2007</td>\n",
       "      <td>0.173181</td>\n",
       "      <td>4.835215</td>\n",
       "      <td>1.263182</td>\n",
       "      <td>4.014557</td>\n",
       "      <td>0.630894</td>\n",
       "      <td>0.246047</td>\n",
       "      <td>49.4</td>\n",
       "      <td>65.2</td>\n",
       "      <td>5.01</td>\n",
       "      <td>21701105.0</td>\n",
       "      <td>1.262499e+10</td>\n",
       "      <td>Asia</td>\n",
       "      <td>Western Asia</td>\n",
       "      <td>YEM</td>\n",
       "    </tr>\n",
       "    <tr>\n",
       "      <th>561</th>\n",
       "      <td>Yemen</td>\n",
       "      <td>2008</td>\n",
       "      <td>0.173272</td>\n",
       "      <td>4.837639</td>\n",
       "      <td>1.293243</td>\n",
       "      <td>4.017453</td>\n",
       "      <td>0.633496</td>\n",
       "      <td>0.357986</td>\n",
       "      <td>47.0</td>\n",
       "      <td>65.7</td>\n",
       "      <td>4.83</td>\n",
       "      <td>22322699.0</td>\n",
       "      <td>1.308549e+10</td>\n",
       "      <td>Asia</td>\n",
       "      <td>Western Asia</td>\n",
       "      <td>YEM</td>\n",
       "    </tr>\n",
       "    <tr>\n",
       "      <th>562</th>\n",
       "      <td>Yemen</td>\n",
       "      <td>2009</td>\n",
       "      <td>0.173329</td>\n",
       "      <td>4.839962</td>\n",
       "      <td>1.322232</td>\n",
       "      <td>4.018842</td>\n",
       "      <td>0.635702</td>\n",
       "      <td>0.308639</td>\n",
       "      <td>44.7</td>\n",
       "      <td>66.2</td>\n",
       "      <td>4.66</td>\n",
       "      <td>22954226.0</td>\n",
       "      <td>1.359143e+10</td>\n",
       "      <td>Asia</td>\n",
       "      <td>Western Asia</td>\n",
       "      <td>YEM</td>\n",
       "    </tr>\n",
       "  </tbody>\n",
       "</table>\n",
       "<p>563 rows × 16 columns</p>\n",
       "</div>"
      ],
      "text/plain": [
       "      Entity  Year  Schizophrenia (%)  Anxiety disorders (%)  \\\n",
       "0    Albania  2005           0.196538               3.385416   \n",
       "1    Albania  2006           0.197004               3.387210   \n",
       "2    Albania  2007           0.197636               3.388914   \n",
       "3    Albania  2008           0.198306               3.390168   \n",
       "4    Albania  2009           0.198905               3.391018   \n",
       "..       ...   ...                ...                    ...   \n",
       "558    Yemen  2005           0.172946               4.830517   \n",
       "559    Yemen  2006           0.173065               4.832736   \n",
       "560    Yemen  2007           0.173181               4.835215   \n",
       "561    Yemen  2008           0.173272               4.837639   \n",
       "562    Yemen  2009           0.173329               4.839962   \n",
       "\n",
       "     Drug use disorders (%)  Depression (%)  Alcohol use disorders (%)  \\\n",
       "0                  0.497503        2.223407                   1.716585   \n",
       "1                  0.497997        2.222417                   1.737167   \n",
       "2                  0.497442        2.217203                   1.766903   \n",
       "3                  0.497332        2.210642                   1.798550   \n",
       "4                  0.498324        2.206033                   1.824955   \n",
       "..                      ...             ...                        ...   \n",
       "558                1.224141        4.010933                   0.627500   \n",
       "559                1.237537        4.012598                   0.628636   \n",
       "560                1.263182        4.014557                   0.630894   \n",
       "561                1.293243        4.017453                   0.633496   \n",
       "562                1.322232        4.018842                   0.635702   \n",
       "\n",
       "     Sexual Violence Rate  infant_mortality  life_expectancy  fertility  \\\n",
       "0                2.832771              18.3             76.2       1.92   \n",
       "1                2.756124              17.4             76.4       1.85   \n",
       "2                3.186457              16.7             76.6       1.80   \n",
       "3                2.388888              16.0             76.8       1.76   \n",
       "4                2.599662              15.4             77.0       1.74   \n",
       "..                    ...               ...              ...        ...   \n",
       "558              0.000000              54.5             64.6       5.39   \n",
       "559              0.333520              51.9             65.0       5.20   \n",
       "560              0.246047              49.4             65.2       5.01   \n",
       "561              0.357986              47.0             65.7       4.83   \n",
       "562              0.308639              44.7             66.2       4.66   \n",
       "\n",
       "     population           gdp continent           region iso_code  \n",
       "0     3082172.0  4.793518e+09    Europe  Southern Europe      ALB  \n",
       "1     3050741.0  5.033194e+09    Europe  Southern Europe      ALB  \n",
       "2     3010849.0  5.330153e+09    Europe  Southern Europe      ALB  \n",
       "3     2968026.0  5.740575e+09    Europe  Southern Europe      ALB  \n",
       "4     2929886.0  5.930013e+09    Europe  Southern Europe      ALB  \n",
       "..          ...           ...       ...              ...      ...  \n",
       "558  20504385.0  1.184170e+10      Asia     Western Asia      YEM  \n",
       "559  21093973.0  1.221713e+10      Asia     Western Asia      YEM  \n",
       "560  21701105.0  1.262499e+10      Asia     Western Asia      YEM  \n",
       "561  22322699.0  1.308549e+10      Asia     Western Asia      YEM  \n",
       "562  22954226.0  1.359143e+10      Asia     Western Asia      YEM  \n",
       "\n",
       "[563 rows x 16 columns]"
      ]
     },
     "execution_count": 14,
     "metadata": {},
     "output_type": "execute_result"
    }
   ],
   "source": [
    "gap_mhealth_country = gap_mhealth\n",
    "\n",
    "# Create a new column in the DataFrame with the ISO codes\n",
    "def get_iso_code(country_name):\n",
    "    country = pycountry.countries.get(name=country_name)\n",
    "    return country.alpha_3 if country else None\n",
    "\n",
    "gap_mhealth_country['iso_code'] = gap_mhealth_country['Entity'].apply(get_iso_code)\n",
    "gap_mhealth_country"
   ]
  },
  {
   "cell_type": "code",
   "execution_count": 15,
   "metadata": {},
   "outputs": [
    {
     "data": {
      "application/vnd.plotly.v1+json": {
       "config": {
        "plotlyServerURL": "https://plot.ly"
       },
       "data": [
        {
         "autocolorscale": false,
         "colorbar": {
          "title": {
           "text": "Anxiety Disorders"
          }
         },
         "colorscale": [
          [
           0,
           "rgb(255,245,240)"
          ],
          [
           0.125,
           "rgb(254,224,210)"
          ],
          [
           0.25,
           "rgb(252,187,161)"
          ],
          [
           0.375,
           "rgb(252,146,114)"
          ],
          [
           0.5,
           "rgb(251,106,74)"
          ],
          [
           0.625,
           "rgb(239,59,44)"
          ],
          [
           0.75,
           "rgb(203,24,29)"
          ],
          [
           0.875,
           "rgb(165,15,21)"
          ],
          [
           1,
           "rgb(103,0,13)"
          ]
         ],
         "locations": [
          "ALB",
          "ALB",
          "ALB",
          "ALB",
          "ALB",
          "ALB",
          "ALB",
          "DZA",
          "DZA",
          "DZA",
          "DZA",
          "DZA",
          "DZA",
          "ARG",
          "ARG",
          "ARM",
          "ARM",
          "ARM",
          "ARM",
          "ARM",
          "ARM",
          "ARM",
          "ARM",
          "AUS",
          "AUS",
          "AUS",
          "AUS",
          "AUT",
          "AUT",
          "AUT",
          "AUT",
          "AUT",
          "AUT",
          "AUT",
          "AUT",
          "AZE",
          "AZE",
          "AZE",
          "AZE",
          "BHS",
          "BHS",
          "BHS",
          "BHS",
          "BHS",
          "BHS",
          "BHS",
          "BHR",
          "BHR",
          "BRB",
          "BLR",
          "BLR",
          "BLR",
          "BLR",
          "BLR",
          "BLR",
          "BEL",
          "BEL",
          "BEL",
          "BEL",
          "BEL",
          "BEL",
          "BEL",
          "BEL",
          "BLZ",
          "BLZ",
          "BLZ",
          null,
          null,
          null,
          null,
          null,
          null,
          null,
          "BIH",
          "BIH",
          "BIH",
          "BIH",
          "BIH",
          "BRA",
          "BRA",
          "BRA",
          "BRA",
          "BRA",
          "BRA",
          "BGR",
          "BGR",
          "BGR",
          "BGR",
          "BGR",
          "BGR",
          "BGR",
          "BGR",
          "BGR",
          "BDI",
          "BDI",
          "BDI",
          "BDI",
          "CAN",
          "CAN",
          "CAN",
          "CAN",
          "CAN",
          "CAN",
          "CAN",
          "CAN",
          "CAN",
          "CHL",
          "CHL",
          "CHL",
          "CHL",
          "CHL",
          "CHL",
          "COL",
          "COL",
          "COL",
          "COL",
          "COL",
          "COL",
          "COL",
          "COL",
          "CRI",
          "CRI",
          "CRI",
          "CRI",
          "CRI",
          "CRI",
          null,
          null,
          "HRV",
          "HRV",
          "HRV",
          "HRV",
          "HRV",
          "HRV",
          "HRV",
          "HRV",
          "HRV",
          "CYP",
          "CYP",
          "CYP",
          "CYP",
          "CYP",
          "CYP",
          "CYP",
          "CYP",
          null,
          null,
          null,
          null,
          null,
          null,
          null,
          null,
          null,
          "EGY",
          "EGY",
          "EGY",
          "EGY",
          "EGY",
          "EGY",
          "SLV",
          "SLV",
          "SLV",
          "SLV",
          "SLV",
          "EST",
          "EST",
          "EST",
          "EST",
          "EST",
          "EST",
          "EST",
          "FIN",
          "FIN",
          "FIN",
          "FIN",
          "FIN",
          "FIN",
          "FIN",
          "FIN",
          "FIN",
          "FRA",
          "FRA",
          "FRA",
          "FRA",
          "FRA",
          "FRA",
          "FRA",
          "FRA",
          "FRA",
          "GEO",
          "GEO",
          "GEO",
          "GEO",
          "GEO",
          "GEO",
          "GEO",
          "DEU",
          "DEU",
          "DEU",
          "DEU",
          "DEU",
          "DEU",
          "DEU",
          "DEU",
          "DEU",
          "GRC",
          "GRC",
          "GRC",
          "GRC",
          "GRC",
          "GRC",
          "GRC",
          "GRC",
          "GRC",
          "GRD",
          "GRD",
          "GRD",
          "GRD",
          "GRD",
          "GRD",
          "GTM",
          "GTM",
          "GTM",
          "GTM",
          "GTM",
          "GTM",
          "GIN",
          "GUY",
          "GUY",
          "GUY",
          "GUY",
          "GUY",
          "GUY",
          "GUY",
          "HND",
          "HUN",
          "HUN",
          "HUN",
          "HUN",
          "HUN",
          "HUN",
          "HUN",
          "HUN",
          "HUN",
          "ISL",
          "ISL",
          "ISL",
          "ISL",
          "IND",
          "IND",
          "IND",
          "IND",
          "IND",
          "IND",
          "IND",
          "IRL",
          "IRL",
          "IRL",
          "IRL",
          "IRL",
          "IRL",
          "IRL",
          "IRL",
          "ISR",
          "ISR",
          "ISR",
          "ISR",
          "ISR",
          "ISR",
          "ISR",
          "ITA",
          "ITA",
          "ITA",
          "ITA",
          "ITA",
          "ITA",
          "ITA",
          "ITA",
          "ITA",
          "JAM",
          "JAM",
          "JAM",
          "JAM",
          "JAM",
          "JAM",
          "JAM",
          "JPN",
          "JPN",
          "JPN",
          "JPN",
          "JPN",
          "JPN",
          "JPN",
          "JPN",
          "JPN",
          "KAZ",
          "KAZ",
          "KAZ",
          "KAZ",
          "KAZ",
          "KAZ",
          "KEN",
          "KEN",
          "KEN",
          "KEN",
          "KEN",
          "KEN",
          "KEN",
          "KEN",
          "KWT",
          "KWT",
          "KWT",
          "KWT",
          "KWT",
          "KWT",
          "LVA",
          "LVA",
          "LVA",
          "LVA",
          "LVA",
          "LVA",
          "LVA",
          "LVA",
          "LTU",
          "LTU",
          "LTU",
          "LTU",
          "LTU",
          "LTU",
          "LTU",
          "LTU",
          "LTU",
          "LUX",
          "LUX",
          "LUX",
          "LUX",
          "LUX",
          "LUX",
          "MDV",
          "MDV",
          "MLT",
          "MLT",
          "MLT",
          "MLT",
          "MLT",
          "MUS",
          "MUS",
          "MUS",
          "MUS",
          "MUS",
          "MUS",
          "MUS",
          "MUS",
          "MUS",
          "MEX",
          "MEX",
          "MEX",
          "MEX",
          "MEX",
          "MEX",
          "MEX",
          "MEX",
          null,
          null,
          null,
          null,
          null,
          null,
          null,
          null,
          "MNG",
          "MNG",
          "MNG",
          "MNG",
          "MNG",
          "MNG",
          "MNG",
          "MNE",
          "MNE",
          "MNE",
          "MNE",
          "MNE",
          "MNE",
          "MNE",
          "MNE",
          "MNE",
          "MAR",
          "MAR",
          "MAR",
          "MAR",
          "MAR",
          "MAR",
          "MAR",
          "MOZ",
          "MOZ",
          "MOZ",
          "MOZ",
          "MOZ",
          "MOZ",
          "NLD",
          "NLD",
          "NLD",
          "NLD",
          "NLD",
          "NLD",
          "NLD",
          "NZL",
          "NZL",
          "NZL",
          "NZL",
          "NZL",
          "NZL",
          "NZL",
          "NIC",
          "NOR",
          "NOR",
          "NOR",
          "NOR",
          "NOR",
          "NOR",
          "NOR",
          "NOR",
          "NOR",
          "OMN",
          "OMN",
          "PAN",
          "PAN",
          "PAN",
          "PAN",
          "PAN",
          "PAN",
          "PAN",
          "PRY",
          "PRY",
          "PRY",
          "PRY",
          "PRY",
          "PRY",
          "PHL",
          "PHL",
          "PHL",
          "PHL",
          "PHL",
          "PHL",
          "POL",
          "POL",
          "POL",
          "POL",
          "POL",
          "PRT",
          "PRT",
          "PRT",
          "PRT",
          "PRT",
          "PRT",
          "PRT",
          "PRT",
          "PRT",
          "ROU",
          "ROU",
          null,
          null,
          null,
          null,
          null,
          null,
          null,
          null,
          null,
          "SRB",
          "SRB",
          "SRB",
          "SRB",
          "SRB",
          "SRB",
          "SRB",
          "SLE",
          "SLE",
          "SGP",
          "SGP",
          "SGP",
          "SGP",
          "SGP",
          "SGP",
          "SVN",
          "SVN",
          "SVN",
          "SVN",
          "SVN",
          "SVN",
          "SVN",
          "SVN",
          "SVN",
          "SLB",
          "SLB",
          "SLB",
          "SLB",
          "SLB",
          null,
          null,
          null,
          null,
          null,
          null,
          "ESP",
          "ESP",
          "ESP",
          "ESP",
          "ESP",
          "SWE",
          "SWE",
          "SWE",
          "SWE",
          "SWE",
          "SWE",
          "SWE",
          "SWE",
          "SWE",
          "CHE",
          "CHE",
          "CHE",
          null,
          null,
          "TJK",
          "TJK",
          "TJK",
          "TJK",
          "TJK",
          "TJK",
          "TTO",
          "TTO",
          "TTO",
          "TTO",
          "TTO",
          "TTO",
          "TTO",
          "TTO",
          null,
          null,
          null,
          null,
          null,
          null,
          "UGA",
          "UGA",
          "UGA",
          "UGA",
          "UGA",
          "UGA",
          "UKR",
          "UKR",
          "UKR",
          "UKR",
          "UKR",
          "UKR",
          "UKR",
          "UKR",
          "YEM",
          "YEM",
          "YEM",
          "YEM",
          "YEM"
         ],
         "marker": {
          "line": {
           "color": "darkgray",
           "width": 0.5
          }
         },
         "reversescale": false,
         "text": [
          "Albania",
          "Albania",
          "Albania",
          "Albania",
          "Albania",
          "Albania",
          "Albania",
          "Algeria",
          "Algeria",
          "Algeria",
          "Algeria",
          "Algeria",
          "Algeria",
          "Argentina",
          "Argentina",
          "Armenia",
          "Armenia",
          "Armenia",
          "Armenia",
          "Armenia",
          "Armenia",
          "Armenia",
          "Armenia",
          "Australia",
          "Australia",
          "Australia",
          "Australia",
          "Austria",
          "Austria",
          "Austria",
          "Austria",
          "Austria",
          "Austria",
          "Austria",
          "Austria",
          "Azerbaijan",
          "Azerbaijan",
          "Azerbaijan",
          "Azerbaijan",
          "Bahamas",
          "Bahamas",
          "Bahamas",
          "Bahamas",
          "Bahamas",
          "Bahamas",
          "Bahamas",
          "Bahrain",
          "Bahrain",
          "Barbados",
          "Belarus",
          "Belarus",
          "Belarus",
          "Belarus",
          "Belarus",
          "Belarus",
          "Belgium",
          "Belgium",
          "Belgium",
          "Belgium",
          "Belgium",
          "Belgium",
          "Belgium",
          "Belgium",
          "Belize",
          "Belize",
          "Belize",
          "Bolivia",
          "Bolivia",
          "Bolivia",
          "Bolivia",
          "Bolivia",
          "Bolivia",
          "Bolivia",
          "Bosnia and Herzegovina",
          "Bosnia and Herzegovina",
          "Bosnia and Herzegovina",
          "Bosnia and Herzegovina",
          "Bosnia and Herzegovina",
          "Brazil",
          "Brazil",
          "Brazil",
          "Brazil",
          "Brazil",
          "Brazil",
          "Bulgaria",
          "Bulgaria",
          "Bulgaria",
          "Bulgaria",
          "Bulgaria",
          "Bulgaria",
          "Bulgaria",
          "Bulgaria",
          "Bulgaria",
          "Burundi",
          "Burundi",
          "Burundi",
          "Burundi",
          "Canada",
          "Canada",
          "Canada",
          "Canada",
          "Canada",
          "Canada",
          "Canada",
          "Canada",
          "Canada",
          "Chile",
          "Chile",
          "Chile",
          "Chile",
          "Chile",
          "Chile",
          "Colombia",
          "Colombia",
          "Colombia",
          "Colombia",
          "Colombia",
          "Colombia",
          "Colombia",
          "Colombia",
          "Costa Rica",
          "Costa Rica",
          "Costa Rica",
          "Costa Rica",
          "Costa Rica",
          "Costa Rica",
          "Cote d'Ivoire",
          "Cote d'Ivoire",
          "Croatia",
          "Croatia",
          "Croatia",
          "Croatia",
          "Croatia",
          "Croatia",
          "Croatia",
          "Croatia",
          "Croatia",
          "Cyprus",
          "Cyprus",
          "Cyprus",
          "Cyprus",
          "Cyprus",
          "Cyprus",
          "Cyprus",
          "Cyprus",
          "Czech Republic",
          "Czech Republic",
          "Czech Republic",
          "Czech Republic",
          "Czech Republic",
          "Czech Republic",
          "Czech Republic",
          "Czech Republic",
          "Czech Republic",
          "Egypt",
          "Egypt",
          "Egypt",
          "Egypt",
          "Egypt",
          "Egypt",
          "El Salvador",
          "El Salvador",
          "El Salvador",
          "El Salvador",
          "El Salvador",
          "Estonia",
          "Estonia",
          "Estonia",
          "Estonia",
          "Estonia",
          "Estonia",
          "Estonia",
          "Finland",
          "Finland",
          "Finland",
          "Finland",
          "Finland",
          "Finland",
          "Finland",
          "Finland",
          "Finland",
          "France",
          "France",
          "France",
          "France",
          "France",
          "France",
          "France",
          "France",
          "France",
          "Georgia",
          "Georgia",
          "Georgia",
          "Georgia",
          "Georgia",
          "Georgia",
          "Georgia",
          "Germany",
          "Germany",
          "Germany",
          "Germany",
          "Germany",
          "Germany",
          "Germany",
          "Germany",
          "Germany",
          "Greece",
          "Greece",
          "Greece",
          "Greece",
          "Greece",
          "Greece",
          "Greece",
          "Greece",
          "Greece",
          "Grenada",
          "Grenada",
          "Grenada",
          "Grenada",
          "Grenada",
          "Grenada",
          "Guatemala",
          "Guatemala",
          "Guatemala",
          "Guatemala",
          "Guatemala",
          "Guatemala",
          "Guinea",
          "Guyana",
          "Guyana",
          "Guyana",
          "Guyana",
          "Guyana",
          "Guyana",
          "Guyana",
          "Honduras",
          "Hungary",
          "Hungary",
          "Hungary",
          "Hungary",
          "Hungary",
          "Hungary",
          "Hungary",
          "Hungary",
          "Hungary",
          "Iceland",
          "Iceland",
          "Iceland",
          "Iceland",
          "India",
          "India",
          "India",
          "India",
          "India",
          "India",
          "India",
          "Ireland",
          "Ireland",
          "Ireland",
          "Ireland",
          "Ireland",
          "Ireland",
          "Ireland",
          "Ireland",
          "Israel",
          "Israel",
          "Israel",
          "Israel",
          "Israel",
          "Israel",
          "Israel",
          "Italy",
          "Italy",
          "Italy",
          "Italy",
          "Italy",
          "Italy",
          "Italy",
          "Italy",
          "Italy",
          "Jamaica",
          "Jamaica",
          "Jamaica",
          "Jamaica",
          "Jamaica",
          "Jamaica",
          "Jamaica",
          "Japan",
          "Japan",
          "Japan",
          "Japan",
          "Japan",
          "Japan",
          "Japan",
          "Japan",
          "Japan",
          "Kazakhstan",
          "Kazakhstan",
          "Kazakhstan",
          "Kazakhstan",
          "Kazakhstan",
          "Kazakhstan",
          "Kenya",
          "Kenya",
          "Kenya",
          "Kenya",
          "Kenya",
          "Kenya",
          "Kenya",
          "Kenya",
          "Kuwait",
          "Kuwait",
          "Kuwait",
          "Kuwait",
          "Kuwait",
          "Kuwait",
          "Latvia",
          "Latvia",
          "Latvia",
          "Latvia",
          "Latvia",
          "Latvia",
          "Latvia",
          "Latvia",
          "Lithuania",
          "Lithuania",
          "Lithuania",
          "Lithuania",
          "Lithuania",
          "Lithuania",
          "Lithuania",
          "Lithuania",
          "Lithuania",
          "Luxembourg",
          "Luxembourg",
          "Luxembourg",
          "Luxembourg",
          "Luxembourg",
          "Luxembourg",
          "Maldives",
          "Maldives",
          "Malta",
          "Malta",
          "Malta",
          "Malta",
          "Malta",
          "Mauritius",
          "Mauritius",
          "Mauritius",
          "Mauritius",
          "Mauritius",
          "Mauritius",
          "Mauritius",
          "Mauritius",
          "Mauritius",
          "Mexico",
          "Mexico",
          "Mexico",
          "Mexico",
          "Mexico",
          "Mexico",
          "Mexico",
          "Mexico",
          "Moldova",
          "Moldova",
          "Moldova",
          "Moldova",
          "Moldova",
          "Moldova",
          "Moldova",
          "Moldova",
          "Mongolia",
          "Mongolia",
          "Mongolia",
          "Mongolia",
          "Mongolia",
          "Mongolia",
          "Mongolia",
          "Montenegro",
          "Montenegro",
          "Montenegro",
          "Montenegro",
          "Montenegro",
          "Montenegro",
          "Montenegro",
          "Montenegro",
          "Montenegro",
          "Morocco",
          "Morocco",
          "Morocco",
          "Morocco",
          "Morocco",
          "Morocco",
          "Morocco",
          "Mozambique",
          "Mozambique",
          "Mozambique",
          "Mozambique",
          "Mozambique",
          "Mozambique",
          "Netherlands",
          "Netherlands",
          "Netherlands",
          "Netherlands",
          "Netherlands",
          "Netherlands",
          "Netherlands",
          "New Zealand",
          "New Zealand",
          "New Zealand",
          "New Zealand",
          "New Zealand",
          "New Zealand",
          "New Zealand",
          "Nicaragua",
          "Norway",
          "Norway",
          "Norway",
          "Norway",
          "Norway",
          "Norway",
          "Norway",
          "Norway",
          "Norway",
          "Oman",
          "Oman",
          "Panama",
          "Panama",
          "Panama",
          "Panama",
          "Panama",
          "Panama",
          "Panama",
          "Paraguay",
          "Paraguay",
          "Paraguay",
          "Paraguay",
          "Paraguay",
          "Paraguay",
          "Philippines",
          "Philippines",
          "Philippines",
          "Philippines",
          "Philippines",
          "Philippines",
          "Poland",
          "Poland",
          "Poland",
          "Poland",
          "Poland",
          "Portugal",
          "Portugal",
          "Portugal",
          "Portugal",
          "Portugal",
          "Portugal",
          "Portugal",
          "Portugal",
          "Portugal",
          "Romania",
          "Romania",
          "Russia",
          "Russia",
          "Russia",
          "Russia",
          "Russia",
          "Russia",
          "Russia",
          "Russia",
          "Russia",
          "Serbia",
          "Serbia",
          "Serbia",
          "Serbia",
          "Serbia",
          "Serbia",
          "Serbia",
          "Sierra Leone",
          "Sierra Leone",
          "Singapore",
          "Singapore",
          "Singapore",
          "Singapore",
          "Singapore",
          "Singapore",
          "Slovenia",
          "Slovenia",
          "Slovenia",
          "Slovenia",
          "Slovenia",
          "Slovenia",
          "Slovenia",
          "Slovenia",
          "Slovenia",
          "Solomon Islands",
          "Solomon Islands",
          "Solomon Islands",
          "Solomon Islands",
          "Solomon Islands",
          "South Korea",
          "South Korea",
          "South Korea",
          "South Korea",
          "South Korea",
          "South Korea",
          "Spain",
          "Spain",
          "Spain",
          "Spain",
          "Spain",
          "Sweden",
          "Sweden",
          "Sweden",
          "Sweden",
          "Sweden",
          "Sweden",
          "Sweden",
          "Sweden",
          "Sweden",
          "Switzerland",
          "Switzerland",
          "Switzerland",
          "Syria",
          "Syria",
          "Tajikistan",
          "Tajikistan",
          "Tajikistan",
          "Tajikistan",
          "Tajikistan",
          "Tajikistan",
          "Trinidad and Tobago",
          "Trinidad and Tobago",
          "Trinidad and Tobago",
          "Trinidad and Tobago",
          "Trinidad and Tobago",
          "Trinidad and Tobago",
          "Trinidad and Tobago",
          "Trinidad and Tobago",
          "Turkey",
          "Turkey",
          "Turkey",
          "Turkey",
          "Turkey",
          "Turkey",
          "Uganda",
          "Uganda",
          "Uganda",
          "Uganda",
          "Uganda",
          "Uganda",
          "Ukraine",
          "Ukraine",
          "Ukraine",
          "Ukraine",
          "Ukraine",
          "Ukraine",
          "Ukraine",
          "Ukraine",
          "Yemen",
          "Yemen",
          "Yemen",
          "Yemen",
          "Yemen"
         ],
         "type": "choropleth",
         "z": [
          3.385416,
          3.38721,
          3.388914,
          3.390168,
          3.391018,
          3.391246,
          3.391181,
          5.024179,
          5.028814,
          5.033206,
          5.037067,
          5.040479,
          5.043828,
          6.263549,
          6.265572,
          2.591216,
          2.591655,
          2.591272,
          2.590272,
          2.589342,
          2.588416,
          2.587831,
          2.587683,
          6.650491,
          6.63435,
          6.624617,
          6.619503,
          5.358172,
          5.356742,
          5.355539,
          5.35486,
          5.354,
          5.353178,
          5.352376,
          5.35176,
          2.563236,
          2.566022,
          2.568878,
          2.57072,
          4.652229,
          4.652883,
          4.654079,
          4.655485,
          4.65639,
          4.656573,
          4.65624,
          4.661296,
          4.653424,
          4.666928,
          2.930139,
          2.932726,
          2.934948,
          2.937463,
          2.940125,
          2.942467,
          5.235412,
          5.235736,
          5.232268,
          5.224673,
          5.215843,
          5.208498,
          5.205143,
          5.205096,
          4.545287,
          4.54817,
          4.550472,
          4.231138,
          4.231374,
          4.231903,
          4.232614,
          4.23342,
          4.234129,
          4.234863,
          3.401338,
          3.400497,
          3.399781,
          3.399698,
          3.400252,
          6.392372,
          6.395706,
          6.39738,
          6.396336,
          6.391711,
          6.377567,
          3.573516,
          3.575025,
          3.576744,
          3.579491,
          3.583689,
          3.587616,
          3.590112,
          3.589877,
          3.587989,
          3.568723,
          3.566369,
          3.564429,
          3.563612,
          4.993633,
          4.994661,
          4.99589,
          5.014462,
          5.056273,
          5.105764,
          5.146801,
          5.163625,
          5.163595,
          6.264955,
          6.267107,
          6.269484,
          6.271932,
          6.273744,
          6.274701,
          2.721999,
          2.724836,
          2.707042,
          2.66042,
          2.603089,
          2.553084,
          2.528589,
          2.523272,
          2.893424,
          2.899578,
          2.905984,
          2.911825,
          2.916324,
          2.919845,
          2.866798,
          2.864603,
          3.456406,
          3.459218,
          3.46076,
          3.461086,
          3.460683,
          3.460137,
          3.459418,
          3.458796,
          3.457981,
          5.292027,
          5.295528,
          5.298653,
          5.301493,
          5.303694,
          5.305072,
          5.305848,
          5.305934,
          3.450533,
          3.453757,
          3.454852,
          3.454282,
          3.453683,
          3.453239,
          3.452656,
          3.452257,
          3.451666,
          4.174661,
          4.219895,
          4.272882,
          4.317776,
          4.338595,
          4.342231,
          2.916086,
          2.920971,
          2.925243,
          2.928342,
          2.930574,
          2.956691,
          2.960418,
          2.96289,
          2.964557,
          2.966155,
          2.967659,
          2.968526,
          3.708647,
          3.70906,
          3.709293,
          3.713416,
          3.723251,
          3.734727,
          3.744249,
          3.748035,
          3.747761,
          6.777747,
          6.781921,
          6.782676,
          6.769683,
          6.740931,
          6.706933,
          6.677648,
          6.663107,
          6.658921,
          2.604215,
          2.603007,
          2.60164,
          2.600349,
          2.599191,
          2.598333,
          2.597554,
          6.604618,
          6.549976,
          6.525485,
          6.528921,
          6.542042,
          6.559577,
          6.574972,
          6.582874,
          6.584403,
          5.750897,
          5.765406,
          5.774413,
          5.780075,
          5.787222,
          5.794572,
          5.800585,
          5.803853,
          5.804698,
          4.550867,
          4.548709,
          4.54693,
          4.545299,
          4.543595,
          4.541495,
          2.869514,
          2.874119,
          2.878226,
          2.882478,
          2.886498,
          2.890026,
          2.894023,
          4.490554,
          4.493263,
          4.497048,
          4.501454,
          4.506029,
          4.510187,
          4.514531,
          2.854812,
          3.450051,
          3.454419,
          3.456608,
          3.45784,
          3.459852,
          3.462003,
          3.463672,
          3.464218,
          3.463867,
          5.284072,
          5.276617,
          5.269495,
          5.267682,
          3.305828,
          3.310625,
          3.309677,
          3.303176,
          3.294631,
          3.287489,
          3.285098,
          5.726148,
          5.725789,
          5.733915,
          5.755383,
          5.781831,
          5.805333,
          5.818125,
          5.822472,
          3.017567,
          3.017264,
          3.023321,
          3.038157,
          3.056002,
          3.077535,
          3.077637,
          5.331038,
          5.350876,
          5.367484,
          5.403574,
          5.470304,
          5.54545,
          5.606887,
          5.632361,
          5.632372,
          4.561116,
          4.561436,
          4.56306,
          4.565765,
          4.568348,
          4.569921,
          4.570486,
          3.498492,
          3.496301,
          3.495453,
          3.501247,
          3.514866,
          3.531299,
          3.545616,
          3.552643,
          3.554519,
          2.597675,
          2.598117,
          2.598328,
          2.598553,
          2.598947,
          2.599617,
          3.610145,
          3.611289,
          3.611942,
          3.612191,
          3.612323,
          3.612648,
          3.613346,
          3.614927,
          4.741176,
          4.751031,
          4.763917,
          4.779988,
          4.798497,
          4.818476,
          2.936871,
          2.939252,
          2.940943,
          2.941983,
          2.942824,
          2.943305,
          2.94345,
          2.943551,
          2.914023,
          2.913771,
          2.914238,
          2.915409,
          2.917164,
          2.918991,
          2.920718,
          2.922035,
          2.923145,
          5.330123,
          5.329942,
          5.329057,
          5.326897,
          5.325033,
          5.322537,
          3.261423,
          3.257984,
          5.320941,
          5.320182,
          5.319233,
          5.318442,
          5.317793,
          3.307701,
          3.311649,
          3.313791,
          3.314503,
          3.315194,
          3.316027,
          3.316865,
          3.317421,
          3.317778,
          3.18777,
          3.20584,
          3.206305,
          3.198349,
          3.187032,
          3.17733,
          3.1741,
          3.17583,
          2.870726,
          2.872002,
          2.873524,
          2.875333,
          2.877323,
          2.879431,
          2.881365,
          2.883008,
          2.503303,
          2.505667,
          2.508733,
          2.511849,
          2.514831,
          2.517067,
          2.519978,
          3.418989,
          3.423401,
          3.425698,
          3.426751,
          3.427822,
          3.428802,
          3.429727,
          3.430299,
          3.430556,
          4.971692,
          4.97471,
          4.976959,
          4.978859,
          4.980405,
          4.981684,
          4.982601,
          3.606237,
          3.607433,
          3.60898,
          3.61092,
          3.61353,
          3.61686,
          6.518189,
          6.512405,
          6.512145,
          6.515048,
          6.5191,
          6.52252,
          6.526662,
          8.957271,
          8.908704,
          8.801108,
          8.675114,
          8.571885,
          8.531124,
          8.534747,
          2.90553,
          7.641041,
          7.647243,
          7.649241,
          7.645858,
          7.638833,
          7.630394,
          7.622946,
          7.61844,
          7.615422,
          4.710556,
          4.697933,
          2.860349,
          2.862896,
          2.866016,
          2.86924,
          2.872253,
          2.874593,
          2.876395,
          5.97719,
          5.981728,
          5.987616,
          5.993405,
          5.997879,
          6.000894,
          3.236495,
          3.240171,
          3.244205,
          3.247786,
          3.249933,
          3.251359,
          3.453276,
          3.45686,
          3.45996,
          3.461724,
          3.462333,
          5.35053,
          5.350485,
          5.351409,
          5.354362,
          5.358942,
          5.364204,
          5.368501,
          5.371129,
          5.372365,
          3.232588,
          3.233547,
          2.940104,
          2.943543,
          2.945587,
          2.946496,
          2.947266,
          2.94843,
          2.949555,
          2.9504,
          2.950615,
          3.398838,
          3.400738,
          3.402799,
          3.404653,
          3.406051,
          3.406741,
          3.406993,
          2.884537,
          2.881973,
          3.690104,
          3.696331,
          3.703338,
          3.710013,
          3.714978,
          3.71891,
          3.461146,
          3.463564,
          3.46414,
          3.463427,
          3.462663,
          3.461681,
          3.460681,
          3.459694,
          3.458471,
          3.183485,
          3.185007,
          3.187399,
          3.190848,
          3.194642,
          3.745359,
          3.76127,
          3.780056,
          3.79654,
          3.805914,
          3.808353,
          5.161165,
          5.21275,
          5.253633,
          5.271059,
          5.272378,
          5.326196,
          5.326561,
          5.326294,
          5.324279,
          5.320122,
          5.31508,
          5.310518,
          5.307457,
          5.305528,
          5.356936,
          5.355085,
          5.353578,
          4.93673,
          4.936515,
          2.506817,
          2.508154,
          2.509882,
          2.511533,
          2.512845,
          2.513985,
          4.606299,
          4.607918,
          4.610533,
          4.614726,
          4.619567,
          4.623764,
          4.626097,
          4.626898,
          3.860472,
          3.891861,
          3.90803,
          3.910583,
          3.908689,
          3.90467,
          3.462659,
          3.464904,
          3.467935,
          3.471669,
          3.475837,
          3.480064,
          2.910009,
          2.913717,
          2.916678,
          2.920359,
          2.925917,
          2.932059,
          2.937026,
          2.9394,
          4.830517,
          4.832736,
          4.835215,
          4.837639,
          4.839962
         ]
        }
       ],
       "layout": {
        "geo": {
         "coastlinewidth": 0.5,
         "countrycolor": "white",
         "landcolor": "lightgray",
         "showcoastlines": true,
         "showframe": false,
         "showland": true
        },
        "template": {
         "data": {
          "bar": [
           {
            "error_x": {
             "color": "#2a3f5f"
            },
            "error_y": {
             "color": "#2a3f5f"
            },
            "marker": {
             "line": {
              "color": "#E5ECF6",
              "width": 0.5
             },
             "pattern": {
              "fillmode": "overlay",
              "size": 10,
              "solidity": 0.2
             }
            },
            "type": "bar"
           }
          ],
          "barpolar": [
           {
            "marker": {
             "line": {
              "color": "#E5ECF6",
              "width": 0.5
             },
             "pattern": {
              "fillmode": "overlay",
              "size": 10,
              "solidity": 0.2
             }
            },
            "type": "barpolar"
           }
          ],
          "carpet": [
           {
            "aaxis": {
             "endlinecolor": "#2a3f5f",
             "gridcolor": "white",
             "linecolor": "white",
             "minorgridcolor": "white",
             "startlinecolor": "#2a3f5f"
            },
            "baxis": {
             "endlinecolor": "#2a3f5f",
             "gridcolor": "white",
             "linecolor": "white",
             "minorgridcolor": "white",
             "startlinecolor": "#2a3f5f"
            },
            "type": "carpet"
           }
          ],
          "choropleth": [
           {
            "colorbar": {
             "outlinewidth": 0,
             "ticks": ""
            },
            "type": "choropleth"
           }
          ],
          "contour": [
           {
            "colorbar": {
             "outlinewidth": 0,
             "ticks": ""
            },
            "colorscale": [
             [
              0,
              "#0d0887"
             ],
             [
              0.1111111111111111,
              "#46039f"
             ],
             [
              0.2222222222222222,
              "#7201a8"
             ],
             [
              0.3333333333333333,
              "#9c179e"
             ],
             [
              0.4444444444444444,
              "#bd3786"
             ],
             [
              0.5555555555555556,
              "#d8576b"
             ],
             [
              0.6666666666666666,
              "#ed7953"
             ],
             [
              0.7777777777777778,
              "#fb9f3a"
             ],
             [
              0.8888888888888888,
              "#fdca26"
             ],
             [
              1,
              "#f0f921"
             ]
            ],
            "type": "contour"
           }
          ],
          "contourcarpet": [
           {
            "colorbar": {
             "outlinewidth": 0,
             "ticks": ""
            },
            "type": "contourcarpet"
           }
          ],
          "heatmap": [
           {
            "colorbar": {
             "outlinewidth": 0,
             "ticks": ""
            },
            "colorscale": [
             [
              0,
              "#0d0887"
             ],
             [
              0.1111111111111111,
              "#46039f"
             ],
             [
              0.2222222222222222,
              "#7201a8"
             ],
             [
              0.3333333333333333,
              "#9c179e"
             ],
             [
              0.4444444444444444,
              "#bd3786"
             ],
             [
              0.5555555555555556,
              "#d8576b"
             ],
             [
              0.6666666666666666,
              "#ed7953"
             ],
             [
              0.7777777777777778,
              "#fb9f3a"
             ],
             [
              0.8888888888888888,
              "#fdca26"
             ],
             [
              1,
              "#f0f921"
             ]
            ],
            "type": "heatmap"
           }
          ],
          "heatmapgl": [
           {
            "colorbar": {
             "outlinewidth": 0,
             "ticks": ""
            },
            "colorscale": [
             [
              0,
              "#0d0887"
             ],
             [
              0.1111111111111111,
              "#46039f"
             ],
             [
              0.2222222222222222,
              "#7201a8"
             ],
             [
              0.3333333333333333,
              "#9c179e"
             ],
             [
              0.4444444444444444,
              "#bd3786"
             ],
             [
              0.5555555555555556,
              "#d8576b"
             ],
             [
              0.6666666666666666,
              "#ed7953"
             ],
             [
              0.7777777777777778,
              "#fb9f3a"
             ],
             [
              0.8888888888888888,
              "#fdca26"
             ],
             [
              1,
              "#f0f921"
             ]
            ],
            "type": "heatmapgl"
           }
          ],
          "histogram": [
           {
            "marker": {
             "pattern": {
              "fillmode": "overlay",
              "size": 10,
              "solidity": 0.2
             }
            },
            "type": "histogram"
           }
          ],
          "histogram2d": [
           {
            "colorbar": {
             "outlinewidth": 0,
             "ticks": ""
            },
            "colorscale": [
             [
              0,
              "#0d0887"
             ],
             [
              0.1111111111111111,
              "#46039f"
             ],
             [
              0.2222222222222222,
              "#7201a8"
             ],
             [
              0.3333333333333333,
              "#9c179e"
             ],
             [
              0.4444444444444444,
              "#bd3786"
             ],
             [
              0.5555555555555556,
              "#d8576b"
             ],
             [
              0.6666666666666666,
              "#ed7953"
             ],
             [
              0.7777777777777778,
              "#fb9f3a"
             ],
             [
              0.8888888888888888,
              "#fdca26"
             ],
             [
              1,
              "#f0f921"
             ]
            ],
            "type": "histogram2d"
           }
          ],
          "histogram2dcontour": [
           {
            "colorbar": {
             "outlinewidth": 0,
             "ticks": ""
            },
            "colorscale": [
             [
              0,
              "#0d0887"
             ],
             [
              0.1111111111111111,
              "#46039f"
             ],
             [
              0.2222222222222222,
              "#7201a8"
             ],
             [
              0.3333333333333333,
              "#9c179e"
             ],
             [
              0.4444444444444444,
              "#bd3786"
             ],
             [
              0.5555555555555556,
              "#d8576b"
             ],
             [
              0.6666666666666666,
              "#ed7953"
             ],
             [
              0.7777777777777778,
              "#fb9f3a"
             ],
             [
              0.8888888888888888,
              "#fdca26"
             ],
             [
              1,
              "#f0f921"
             ]
            ],
            "type": "histogram2dcontour"
           }
          ],
          "mesh3d": [
           {
            "colorbar": {
             "outlinewidth": 0,
             "ticks": ""
            },
            "type": "mesh3d"
           }
          ],
          "parcoords": [
           {
            "line": {
             "colorbar": {
              "outlinewidth": 0,
              "ticks": ""
             }
            },
            "type": "parcoords"
           }
          ],
          "pie": [
           {
            "automargin": true,
            "type": "pie"
           }
          ],
          "scatter": [
           {
            "fillpattern": {
             "fillmode": "overlay",
             "size": 10,
             "solidity": 0.2
            },
            "type": "scatter"
           }
          ],
          "scatter3d": [
           {
            "line": {
             "colorbar": {
              "outlinewidth": 0,
              "ticks": ""
             }
            },
            "marker": {
             "colorbar": {
              "outlinewidth": 0,
              "ticks": ""
             }
            },
            "type": "scatter3d"
           }
          ],
          "scattercarpet": [
           {
            "marker": {
             "colorbar": {
              "outlinewidth": 0,
              "ticks": ""
             }
            },
            "type": "scattercarpet"
           }
          ],
          "scattergeo": [
           {
            "marker": {
             "colorbar": {
              "outlinewidth": 0,
              "ticks": ""
             }
            },
            "type": "scattergeo"
           }
          ],
          "scattergl": [
           {
            "marker": {
             "colorbar": {
              "outlinewidth": 0,
              "ticks": ""
             }
            },
            "type": "scattergl"
           }
          ],
          "scattermapbox": [
           {
            "marker": {
             "colorbar": {
              "outlinewidth": 0,
              "ticks": ""
             }
            },
            "type": "scattermapbox"
           }
          ],
          "scatterpolar": [
           {
            "marker": {
             "colorbar": {
              "outlinewidth": 0,
              "ticks": ""
             }
            },
            "type": "scatterpolar"
           }
          ],
          "scatterpolargl": [
           {
            "marker": {
             "colorbar": {
              "outlinewidth": 0,
              "ticks": ""
             }
            },
            "type": "scatterpolargl"
           }
          ],
          "scatterternary": [
           {
            "marker": {
             "colorbar": {
              "outlinewidth": 0,
              "ticks": ""
             }
            },
            "type": "scatterternary"
           }
          ],
          "surface": [
           {
            "colorbar": {
             "outlinewidth": 0,
             "ticks": ""
            },
            "colorscale": [
             [
              0,
              "#0d0887"
             ],
             [
              0.1111111111111111,
              "#46039f"
             ],
             [
              0.2222222222222222,
              "#7201a8"
             ],
             [
              0.3333333333333333,
              "#9c179e"
             ],
             [
              0.4444444444444444,
              "#bd3786"
             ],
             [
              0.5555555555555556,
              "#d8576b"
             ],
             [
              0.6666666666666666,
              "#ed7953"
             ],
             [
              0.7777777777777778,
              "#fb9f3a"
             ],
             [
              0.8888888888888888,
              "#fdca26"
             ],
             [
              1,
              "#f0f921"
             ]
            ],
            "type": "surface"
           }
          ],
          "table": [
           {
            "cells": {
             "fill": {
              "color": "#EBF0F8"
             },
             "line": {
              "color": "white"
             }
            },
            "header": {
             "fill": {
              "color": "#C8D4E3"
             },
             "line": {
              "color": "white"
             }
            },
            "type": "table"
           }
          ]
         },
         "layout": {
          "annotationdefaults": {
           "arrowcolor": "#2a3f5f",
           "arrowhead": 0,
           "arrowwidth": 1
          },
          "autotypenumbers": "strict",
          "coloraxis": {
           "colorbar": {
            "outlinewidth": 0,
            "ticks": ""
           }
          },
          "colorscale": {
           "diverging": [
            [
             0,
             "#8e0152"
            ],
            [
             0.1,
             "#c51b7d"
            ],
            [
             0.2,
             "#de77ae"
            ],
            [
             0.3,
             "#f1b6da"
            ],
            [
             0.4,
             "#fde0ef"
            ],
            [
             0.5,
             "#f7f7f7"
            ],
            [
             0.6,
             "#e6f5d0"
            ],
            [
             0.7,
             "#b8e186"
            ],
            [
             0.8,
             "#7fbc41"
            ],
            [
             0.9,
             "#4d9221"
            ],
            [
             1,
             "#276419"
            ]
           ],
           "sequential": [
            [
             0,
             "#0d0887"
            ],
            [
             0.1111111111111111,
             "#46039f"
            ],
            [
             0.2222222222222222,
             "#7201a8"
            ],
            [
             0.3333333333333333,
             "#9c179e"
            ],
            [
             0.4444444444444444,
             "#bd3786"
            ],
            [
             0.5555555555555556,
             "#d8576b"
            ],
            [
             0.6666666666666666,
             "#ed7953"
            ],
            [
             0.7777777777777778,
             "#fb9f3a"
            ],
            [
             0.8888888888888888,
             "#fdca26"
            ],
            [
             1,
             "#f0f921"
            ]
           ],
           "sequentialminus": [
            [
             0,
             "#0d0887"
            ],
            [
             0.1111111111111111,
             "#46039f"
            ],
            [
             0.2222222222222222,
             "#7201a8"
            ],
            [
             0.3333333333333333,
             "#9c179e"
            ],
            [
             0.4444444444444444,
             "#bd3786"
            ],
            [
             0.5555555555555556,
             "#d8576b"
            ],
            [
             0.6666666666666666,
             "#ed7953"
            ],
            [
             0.7777777777777778,
             "#fb9f3a"
            ],
            [
             0.8888888888888888,
             "#fdca26"
            ],
            [
             1,
             "#f0f921"
            ]
           ]
          },
          "colorway": [
           "#636efa",
           "#EF553B",
           "#00cc96",
           "#ab63fa",
           "#FFA15A",
           "#19d3f3",
           "#FF6692",
           "#B6E880",
           "#FF97FF",
           "#FECB52"
          ],
          "font": {
           "color": "#2a3f5f"
          },
          "geo": {
           "bgcolor": "white",
           "lakecolor": "white",
           "landcolor": "#E5ECF6",
           "showlakes": true,
           "showland": true,
           "subunitcolor": "white"
          },
          "hoverlabel": {
           "align": "left"
          },
          "hovermode": "closest",
          "mapbox": {
           "style": "light"
          },
          "paper_bgcolor": "white",
          "plot_bgcolor": "#E5ECF6",
          "polar": {
           "angularaxis": {
            "gridcolor": "white",
            "linecolor": "white",
            "ticks": ""
           },
           "bgcolor": "#E5ECF6",
           "radialaxis": {
            "gridcolor": "white",
            "linecolor": "white",
            "ticks": ""
           }
          },
          "scene": {
           "xaxis": {
            "backgroundcolor": "#E5ECF6",
            "gridcolor": "white",
            "gridwidth": 2,
            "linecolor": "white",
            "showbackground": true,
            "ticks": "",
            "zerolinecolor": "white"
           },
           "yaxis": {
            "backgroundcolor": "#E5ECF6",
            "gridcolor": "white",
            "gridwidth": 2,
            "linecolor": "white",
            "showbackground": true,
            "ticks": "",
            "zerolinecolor": "white"
           },
           "zaxis": {
            "backgroundcolor": "#E5ECF6",
            "gridcolor": "white",
            "gridwidth": 2,
            "linecolor": "white",
            "showbackground": true,
            "ticks": "",
            "zerolinecolor": "white"
           }
          },
          "shapedefaults": {
           "line": {
            "color": "#2a3f5f"
           }
          },
          "ternary": {
           "aaxis": {
            "gridcolor": "white",
            "linecolor": "white",
            "ticks": ""
           },
           "baxis": {
            "gridcolor": "white",
            "linecolor": "white",
            "ticks": ""
           },
           "bgcolor": "#E5ECF6",
           "caxis": {
            "gridcolor": "white",
            "linecolor": "white",
            "ticks": ""
           }
          },
          "title": {
           "x": 0.05
          },
          "xaxis": {
           "automargin": true,
           "gridcolor": "white",
           "linecolor": "white",
           "ticks": "",
           "title": {
            "standoff": 15
           },
           "zerolinecolor": "white",
           "zerolinewidth": 2
          },
          "yaxis": {
           "automargin": true,
           "gridcolor": "white",
           "linecolor": "white",
           "ticks": "",
           "title": {
            "standoff": 15
           },
           "zerolinecolor": "white",
           "zerolinewidth": 2
          }
         }
        },
        "title": {
         "text": "Anxiety Disorders by Country"
        }
       }
      }
     },
     "metadata": {},
     "output_type": "display_data"
    }
   ],
   "source": [
    "fig = go.Figure(data=go.Choropleth(\n",
    "    locations=gap_mhealth_country['iso_code'], \n",
    "    z = gap_mhealth_country['Anxiety disorders (%)'].astype(float), \n",
    "    text = gap_mhealth_country['Entity'],\n",
    "    colorscale = 'Reds',\n",
    "    autocolorscale=False,\n",
    "    reversescale=False,\n",
    "    marker_line_color='darkgray',\n",
    "    marker_line_width=0.5,\n",
    "    colorbar_title = \"Anxiety Disorders\",\n",
    "))\n",
    "\n",
    "fig.update_layout(\n",
    "    title_text='Anxiety Disorders by Country',\n",
    "    geo = dict(\n",
    "        showland = True,\n",
    "        landcolor = \"lightgray\",\n",
    "        countrycolor = \"white\",\n",
    "        showcoastlines = True,\n",
    "        coastlinewidth = 0.5,\n",
    "        showframe = False,\n",
    "    ),\n",
    ")\n",
    "\n",
    "fig.show()"
   ]
  },
  {
   "cell_type": "code",
   "execution_count": null,
   "metadata": {},
   "outputs": [
    {
     "data": {
      "application/vnd.plotly.v1+json": {
       "config": {
        "plotlyServerURL": "https://plot.ly"
       },
       "data": [
        {
         "autocolorscale": false,
         "colorbar": {
          "title": {
           "text": "Life Expectancy"
          }
         },
         "colorscale": [
          [
           0,
           "rgb(247,251,255)"
          ],
          [
           0.125,
           "rgb(222,235,247)"
          ],
          [
           0.25,
           "rgb(198,219,239)"
          ],
          [
           0.375,
           "rgb(158,202,225)"
          ],
          [
           0.5,
           "rgb(107,174,214)"
          ],
          [
           0.625,
           "rgb(66,146,198)"
          ],
          [
           0.75,
           "rgb(33,113,181)"
          ],
          [
           0.875,
           "rgb(8,81,156)"
          ],
          [
           1,
           "rgb(8,48,107)"
          ]
         ],
         "locations": [
          "ALB",
          "DZA",
          "ARG",
          "ARM",
          "AUS",
          "AUT",
          "AZE",
          "BHS",
          "BHR",
          "BRB",
          "BLR",
          "BEL",
          "BLZ",
          null,
          "BIH",
          "BRA",
          "BGR",
          "BDI",
          "CAN",
          "CHL",
          "COL",
          "CRI",
          null,
          "HRV",
          "CYP",
          null,
          "EGY",
          "SLV",
          "EST",
          "FIN",
          "FRA",
          "GEO",
          "DEU",
          "GRC",
          "GRD",
          "GTM",
          "GIN",
          "GUY",
          "HND",
          "HUN",
          "ISL",
          "IND",
          "IRL",
          "ISR",
          "ITA",
          "JAM",
          "JPN",
          "KAZ",
          "KEN",
          "KWT",
          "LVA",
          "LTU",
          "LUX",
          "MDV",
          "MLT",
          "MUS",
          "MEX",
          null,
          "MNG",
          "MNE",
          "MAR",
          "MOZ",
          "NLD",
          "NZL",
          "NIC",
          "NOR",
          "OMN",
          "PAN",
          "PRY",
          "PHL",
          "POL",
          "PRT",
          "ROU",
          null,
          "SRB",
          "SLE",
          "SGP",
          "SVN",
          "SLB",
          null,
          "ESP",
          "SWE",
          "CHE",
          null,
          "TJK",
          "TTO",
          null,
          "UGA",
          "UKR",
          "YEM"
         ],
         "marker": {
          "line": {
           "color": "darkgray",
           "width": 0.5
          }
         },
         "reversescale": false,
         "text": [
          "Albania",
          "Algeria",
          "Argentina",
          "Armenia",
          "Australia",
          "Austria",
          "Azerbaijan",
          "Bahamas",
          "Bahrain",
          "Barbados",
          "Belarus",
          "Belgium",
          "Belize",
          "Bolivia",
          "Bosnia and Herzegovina",
          "Brazil",
          "Bulgaria",
          "Burundi",
          "Canada",
          "Chile",
          "Colombia",
          "Costa Rica",
          "Cote d'Ivoire",
          "Croatia",
          "Cyprus",
          "Czech Republic",
          "Egypt",
          "El Salvador",
          "Estonia",
          "Finland",
          "France",
          "Georgia",
          "Germany",
          "Greece",
          "Grenada",
          "Guatemala",
          "Guinea",
          "Guyana",
          "Honduras",
          "Hungary",
          "Iceland",
          "India",
          "Ireland",
          "Israel",
          "Italy",
          "Jamaica",
          "Japan",
          "Kazakhstan",
          "Kenya",
          "Kuwait",
          "Latvia",
          "Lithuania",
          "Luxembourg",
          "Maldives",
          "Malta",
          "Mauritius",
          "Mexico",
          "Moldova",
          "Mongolia",
          "Montenegro",
          "Morocco",
          "Mozambique",
          "Netherlands",
          "New Zealand",
          "Nicaragua",
          "Norway",
          "Oman",
          "Panama",
          "Paraguay",
          "Philippines",
          "Poland",
          "Portugal",
          "Romania",
          "Russia",
          "Serbia",
          "Sierra Leone",
          "Singapore",
          "Slovenia",
          "Solomon Islands",
          "South Korea",
          "Spain",
          "Sweden",
          "Switzerland",
          "Syria",
          "Tajikistan",
          "Trinidad and Tobago",
          "Turkey",
          "Uganda",
          "Ukraine",
          "Yemen"
         ],
         "type": "choropleth",
         "z": [
          76.8,
          75.60000000000001,
          75.30000000000001,
          72.375,
          81.9,
          80.1125,
          69.525,
          72.24285714285715,
          77.3,
          75.3,
          69.35000000000001,
          79.5375,
          71.10000000000001,
          71.2,
          77.72,
          73.28333333333333,
          73.06666666666666,
          60.075,
          80.66666666666667,
          78.48333333333333,
          75.85,
          79.7,
          55.15,
          76.04444444444444,
          79.925,
          76.74444444444445,
          70.2,
          73.88,
          73,
          79.4,
          80.80000000000001,
          71.91428571428571,
          79.76666666666667,
          79.93333333333334,
          70.7,
          70.55,
          56.8,
          65.07142857142857,
          72.2,
          73.71111111111111,
          82,
          64.3,
          80.1125,
          80.41428571428571,
          81.28888888888889,
          75.07142857142857,
          82.30000000000001,
          67.33333333333333,
          60.1125,
          77.64999999999999,
          71.85,
          72.53333333333333,
          80.98333333333333,
          78.3,
          81.08,
          72.75555555555556,
          75.3875,
          70.4125,
          64.65714285714286,
          75.62222222222222,
          72.9,
          53.416666666666664,
          80.32857142857142,
          80.31428571428572,
          77.2,
          80.47777777777777,
          76.1,
          77.28571428571429,
          74,
          69.81666666666666,
          75.8,
          79.05555555555556,
          73.25,
          67.1888888888889,
          74.22857142857143,
          53.3,
          80.83333333333333,
          78.32222222222222,
          61.92,
          79.89999999999999,
          81.44,
          80.92222222222222,
          82.3,
          76,
          69.61666666666666,
          71.5,
          76.5,
          55.75,
          68.2125,
          65.34
         ]
        }
       ],
       "layout": {
        "geo": {
         "coastlinewidth": 0.5,
         "countrycolor": "white",
         "landcolor": "lightgray",
         "showcoastlines": true,
         "showframe": false,
         "showland": true
        },
        "template": {
         "data": {
          "bar": [
           {
            "error_x": {
             "color": "#2a3f5f"
            },
            "error_y": {
             "color": "#2a3f5f"
            },
            "marker": {
             "line": {
              "color": "#E5ECF6",
              "width": 0.5
             },
             "pattern": {
              "fillmode": "overlay",
              "size": 10,
              "solidity": 0.2
             }
            },
            "type": "bar"
           }
          ],
          "barpolar": [
           {
            "marker": {
             "line": {
              "color": "#E5ECF6",
              "width": 0.5
             },
             "pattern": {
              "fillmode": "overlay",
              "size": 10,
              "solidity": 0.2
             }
            },
            "type": "barpolar"
           }
          ],
          "carpet": [
           {
            "aaxis": {
             "endlinecolor": "#2a3f5f",
             "gridcolor": "white",
             "linecolor": "white",
             "minorgridcolor": "white",
             "startlinecolor": "#2a3f5f"
            },
            "baxis": {
             "endlinecolor": "#2a3f5f",
             "gridcolor": "white",
             "linecolor": "white",
             "minorgridcolor": "white",
             "startlinecolor": "#2a3f5f"
            },
            "type": "carpet"
           }
          ],
          "choropleth": [
           {
            "colorbar": {
             "outlinewidth": 0,
             "ticks": ""
            },
            "type": "choropleth"
           }
          ],
          "contour": [
           {
            "colorbar": {
             "outlinewidth": 0,
             "ticks": ""
            },
            "colorscale": [
             [
              0,
              "#0d0887"
             ],
             [
              0.1111111111111111,
              "#46039f"
             ],
             [
              0.2222222222222222,
              "#7201a8"
             ],
             [
              0.3333333333333333,
              "#9c179e"
             ],
             [
              0.4444444444444444,
              "#bd3786"
             ],
             [
              0.5555555555555556,
              "#d8576b"
             ],
             [
              0.6666666666666666,
              "#ed7953"
             ],
             [
              0.7777777777777778,
              "#fb9f3a"
             ],
             [
              0.8888888888888888,
              "#fdca26"
             ],
             [
              1,
              "#f0f921"
             ]
            ],
            "type": "contour"
           }
          ],
          "contourcarpet": [
           {
            "colorbar": {
             "outlinewidth": 0,
             "ticks": ""
            },
            "type": "contourcarpet"
           }
          ],
          "heatmap": [
           {
            "colorbar": {
             "outlinewidth": 0,
             "ticks": ""
            },
            "colorscale": [
             [
              0,
              "#0d0887"
             ],
             [
              0.1111111111111111,
              "#46039f"
             ],
             [
              0.2222222222222222,
              "#7201a8"
             ],
             [
              0.3333333333333333,
              "#9c179e"
             ],
             [
              0.4444444444444444,
              "#bd3786"
             ],
             [
              0.5555555555555556,
              "#d8576b"
             ],
             [
              0.6666666666666666,
              "#ed7953"
             ],
             [
              0.7777777777777778,
              "#fb9f3a"
             ],
             [
              0.8888888888888888,
              "#fdca26"
             ],
             [
              1,
              "#f0f921"
             ]
            ],
            "type": "heatmap"
           }
          ],
          "heatmapgl": [
           {
            "colorbar": {
             "outlinewidth": 0,
             "ticks": ""
            },
            "colorscale": [
             [
              0,
              "#0d0887"
             ],
             [
              0.1111111111111111,
              "#46039f"
             ],
             [
              0.2222222222222222,
              "#7201a8"
             ],
             [
              0.3333333333333333,
              "#9c179e"
             ],
             [
              0.4444444444444444,
              "#bd3786"
             ],
             [
              0.5555555555555556,
              "#d8576b"
             ],
             [
              0.6666666666666666,
              "#ed7953"
             ],
             [
              0.7777777777777778,
              "#fb9f3a"
             ],
             [
              0.8888888888888888,
              "#fdca26"
             ],
             [
              1,
              "#f0f921"
             ]
            ],
            "type": "heatmapgl"
           }
          ],
          "histogram": [
           {
            "marker": {
             "pattern": {
              "fillmode": "overlay",
              "size": 10,
              "solidity": 0.2
             }
            },
            "type": "histogram"
           }
          ],
          "histogram2d": [
           {
            "colorbar": {
             "outlinewidth": 0,
             "ticks": ""
            },
            "colorscale": [
             [
              0,
              "#0d0887"
             ],
             [
              0.1111111111111111,
              "#46039f"
             ],
             [
              0.2222222222222222,
              "#7201a8"
             ],
             [
              0.3333333333333333,
              "#9c179e"
             ],
             [
              0.4444444444444444,
              "#bd3786"
             ],
             [
              0.5555555555555556,
              "#d8576b"
             ],
             [
              0.6666666666666666,
              "#ed7953"
             ],
             [
              0.7777777777777778,
              "#fb9f3a"
             ],
             [
              0.8888888888888888,
              "#fdca26"
             ],
             [
              1,
              "#f0f921"
             ]
            ],
            "type": "histogram2d"
           }
          ],
          "histogram2dcontour": [
           {
            "colorbar": {
             "outlinewidth": 0,
             "ticks": ""
            },
            "colorscale": [
             [
              0,
              "#0d0887"
             ],
             [
              0.1111111111111111,
              "#46039f"
             ],
             [
              0.2222222222222222,
              "#7201a8"
             ],
             [
              0.3333333333333333,
              "#9c179e"
             ],
             [
              0.4444444444444444,
              "#bd3786"
             ],
             [
              0.5555555555555556,
              "#d8576b"
             ],
             [
              0.6666666666666666,
              "#ed7953"
             ],
             [
              0.7777777777777778,
              "#fb9f3a"
             ],
             [
              0.8888888888888888,
              "#fdca26"
             ],
             [
              1,
              "#f0f921"
             ]
            ],
            "type": "histogram2dcontour"
           }
          ],
          "mesh3d": [
           {
            "colorbar": {
             "outlinewidth": 0,
             "ticks": ""
            },
            "type": "mesh3d"
           }
          ],
          "parcoords": [
           {
            "line": {
             "colorbar": {
              "outlinewidth": 0,
              "ticks": ""
             }
            },
            "type": "parcoords"
           }
          ],
          "pie": [
           {
            "automargin": true,
            "type": "pie"
           }
          ],
          "scatter": [
           {
            "fillpattern": {
             "fillmode": "overlay",
             "size": 10,
             "solidity": 0.2
            },
            "type": "scatter"
           }
          ],
          "scatter3d": [
           {
            "line": {
             "colorbar": {
              "outlinewidth": 0,
              "ticks": ""
             }
            },
            "marker": {
             "colorbar": {
              "outlinewidth": 0,
              "ticks": ""
             }
            },
            "type": "scatter3d"
           }
          ],
          "scattercarpet": [
           {
            "marker": {
             "colorbar": {
              "outlinewidth": 0,
              "ticks": ""
             }
            },
            "type": "scattercarpet"
           }
          ],
          "scattergeo": [
           {
            "marker": {
             "colorbar": {
              "outlinewidth": 0,
              "ticks": ""
             }
            },
            "type": "scattergeo"
           }
          ],
          "scattergl": [
           {
            "marker": {
             "colorbar": {
              "outlinewidth": 0,
              "ticks": ""
             }
            },
            "type": "scattergl"
           }
          ],
          "scattermapbox": [
           {
            "marker": {
             "colorbar": {
              "outlinewidth": 0,
              "ticks": ""
             }
            },
            "type": "scattermapbox"
           }
          ],
          "scatterpolar": [
           {
            "marker": {
             "colorbar": {
              "outlinewidth": 0,
              "ticks": ""
             }
            },
            "type": "scatterpolar"
           }
          ],
          "scatterpolargl": [
           {
            "marker": {
             "colorbar": {
              "outlinewidth": 0,
              "ticks": ""
             }
            },
            "type": "scatterpolargl"
           }
          ],
          "scatterternary": [
           {
            "marker": {
             "colorbar": {
              "outlinewidth": 0,
              "ticks": ""
             }
            },
            "type": "scatterternary"
           }
          ],
          "surface": [
           {
            "colorbar": {
             "outlinewidth": 0,
             "ticks": ""
            },
            "colorscale": [
             [
              0,
              "#0d0887"
             ],
             [
              0.1111111111111111,
              "#46039f"
             ],
             [
              0.2222222222222222,
              "#7201a8"
             ],
             [
              0.3333333333333333,
              "#9c179e"
             ],
             [
              0.4444444444444444,
              "#bd3786"
             ],
             [
              0.5555555555555556,
              "#d8576b"
             ],
             [
              0.6666666666666666,
              "#ed7953"
             ],
             [
              0.7777777777777778,
              "#fb9f3a"
             ],
             [
              0.8888888888888888,
              "#fdca26"
             ],
             [
              1,
              "#f0f921"
             ]
            ],
            "type": "surface"
           }
          ],
          "table": [
           {
            "cells": {
             "fill": {
              "color": "#EBF0F8"
             },
             "line": {
              "color": "white"
             }
            },
            "header": {
             "fill": {
              "color": "#C8D4E3"
             },
             "line": {
              "color": "white"
             }
            },
            "type": "table"
           }
          ]
         },
         "layout": {
          "annotationdefaults": {
           "arrowcolor": "#2a3f5f",
           "arrowhead": 0,
           "arrowwidth": 1
          },
          "autotypenumbers": "strict",
          "coloraxis": {
           "colorbar": {
            "outlinewidth": 0,
            "ticks": ""
           }
          },
          "colorscale": {
           "diverging": [
            [
             0,
             "#8e0152"
            ],
            [
             0.1,
             "#c51b7d"
            ],
            [
             0.2,
             "#de77ae"
            ],
            [
             0.3,
             "#f1b6da"
            ],
            [
             0.4,
             "#fde0ef"
            ],
            [
             0.5,
             "#f7f7f7"
            ],
            [
             0.6,
             "#e6f5d0"
            ],
            [
             0.7,
             "#b8e186"
            ],
            [
             0.8,
             "#7fbc41"
            ],
            [
             0.9,
             "#4d9221"
            ],
            [
             1,
             "#276419"
            ]
           ],
           "sequential": [
            [
             0,
             "#0d0887"
            ],
            [
             0.1111111111111111,
             "#46039f"
            ],
            [
             0.2222222222222222,
             "#7201a8"
            ],
            [
             0.3333333333333333,
             "#9c179e"
            ],
            [
             0.4444444444444444,
             "#bd3786"
            ],
            [
             0.5555555555555556,
             "#d8576b"
            ],
            [
             0.6666666666666666,
             "#ed7953"
            ],
            [
             0.7777777777777778,
             "#fb9f3a"
            ],
            [
             0.8888888888888888,
             "#fdca26"
            ],
            [
             1,
             "#f0f921"
            ]
           ],
           "sequentialminus": [
            [
             0,
             "#0d0887"
            ],
            [
             0.1111111111111111,
             "#46039f"
            ],
            [
             0.2222222222222222,
             "#7201a8"
            ],
            [
             0.3333333333333333,
             "#9c179e"
            ],
            [
             0.4444444444444444,
             "#bd3786"
            ],
            [
             0.5555555555555556,
             "#d8576b"
            ],
            [
             0.6666666666666666,
             "#ed7953"
            ],
            [
             0.7777777777777778,
             "#fb9f3a"
            ],
            [
             0.8888888888888888,
             "#fdca26"
            ],
            [
             1,
             "#f0f921"
            ]
           ]
          },
          "colorway": [
           "#636efa",
           "#EF553B",
           "#00cc96",
           "#ab63fa",
           "#FFA15A",
           "#19d3f3",
           "#FF6692",
           "#B6E880",
           "#FF97FF",
           "#FECB52"
          ],
          "font": {
           "color": "#2a3f5f"
          },
          "geo": {
           "bgcolor": "white",
           "lakecolor": "white",
           "landcolor": "#E5ECF6",
           "showlakes": true,
           "showland": true,
           "subunitcolor": "white"
          },
          "hoverlabel": {
           "align": "left"
          },
          "hovermode": "closest",
          "mapbox": {
           "style": "light"
          },
          "paper_bgcolor": "white",
          "plot_bgcolor": "#E5ECF6",
          "polar": {
           "angularaxis": {
            "gridcolor": "white",
            "linecolor": "white",
            "ticks": ""
           },
           "bgcolor": "#E5ECF6",
           "radialaxis": {
            "gridcolor": "white",
            "linecolor": "white",
            "ticks": ""
           }
          },
          "scene": {
           "xaxis": {
            "backgroundcolor": "#E5ECF6",
            "gridcolor": "white",
            "gridwidth": 2,
            "linecolor": "white",
            "showbackground": true,
            "ticks": "",
            "zerolinecolor": "white"
           },
           "yaxis": {
            "backgroundcolor": "#E5ECF6",
            "gridcolor": "white",
            "gridwidth": 2,
            "linecolor": "white",
            "showbackground": true,
            "ticks": "",
            "zerolinecolor": "white"
           },
           "zaxis": {
            "backgroundcolor": "#E5ECF6",
            "gridcolor": "white",
            "gridwidth": 2,
            "linecolor": "white",
            "showbackground": true,
            "ticks": "",
            "zerolinecolor": "white"
           }
          },
          "shapedefaults": {
           "line": {
            "color": "#2a3f5f"
           }
          },
          "ternary": {
           "aaxis": {
            "gridcolor": "white",
            "linecolor": "white",
            "ticks": ""
           },
           "baxis": {
            "gridcolor": "white",
            "linecolor": "white",
            "ticks": ""
           },
           "bgcolor": "#E5ECF6",
           "caxis": {
            "gridcolor": "white",
            "linecolor": "white",
            "ticks": ""
           }
          },
          "title": {
           "x": 0.05
          },
          "xaxis": {
           "automargin": true,
           "gridcolor": "white",
           "linecolor": "white",
           "ticks": "",
           "title": {
            "standoff": 15
           },
           "zerolinecolor": "white",
           "zerolinewidth": 2
          },
          "yaxis": {
           "automargin": true,
           "gridcolor": "white",
           "linecolor": "white",
           "ticks": "",
           "title": {
            "standoff": 15
           },
           "zerolinecolor": "white",
           "zerolinewidth": 2
          }
         }
        },
        "title": {
         "text": "Life Expectancy by Country"
        }
       }
      }
     },
     "metadata": {},
     "output_type": "display_data"
    }
   ],
   "source": [
    "# Assuming gap_mhealth is your DataFrame\n",
    "gap_mhealth_country = gap_mhealth.groupby('Entity')['life_expectancy'].mean().reset_index()\n",
    "\n",
    "# Create a new column with ISO codes\n",
    "def get_iso_code(country_name):\n",
    "    country = pycountry.countries.get(name=country_name)\n",
    "    return country.alpha_3 if country else None\n",
    "\n",
    "gap_mhealth_country['iso_code'] = gap_mhealth_country['Entity'].apply(get_iso_code)\n",
    "\n",
    "# Create the choropleth map\n",
    "fig = go.Figure(data=go.Choropleth(\n",
    "    locations=gap_mhealth_country['iso_code'], \n",
    "    z = gap_mhealth_country['life_expectancy'].astype(float), \n",
    "    text = gap_mhealth_country['Entity'],\n",
    "    colorscale = 'Blues',\n",
    "    autocolorscale=False,\n",
    "    reversescale=False,\n",
    "    marker_line_color='darkgray',\n",
    "    marker_line_width=0.5,\n",
    "    colorbar_title = \"Life Expectancy\",\n",
    "))\n",
    "\n",
    "fig.update_layout(\n",
    "    title_text='Life Expectancy by Country',\n",
    "    geo = dict(\n",
    "        showland = True,\n",
    "        landcolor = \"lightgray\",\n",
    "        countrycolor = \"white\",\n",
    "        showcoastlines = True,\n",
    "        coastlinewidth = 0.5,\n",
    "        showframe = False,\n",
    "    ),\n",
    ")\n",
    "\n",
    "fig.show()\n"
   ]
  },
  {
   "cell_type": "code",
   "execution_count": 17,
   "metadata": {},
   "outputs": [],
   "source": [
    "graph3_corr = gap_mhealth['Sexual Violence Rate'].corr(gap_mhealth['Alcohol use disorders (%)'])\n",
    "\n",
    "graph1_corr = gap_mhealth['Sexual Violence Rate'].corr(gap_mhealth['population'])\n",
    "\n",
    "graph2_corr = gap_mhealth['Sexual Violence Rate'].corr(gap_mhealth['Year'])\n",
    "\n",
    "\n",
    "#corr for infant mortality rate and depression\n",
    "graph4_corr = gap_mhealth['infant_mortality'].corr(gap_mhealth['Depression (%)'])\n",
    "\n",
    "\n"
   ]
  },
  {
   "cell_type": "code",
   "execution_count": 18,
   "metadata": {},
   "outputs": [
    {
     "data": {
      "text/plain": [
       "<AxesSubplot: xlabel='Depression (%)', ylabel='infant_mortality'>"
      ]
     },
     "execution_count": 18,
     "metadata": {},
     "output_type": "execute_result"
    },
    {
     "data": {
      "image/png": "[encoded data removed]",
      "text/plain": [
       "<Figure size 640x480 with 1 Axes>"
      ]
     },
     "metadata": {},
     "output_type": "display_data"
    }
   ],
   "source": [
    "#graph for infant mortality rate and depression\n",
    "\n",
    "sb.scatterplot(x='Depression (%)', y='infant_mortality',hue='continent', data=gap_mhealth)"
   ]
  },
  {
   "cell_type": "code",
   "execution_count": 21,
   "metadata": {},
   "outputs": [
    {
     "name": "stdout",
     "output_type": "stream",
     "text": [
      "count    5.630000e+02\n",
      "mean     3.793300e+07\n",
      "std      1.332379e+08\n",
      "min      1.029510e+05\n",
      "25%      3.038362e+06\n",
      "50%      8.763359e+06\n",
      "75%      3.199285e+07\n",
      "max      1.230985e+09\n",
      "Name: population, dtype: float64\n",
      "count    563.000000\n",
      "mean      30.460904\n",
      "std       35.374091\n",
      "min        0.000000\n",
      "25%        6.917979\n",
      "50%       16.512905\n",
      "75%       42.538513\n",
      "max      205.577490\n",
      "Name: Sexual Violence Rate, dtype: float64\n",
      "count    563.000000\n",
      "mean       1.921364\n",
      "std        1.136488\n",
      "min        0.450590\n",
      "25%        1.269433\n",
      "50%        1.709994\n",
      "75%        2.134006\n",
      "max        5.461357\n",
      "Name: Alcohol use disorders (%), dtype: float64\n"
     ]
    }
   ],
   "source": [
    "#Other basic descriptive statistics- mean, mode, etc. of population, sexual violence rate, alcohol use disorders\n",
    "\n",
    "print(gap_mhealth['population'].describe())\n",
    "print(gap_mhealth['Sexual Violence Rate'].describe())\n",
    "print(gap_mhealth['Alcohol use disorders (%)'].describe())\n"
   ]
  },
  {
   "cell_type": "code",
   "execution_count": 38,
   "metadata": {},
   "outputs": [
    {
     "data": {
      "image/png": "[encoded data removed]",
      "text/plain": [
       "<Figure size 640x480 with 1 Axes>"
      ]
     },
     "metadata": {},
     "output_type": "display_data"
    }
   ],
   "source": [
    "#Graph of mean population per country\n",
    "import matplotlib.pyplot as plt\n",
    "\n",
    "mean_population = gap_mhealth.groupby('Entity')['population'].mean().reset_index()\n",
    "top_10_countries = mean_population.sort_values(by=['population'], ascending=False).head(10)\n",
    "#plt.figure(figsize=(10, 6))  # Adjust figure size as needed\n",
    "sb.barplot(x='Entity', y='population', data=top_10_countries)\n",
    "plt.title('Mean Population of top 10 countries')\n",
    "plt.xlabel('Country')\n",
    "plt.ylabel('Mean Population')\n",
    "plt.xticks(rotation=45)  # Rotate x-axis labels for better readability\n",
    "plt.tight_layout()\n",
    "plt.show()"
   ]
  },
  {
   "cell_type": "code",
   "execution_count": 40,
   "metadata": {},
   "outputs": [
    {
     "data": {
      "image/png": "[encoded data removed]",
      "text/plain": [
       "<Figure size 640x480 with 1 Axes>"
      ]
     },
     "metadata": {},
     "output_type": "display_data"
    }
   ],
   "source": [
    "#graph of mean sexual violence rate per country\n",
    "mean_sexual_violence_rate = gap_mhealth.groupby('Entity')['Sexual Violence Rate'].mean().reset_index()\n",
    "top_10_rate = mean_sexual_violence_rate.sort_values(by=['Sexual Violence Rate'], ascending=False).head(10)\n",
    "#plt.figure(figsize=(10, 6))  # Adjust figure size as needed\n",
    "sb.barplot(x='Entity', y='Sexual Violence Rate', data=top_10_rate)\n",
    "plt.title('Mean Sexual Violence Rate of top 10 countries')\n",
    "plt.xlabel('Country')\n",
    "plt.ylabel('Mean Sexual Violence Rate')\n",
    "plt.xticks(rotation=45)  # Rotate x-axis labels for better readability\n",
    "plt.tight_layout()\n",
    "plt.show()"
   ]
  },
  {
   "cell_type": "code",
   "execution_count": 51,
   "metadata": {},
   "outputs": [
    {
     "data": {
      "image/png": "[encoded data removed]",
      "text/plain": [
       "<Figure size 640x480 with 1 Axes>"
      ]
     },
     "metadata": {},
     "output_type": "display_data"
    }
   ],
   "source": [
    "#graph of mean sexual violence rate per country\n",
    "mean_alcohol_use_disorders = gap_mhealth.groupby('Entity')['Alcohol use disorders (%)'].mean().reset_index()\n",
    "top_10_alcohol = mean_alcohol_use_disorders.sort_values(by=['Alcohol use disorders (%)'], ascending=False).head(10)\n",
    "#plt.figure(figsize=(8, 6))  # Adjust figure size as needed\n",
    "sb.barplot(x='Entity', y='Alcohol use disorders (%)', data=top_10_alcohol)\n",
    "plt.title('Mean Alcohol use disorder percentages of top 10 countries')\n",
    "plt.xlabel('Country')\n",
    "plt.ylabel('Mean Alcohol use disorder percentages')\n",
    "plt.xticks(rotation=90)  # Rotate x-axis labels for better readability\n",
    "plt.tight_layout()\n",
    "plt.show()\n"
   ]
  }
 ],
 "metadata": {
  "kernelspec": {
   "display_name": "venv",
   "language": "python",
   "name": "python3"
  },
  "language_info": {
   "codemirror_mode": {
    "name": "ipython",
    "version": 3
   },
   "file_extension": ".py",
   "mimetype": "text/x-python",
   "name": "python",
   "nbconvert_exporter": "python",
   "pygments_lexer": "ipython3",
   "version": "3.11.1"
  }
 },
 "nbformat": 4,
 "nbformat_minor": 2
}
